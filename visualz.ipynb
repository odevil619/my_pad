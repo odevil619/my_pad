{
 "cells": [
  {
   "cell_type": "code",
   "execution_count": 14,
   "id": "388006d8",
   "metadata": {},
   "outputs": [],
   "source": [
    "import pandas as pd\n",
    "winedata=pd.read_csv('winequality-red.csv')"
   ]
  },
  {
   "cell_type": "code",
   "execution_count": 23,
   "id": "13a12367",
   "metadata": {},
   "outputs": [
    {
     "data": {
      "text/html": [
       "<div>\n",
       "<style scoped>\n",
       "    .dataframe tbody tr th:only-of-type {\n",
       "        vertical-align: middle;\n",
       "    }\n",
       "\n",
       "    .dataframe tbody tr th {\n",
       "        vertical-align: top;\n",
       "    }\n",
       "\n",
       "    .dataframe thead th {\n",
       "        text-align: right;\n",
       "    }\n",
       "</style>\n",
       "<table border=\"1\" class=\"dataframe\">\n",
       "  <thead>\n",
       "    <tr style=\"text-align: right;\">\n",
       "      <th></th>\n",
       "      <th>fixed acidity</th>\n",
       "      <th>volatile acidity</th>\n",
       "      <th>citric acid</th>\n",
       "      <th>residual sugar</th>\n",
       "      <th>chlorides</th>\n",
       "      <th>free sulfur dioxide</th>\n",
       "      <th>total sulfur dioxide</th>\n",
       "      <th>density</th>\n",
       "      <th>pH</th>\n",
       "      <th>sulphates</th>\n",
       "      <th>alcohol</th>\n",
       "      <th>quality</th>\n",
       "    </tr>\n",
       "  </thead>\n",
       "  <tbody>\n",
       "    <tr>\n",
       "      <th>0</th>\n",
       "      <td>7.4</td>\n",
       "      <td>0.70</td>\n",
       "      <td>0.00</td>\n",
       "      <td>1.9</td>\n",
       "      <td>0.076</td>\n",
       "      <td>11.0</td>\n",
       "      <td>34.0</td>\n",
       "      <td>0.9978</td>\n",
       "      <td>3.51</td>\n",
       "      <td>0.56</td>\n",
       "      <td>9.4</td>\n",
       "      <td>5</td>\n",
       "    </tr>\n",
       "    <tr>\n",
       "      <th>1</th>\n",
       "      <td>7.8</td>\n",
       "      <td>0.88</td>\n",
       "      <td>0.00</td>\n",
       "      <td>2.6</td>\n",
       "      <td>0.098</td>\n",
       "      <td>25.0</td>\n",
       "      <td>67.0</td>\n",
       "      <td>0.9968</td>\n",
       "      <td>3.20</td>\n",
       "      <td>0.68</td>\n",
       "      <td>9.8</td>\n",
       "      <td>5</td>\n",
       "    </tr>\n",
       "    <tr>\n",
       "      <th>2</th>\n",
       "      <td>7.8</td>\n",
       "      <td>0.76</td>\n",
       "      <td>0.04</td>\n",
       "      <td>2.3</td>\n",
       "      <td>0.092</td>\n",
       "      <td>15.0</td>\n",
       "      <td>54.0</td>\n",
       "      <td>0.9970</td>\n",
       "      <td>3.26</td>\n",
       "      <td>0.65</td>\n",
       "      <td>9.8</td>\n",
       "      <td>5</td>\n",
       "    </tr>\n",
       "    <tr>\n",
       "      <th>3</th>\n",
       "      <td>11.2</td>\n",
       "      <td>0.28</td>\n",
       "      <td>0.56</td>\n",
       "      <td>1.9</td>\n",
       "      <td>0.075</td>\n",
       "      <td>17.0</td>\n",
       "      <td>60.0</td>\n",
       "      <td>0.9980</td>\n",
       "      <td>3.16</td>\n",
       "      <td>0.58</td>\n",
       "      <td>9.8</td>\n",
       "      <td>6</td>\n",
       "    </tr>\n",
       "    <tr>\n",
       "      <th>4</th>\n",
       "      <td>7.4</td>\n",
       "      <td>0.70</td>\n",
       "      <td>0.00</td>\n",
       "      <td>1.9</td>\n",
       "      <td>0.076</td>\n",
       "      <td>11.0</td>\n",
       "      <td>34.0</td>\n",
       "      <td>0.9978</td>\n",
       "      <td>3.51</td>\n",
       "      <td>0.56</td>\n",
       "      <td>9.4</td>\n",
       "      <td>5</td>\n",
       "    </tr>\n",
       "  </tbody>\n",
       "</table>\n",
       "</div>"
      ],
      "text/plain": [
       "   fixed acidity  volatile acidity  citric acid  residual sugar  chlorides  \\\n",
       "0            7.4              0.70         0.00             1.9      0.076   \n",
       "1            7.8              0.88         0.00             2.6      0.098   \n",
       "2            7.8              0.76         0.04             2.3      0.092   \n",
       "3           11.2              0.28         0.56             1.9      0.075   \n",
       "4            7.4              0.70         0.00             1.9      0.076   \n",
       "\n",
       "   free sulfur dioxide  total sulfur dioxide  density    pH  sulphates  \\\n",
       "0                 11.0                  34.0   0.9978  3.51       0.56   \n",
       "1                 25.0                  67.0   0.9968  3.20       0.68   \n",
       "2                 15.0                  54.0   0.9970  3.26       0.65   \n",
       "3                 17.0                  60.0   0.9980  3.16       0.58   \n",
       "4                 11.0                  34.0   0.9978  3.51       0.56   \n",
       "\n",
       "   alcohol  quality  \n",
       "0      9.4        5  \n",
       "1      9.8        5  \n",
       "2      9.8        5  \n",
       "3      9.8        6  \n",
       "4      9.4        5  "
      ]
     },
     "execution_count": 23,
     "metadata": {},
     "output_type": "execute_result"
    }
   ],
   "source": [
    "winedata.head()"
   ]
  },
  {
   "cell_type": "code",
   "execution_count": 22,
   "id": "0ac26d82",
   "metadata": {},
   "outputs": [
    {
     "data": {
      "text/plain": [
       "(1599, 12)"
      ]
     },
     "execution_count": 22,
     "metadata": {},
     "output_type": "execute_result"
    }
   ],
   "source": [
    "winedata.shape"
   ]
  },
  {
   "cell_type": "code",
   "execution_count": 35,
   "id": "9519855e",
   "metadata": {},
   "outputs": [
    {
     "data": {
      "text/plain": [
       "array([[<AxesSubplot:title={'center':'fixed acidity'}>,\n",
       "        <AxesSubplot:title={'center':'volatile acidity'}>,\n",
       "        <AxesSubplot:title={'center':'citric acid'}>],\n",
       "       [<AxesSubplot:title={'center':'residual sugar'}>,\n",
       "        <AxesSubplot:title={'center':'chlorides'}>,\n",
       "        <AxesSubplot:title={'center':'free sulfur dioxide'}>],\n",
       "       [<AxesSubplot:title={'center':'total sulfur dioxide'}>,\n",
       "        <AxesSubplot:title={'center':'density'}>,\n",
       "        <AxesSubplot:title={'center':'pH'}>],\n",
       "       [<AxesSubplot:title={'center':'sulphates'}>,\n",
       "        <AxesSubplot:title={'center':'alcohol'}>,\n",
       "        <AxesSubplot:title={'center':'quality'}>]], dtype=object)"
      ]
     },
     "execution_count": 35,
     "metadata": {},
     "output_type": "execute_result"
    },
    {
     "data": {
      "image/png": "[encoded data removed]",
      "text/plain": [
       "<Figure size 1224x720 with 12 Axes>"
      ]
     },
     "metadata": {
      "needs_background": "light"
     },
     "output_type": "display_data"
    }
   ],
   "source": [
    "#checking with histogram if our data is normally distributed\n",
    "import matplotlib\n",
    "from matplotlib import pyplot as plt\n",
    "%matplotlib inline\n",
    "#plt.figure(figsize=(14,6))\n",
    "winedata.hist(figsize=(17,10))"
   ]
  },
  {
   "cell_type": "code",
   "execution_count": 36,
   "id": "7456e4c5",
   "metadata": {},
   "outputs": [],
   "source": [
    "#from figure we can see that data that is symmetricaaly distributed is normally distribited ex- 'pH'\n",
    "# while 'volatile acidity' is skewed to left so its not normally dist"
   ]
  },
  {
   "cell_type": "code",
   "execution_count": 40,
   "id": "f9e5baad",
   "metadata": {},
   "outputs": [
    {
     "name": "stdout",
     "output_type": "stream",
     "text": [
      "stat=0.97,p=0.000000000000000268680677283857\n",
      "Not a normal distribution\n"
     ]
    }
   ],
   "source": [
    "# now we will try to prove this by using p-value\n",
    "from scipy.stats import shapiro                    #shapiro is used to find pvalue\n",
    "\n",
    "DataTest = winedata['volatile acidity']\n",
    "stat, p= shapiro(DataTest)\n",
    "print('stat=%.2f,p=%.30f'%(stat,p))\n",
    "\n",
    "if p>0.05:\n",
    "    print(\"normally dist\")\n",
    "else:\n",
    "    print('Not a normal distribution')"
   ]
  },
  {
   "cell_type": "code",
   "execution_count": 60,
   "id": "05d97bbd",
   "metadata": {},
   "outputs": [
    {
     "data": {
      "text/plain": [
       "array([ 1.53161338, -0.16839092,  0.16784219,  0.96384626,  0.74249419,\n",
       "        0.49979525, -0.32767171,  1.90529759, -0.89846232,  0.13162971,\n",
       "       -0.34076242,  0.05086006, -1.40160713,  0.03605138, -0.82419205,\n",
       "       -0.59212538,  2.36966956, -0.16375118,  0.35094195,  0.66845087,\n",
       "        0.55906639,  1.54763483,  0.40058149, -1.90052951, -1.8099827 ,\n",
       "       -0.88476292,  0.13976815,  0.77120063, -1.52473477,  1.15189585,\n",
       "        1.00587841, -0.09215763, -0.08773736, -0.43897071, -0.25642497,\n",
       "        1.2487354 ,  0.5481248 , -0.71089633, -0.09605778,  0.41756229,\n",
       "        0.29654506, -1.61458963,  0.04998097,  0.73788804, -0.31148118,\n",
       "        1.07875671, -1.28472314, -0.54698914,  1.77885834,  0.43574401,\n",
       "        1.25328526, -1.33435796, -0.06606427, -0.39410808, -0.55102302,\n",
       "        0.37530932,  0.76111661, -0.94165674, -0.40937512,  2.39361387,\n",
       "        1.10238764, -0.73904133, -0.81836129,  1.01680275, -1.11997435,\n",
       "       -0.71286092,  1.89031608, -0.044385  , -0.66620647, -0.41195171,\n",
       "       -0.83498236, -0.79631206, -0.30586157, -0.17069886,  1.54093205,\n",
       "       -0.42951252, -1.73914021, -0.46099434,  0.01858098,  0.18625024,\n",
       "       -0.729507  , -0.90944064, -1.53247965,  0.37656662, -0.32321247,\n",
       "       -2.02295269,  0.47119637, -0.42209075,  0.20275642, -1.44185175,\n",
       "        0.42125501,  1.77558221,  0.37478101,  1.13216253, -0.01137984,\n",
       "        0.75443954,  1.65075925, -0.11746269, -0.35501763,  2.47517587])"
      ]
     },
     "execution_count": 60,
     "metadata": {},
     "output_type": "execute_result"
    }
   ],
   "source": [
    "#lets geneate random data from numpy and then check it if its normally dist\n",
    "import numpy as np\n",
    "\n",
    "data=np.random.randn(100)\n",
    "data"
   ]
  },
  {
   "cell_type": "code",
   "execution_count": 61,
   "id": "e3292c46",
   "metadata": {},
   "outputs": [
    {
     "name": "stdout",
     "output_type": "stream",
     "text": [
      "stat=0.99,p=0.354000389575958251953125000000\n",
      "normally distributed\n"
     ]
    }
   ],
   "source": [
    "stat, p=shapiro(data)\n",
    "print('stat=%.2f,p=%.30f' % (stat,p))\n",
    "if p >0.05:\n",
    "    print('normally distributed')\n",
    "else:\n",
    "    print('Not a normal distribution')"
   ]
  },
  {
   "cell_type": "code",
   "execution_count": null,
   "id": "91adbb8e",
   "metadata": {},
   "outputs": [],
   "source": []
  },
  {
   "cell_type": "code",
   "execution_count": null,
   "id": "efef018d",
   "metadata": {},
   "outputs": [],
   "source": []
  },
  {
   "cell_type": "code",
   "execution_count": null,
   "id": "e5833025",
   "metadata": {},
   "outputs": [],
   "source": []
  }
 ],
 "metadata": {
  "kernelspec": {
   "display_name": "Python 3 (ipykernel)",
   "language": "python",
   "name": "python3"
  },
  "language_info": {
   "codemirror_mode": {
    "name": "ipython",
    "version": 3
   },
   "file_extension": ".py",
   "mimetype": "text/x-python",
   "name": "python",
   "nbconvert_exporter": "python",
   "pygments_lexer": "ipython3",
   "version": "3.9.7"
  }
 },
 "nbformat": 4,
 "nbformat_minor": 5
}
