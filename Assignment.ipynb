{
 "cells": [
  {
   "cell_type": "code",
   "execution_count": 1,
   "id": "ffc39dd7",
   "metadata": {},
   "outputs": [],
   "source": [
    "def swap(filename,word1,word2):\n",
    "    file=open(\"\",\"a\")\n",
    "    "
   ]
  },
  {
   "cell_type": "code",
   "execution_count": 17,
   "id": "fb90f330",
   "metadata": {},
   "outputs": [
    {
     "ename": "SyntaxError",
     "evalue": "closing parenthesis ']' does not match opening parenthesis '(' (692317295.py, line 5)",
     "output_type": "error",
     "traceback": [
      "\u001b[0;36m  File \u001b[0;32m\"/tmp/ipykernel_11245/692317295.py\"\u001b[0;36m, line \u001b[0;32m5\u001b[0m\n\u001b[0;31m    print(i('Adarniya')])\u001b[0m\n\u001b[0m                       ^\u001b[0m\n\u001b[0;31mSyntaxError\u001b[0m\u001b[0;31m:\u001b[0m closing parenthesis ']' does not match opening parenthesis '('\n"
     ]
    }
   ],
   "source": [
    "file=open(\"/home/o2bhai/Desktop/chatur.txt\",'r')\n",
    "for i in file:\n",
    "    print(i.split(' '))\n",
    "    if word in i:\n",
    "        for j in i:\n",
    "            if word==j:\n",
    "                pr"
   ]
  },
  {
   "cell_type": "code",
   "execution_count": null,
   "id": "e9f98b92",
   "metadata": {},
   "outputs": [],
   "source": [
    "# V1"
   ]
  },
  {
   "cell_type": "code",
   "execution_count": 9,
   "id": "09081ab0",
   "metadata": {},
   "outputs": [
    {
     "name": "stdout",
     "output_type": "stream",
     "text": [
      "1\n"
     ]
    }
   ],
   "source": [
    "if 'one' in 'oneful':\n",
    "    print(1)"
   ]
  },
  {
   "cell_type": "code",
   "execution_count": 19,
   "id": "cdae9f99",
   "metadata": {},
   "outputs": [],
   "source": [
    "def swap(txtpath,word,gvnword):\n",
    "    file=open(txtpath,'r')\n",
    "    for i in file:\n",
    "        #print(i.split(' '))\n",
    "        if word in i:\n",
    "            a=i.replace(word,gvnword)\n",
    "    return a"
   ]
  },
  {
   "cell_type": "code",
   "execution_count": 21,
   "id": "4ae8f063",
   "metadata": {},
   "outputs": [
    {
     "name": "stdout",
     "output_type": "stream",
     "text": [
      "['Adarniya', 'sabhapati', 'mahodaya', '…atithi', 'vishesh', 'shikshan', 'mantri', 'shri', 'R', 'D', 'tripati', '[tripathi]', 'ji', '..maanyaniya', 'shikshagan', 'aur', 'mere', 'piyaaare', '[pyare]', 'sahpatiyo', '[sahapathiyon]\\n']\n",
      "['…aaj', 'agar', 'I.C.E', 'aasmaan', 'ki', 'bulaaandiyo', '[bulandiyon]', 'ko', 'chhu', 'raahaa', '[raha]', 'hai', '..to', 'uska', 'shreya', 'sirrf', '[sirf]', 'ekinsaan', '[ek', 'insaan]', 'ko', 'jaataahai', '[jata', 'hai]', 'shri', 'veerusahastra', 'buddhe', '..give', 'him', 'a', 'big', 'hand', '..he', 'is', 'a', 'great', 'guy', 'really', '..\\n']\n",
      "['Peechle', 'buttis', 'saal', 'se', 'inhone', 'nirantar', 'is', 'college', 'mein', 'balatkar', '[balaatkaar]', 'pe', 'balatkar', 'kiye', '..umeed', 'hai', 'aagey', 'bee', '[bhi]', 'karte', 'rahege', '[rahenge]', '..hamine', 'to', 'aashcharya', 'hota', 'hai', 'ki', 'ek', 'insaan', 'apne', 'jeevan', 'kaal', 'mein', 'itni', 'balatkar', 'kaisi', 'kar', 'sakta', 'hai', '…inhone', 'kadi', 'tapaasya', 'se', 'apne', 'aapko', 'is', 'kaabil', 'bunaya', '[banaya]', 'hai', '..waqt', 'ka', 'sahi', 'upyog', 'ghante', 'ka', 'purna', 'istemaal', 'koi', 'inse', 'seeke', '[seekhe]..seeke', 'inse', 'seeke', '….aaj', 'hum', 'sab', 'chaatra', 'yaha', 'hai', '..kal', 'desh', 'videsh', 'mein', 'fail', '[faael]', 'jayenge', '..waadaa', 'hai', 'aapse', 'jis', 'desh', 'mein', 'honge', 'waha', 'balatkar', 'karenge', 'I.C.E', 'ka', 'naam', 'roshan', 'karenge', '…dika', '[dikha]', 'denge', 'sabko', 'jo', 'balatkar', 'Karne', 'ki', 'shamtaa', 'yaha', 'ke', 'chaatro', 'mein', 'hai', 'wo', 'sansaar', 'ke', 'kisi', 'chaatro', 'mein', 'nahiii', '….No', 'other', 'chaatra', 'No', 'other', 'chaatra\\n']\n",
      "['Adarniya', 'mantraji', 'namashkar', 'aapne', 'is', 'sansthaan', 'ko', 'wo', 'chees', 'di', 'jiski', 'hamein', 'sakht', 'zaroorat', 'thi', '…sstunn', '..stunn', 'hota', 'sabi', '[sab', 'hi]', 'ke', 'paas', 'hai', '..sab', 'chupa', 'ke', 'rakte', 'hai', '..detaa', 'koi', 'nai', '…aapne', 'apna', 'stun', 'is', 'balatkari', 'purush', 'ke', 'haat', 'mein', 'diya', 'hai…ab', 'dekiye', 'yeh', 'kaisa', 'iska', 'upyog', 'karta', 'hai\\n']\n",
      "['Sanskrit', 'shalok:-', 'Utthamum', 'dadhdadaath', 'paadam…Madhyam', 'paadam', 'thuchuk', 'chuk', '…Ghanisthah', 'thud', 'thudi', 'paadam…Surr', 'surri', 'praan', 'gatakam..\\n']\n"
     ]
    },
    {
     "data": {
      "text/plain": [
       "'Bhai mantraji namashkar aapne is sansthaan ko wo chees di jiski hamein sakht zaroorat thi …sstunn ..stunn hota sabi [sab hi] ke paas hai ..sab chupa ke rakte hai ..detaa koi nai …aapne apna stun is balatkari purush ke haat mein diya hai…ab dekiye yeh kaisa iska upyog karta hai\\n'"
      ]
     },
     "execution_count": 21,
     "metadata": {},
     "output_type": "execute_result"
    }
   ],
   "source": [
    "txtswap=swap('/home/o2bhai/Desktop/chatur.txt','Adarniya','Bhai')\n",
    "txtswap"
   ]
  },
  {
   "cell_type": "code",
   "execution_count": 23,
   "id": "48529a29",
   "metadata": {},
   "outputs": [
    {
     "ename": "AttributeError",
     "evalue": "'list' object has no attribute 'replace'",
     "output_type": "error",
     "traceback": [
      "\u001b[0;31m---------------------------------------------------------------------------\u001b[0m",
      "\u001b[0;31mAttributeError\u001b[0m                            Traceback (most recent call last)",
      "\u001b[0;32m/tmp/ipykernel_11245/2872156306.py\u001b[0m in \u001b[0;36m<module>\u001b[0;34m\u001b[0m\n\u001b[1;32m      1\u001b[0m \u001b[0ma\u001b[0m\u001b[0;34m=\u001b[0m\u001b[0;34m[\u001b[0m\u001b[0;34m'Adarniya'\u001b[0m\u001b[0;34m,\u001b[0m \u001b[0;34m'sabhapati'\u001b[0m\u001b[0;34m,\u001b[0m \u001b[0;34m'mahodaya'\u001b[0m\u001b[0;34m]\u001b[0m\u001b[0;34m\u001b[0m\u001b[0;34m\u001b[0m\u001b[0m\n\u001b[0;32m----> 2\u001b[0;31m \u001b[0ma\u001b[0m\u001b[0;34m.\u001b[0m\u001b[0mreplace\u001b[0m\u001b[0;34m(\u001b[0m\u001b[0;34m'Adarniya'\u001b[0m\u001b[0;34m,\u001b[0m\u001b[0;34m'bhai'\u001b[0m\u001b[0;34m)\u001b[0m\u001b[0;34m\u001b[0m\u001b[0;34m\u001b[0m\u001b[0m\n\u001b[0m",
      "\u001b[0;31mAttributeError\u001b[0m: 'list' object has no attribute 'replace'"
     ]
    }
   ],
   "source": [
    "a=['Adarniya', 'sabhapati', 'mahodaya']\n",
    "a.replace('Adarniya','bhai')"
   ]
  },
  {
   "cell_type": "code",
   "execution_count": 10,
   "id": "80120f26",
   "metadata": {},
   "outputs": [
    {
     "name": "stdout",
     "output_type": "stream",
     "text": [
      "1\n"
     ]
    }
   ],
   "source": [
    "programming_languages = [\"JavaScript\",\"Python\",\"Java\",\"C++\"]                   #gives index of string directly\n",
    "print(programming_languages.index(\"Python\"))"
   ]
  },
  {
   "cell_type": "code",
   "execution_count": 11,
   "id": "1226516b",
   "metadata": {},
   "outputs": [
    {
     "name": "stdout",
     "output_type": "stream",
     "text": [
      "['Red' 'Blue' 'Orange' 'Green' 'White']\n"
     ]
    }
   ],
   "source": [
    "import numpy as np                                                #finding using numpy\n",
    "my_list = ['Red', 'Blue', 'Orange', 'Gray', 'White']\n",
    "my_list = np.array(my_list)\n",
    "my_list = np.where(my_list == 'Gray', 'Green', my_list)\n",
    "print(my_list)"
   ]
  },
  {
   "cell_type": "code",
   "execution_count": 26,
   "id": "1098f0c8",
   "metadata": {},
   "outputs": [
    {
     "name": "stdout",
     "output_type": "stream",
     "text": [
      "hurt, hurt heart\n",
      "Let it be, don't let it be, don't let it be, let it be\n"
     ]
    }
   ],
   "source": [
    "song = 'cold, cold heart'                               #using replace for sentence\n",
    "\n",
    "# replacing 'cold' with 'hurt'\n",
    "print(song.replace('cold', 'hurt'))\n",
    "\n",
    "song = 'Let it be, let it be, let it be, let it be'\n",
    "\n",
    "# replacing only two occurences of 'let'\n",
    "print(song.replace('let', \"don't let\", 2))"
   ]
  },
  {
   "cell_type": "code",
   "execution_count": 68,
   "id": "4df8f0f2",
   "metadata": {},
   "outputs": [],
   "source": [
    "doc=open(\"/home/o2bhai/Desktop/chatur.txt\",'r')\n",
    "nd=(f\"new_{x.split('/')[-1].split('.')[0]}.txt\")\n",
    "newdoc=open(f\"/home/o2bhai/Desktop/{nd}\",'a')\n",
    "for i in doc:\n",
    "    #print(i)\n",
    "    a=i.replace('balatkari','chamakari')\n",
    "    print(a,file=newdoc)"
   ]
  },
  {
   "cell_type": "code",
   "execution_count": 59,
   "id": "79d5d80e",
   "metadata": {},
   "outputs": [
    {
     "name": "stdout",
     "output_type": "stream",
     "text": [
      "new_chatur.txt\n"
     ]
    }
   ],
   "source": [
    "x=\"/home/o2bhai/Desktop/chatur.txt\"\n",
    "#a=x.split('/')[-1].split('.')[0]\n",
    "print(f\"new_{x.split('/')[-1].split('.')[0]}.txt\")"
   ]
  },
  {
   "cell_type": "code",
   "execution_count": null,
   "id": "3edd5014",
   "metadata": {},
   "outputs": [],
   "source": [
    "# Complete V1"
   ]
  },
  {
   "cell_type": "code",
   "execution_count": 74,
   "id": "77360327",
   "metadata": {},
   "outputs": [],
   "source": [
    "def swap(filepath,word,gvnword):\n",
    "    doc=open(filepath,'r')\n",
    "    nd=(f\"new_{x.split('/')[-1].split('.')[0]}.txt\")\n",
    "    newdoc=open(f\"/home/o2bhai/Desktop/test/{nd}\",'a')\n",
    "    for i in doc:\n",
    "        if word in i:\n",
    "            a=i.replace(word,gvnword)\n",
    "            print(a,file=newdoc)\n",
    "        else:\n",
    "            print(i,file=newdoc)"
   ]
  },
  {
   "cell_type": "code",
   "execution_count": 76,
   "id": "04816802",
   "metadata": {},
   "outputs": [],
   "source": [
    "exchange=swap(\"/home/o2bhai/Desktop/test/chatur.txt\",'balatkar','chamakar')"
   ]
  },
  {
   "cell_type": "code",
   "execution_count": null,
   "id": "ad43fcb6",
   "metadata": {},
   "outputs": [],
   "source": []
  },
  {
   "cell_type": "code",
   "execution_count": null,
   "id": "05bfc30e",
   "metadata": {},
   "outputs": [],
   "source": []
  },
  {
   "cell_type": "code",
   "execution_count": null,
   "id": "1be5829e",
   "metadata": {},
   "outputs": [],
   "source": [
    "# V2"
   ]
  },
  {
   "cell_type": "code",
   "execution_count": null,
   "id": "9c69a26c",
   "metadata": {},
   "outputs": [],
   "source": [
    "import os\n",
    "def swap(filepath,word,gvnword):\n",
    "    doc=open(filepath,'r')\n",
    "    nd=(f\"new_{x.split('/')[-1].split('.')[0]}.txt\")\n",
    "    if os.access(f\"/home/o2bhai/Desktop/test/{nd}\",)\n",
    "    newdoc=open(f\"/home/o2bhai/Desktop/test/{nd}\",'a')\n",
    "    for i in doc:\n",
    "        if word in i:\n",
    "            a=i.replace(word,gvnword)\n",
    "            print(a,file=newdoc)\n",
    "        else:\n",
    "            print(i,file=newdoc)"
   ]
  },
  {
   "cell_type": "code",
   "execution_count": 117,
   "id": "8e5fc7f5",
   "metadata": {},
   "outputs": [
    {
     "name": "stdout",
     "output_type": "stream",
     "text": [
      "1\n"
     ]
    }
   ],
   "source": [
    "import os\n",
    "doc=open(\"/home/o2bhai/Desktop/test/chatur.txt\",'r')\n",
    "nd=(f\"new_{x.split('/')[-1].split('.')[0]}.txt\")\n",
    "if os.access(f\"/home/o2bhai/Desktop/test/{nd}\",os.R_OK):\n",
    "    print(1)\n",
    "    newdoc=open(f\"/home/o2bhai/Desktop/test/{nd}\",'w')\n",
    "    print('',file=newdoc)\n",
    "else:\n",
    "    print(0)\n",
    "    newdoc=open(f\"/home/o2bhai/Desktop/test/{nd}\",'a')   "
   ]
  },
  {
   "cell_type": "code",
   "execution_count": 90,
   "id": "fa42a602",
   "metadata": {},
   "outputs": [],
   "source": [
    "import os\n",
    "doc=open(\"/home/o2bhai/Desktop/test/chatur.txt\",'r')\n",
    "nd=(f\"new_{x.split('/')[-1].split('.')[0]}.txt\")\n",
    "newdoc=open(f\"/home/o2bhai/Desktop/test/{nd}\",'a')"
   ]
  },
  {
   "cell_type": "code",
   "execution_count": 98,
   "id": "88456d2e",
   "metadata": {},
   "outputs": [
    {
     "name": "stdout",
     "output_type": "stream",
     "text": [
      "1\n"
     ]
    }
   ],
   "source": [
    "if os.access(\"/home/o2bhai/Desktop/test/new_chatur.txt\",os.R_OK):\n",
    "    print(1)"
   ]
  },
  {
   "cell_type": "code",
   "execution_count": null,
   "id": "691bdec2",
   "metadata": {},
   "outputs": [],
   "source": [
    "#Complete V2"
   ]
  },
  {
   "cell_type": "code",
   "execution_count": 5,
   "id": "b52c53cd",
   "metadata": {},
   "outputs": [],
   "source": [
    "import os\n",
    "\n",
    "def swap(filepath,word,gvnword):\n",
    "    doc=open(filepath,'r')\n",
    "    nd=(f\"new_{filepath.split('/')[-1].split('.')[0]}.txt\")\n",
    "    print(nd)\n",
    "    if os.access(f\"/home/o2bhai/Desktop/test/{nd}\",os.R_OK):\n",
    "        print(1)\n",
    "        newdoc=open(f\"/home/o2bhai/Desktop/test/{nd}\",'w')\n",
    "        print('',file=newdoc)\n",
    "    else:\n",
    "        print(0)\n",
    "        newdoc=open(f\"/home/o2bhai/Desktop/test/{nd}\",'a')   \n",
    "    for i in doc:\n",
    "        if word in i:\n",
    "            a=i.replace(word,gvnword)\n",
    "            print(a,file=newdoc)\n",
    "        else:\n",
    "            print(i,file=newdoc)"
   ]
  },
  {
   "cell_type": "code",
   "execution_count": null,
   "id": "17138b40",
   "metadata": {},
   "outputs": [],
   "source": [
    "import os\n",
    "\n",
    "def swap(filepath,word,gvnword):\n",
    "    doc=open(filepath,'r')\n",
    "    nd=(f\"new_{filepath.split('/')[-1].split('.')[0]}.txt\")\n",
    "    print(nd)\n",
    "    if os.access(f\"{os.path.dirname(filepath)}/{nd}\",os.R_OK):   #checks if file is already present and has read access\n",
    "        print(1)\n",
    "        newdoc=open(f\"{os.path.dirname(filepath)}/{nd}\",'w')\n",
    "        print('',file=newdoc)\n",
    "    else:\n",
    "        print(0)\n",
    "        newdoc=open(f\"{os.path.dirname(filepath)}/{nd}\",'a')   \n",
    "    for i in doc:\n",
    "        if word in i:\n",
    "            a=i.replace(word,gvnword)\n",
    "            print(a,file=newdoc)\n",
    "        else:\n",
    "            print(i,file=newdoc)"
   ]
  },
  {
   "cell_type": "code",
   "execution_count": 7,
   "id": "7b5f53e3",
   "metadata": {},
   "outputs": [
    {
     "name": "stdout",
     "output_type": "stream",
     "text": [
      "new_chatur.txt\n",
      "1\n"
     ]
    }
   ],
   "source": [
    "exchange=swap(\"/home/o2bhai/Desktop/test/chatur.txt\",'stun','dhun')"
   ]
  },
  {
   "cell_type": "code",
   "execution_count": 8,
   "id": "32fa89cf",
   "metadata": {},
   "outputs": [
    {
     "name": "stdout",
     "output_type": "stream",
     "text": [
      "new_new_chatur.txt\n",
      "0\n"
     ]
    }
   ],
   "source": [
    "exchange2=swap(\"/home/o2bhai/Desktop/test/new_chatur.txt\",'balatkar','chamarkar')"
   ]
  },
  {
   "cell_type": "code",
   "execution_count": 19,
   "id": "ae08bab9",
   "metadata": {},
   "outputs": [
    {
     "data": {
      "text/plain": [
       "1654684986.269603"
      ]
     },
     "execution_count": 19,
     "metadata": {},
     "output_type": "execute_result"
    }
   ],
   "source": [
    "import time            #in sec\n",
    "strt=time.time()\n",
    "strt\n"
   ]
  },
  {
   "cell_type": "code",
   "execution_count": 24,
   "id": "3e3a6814",
   "metadata": {},
   "outputs": [],
   "source": [
    "import os\n",
    "import time\n",
    "def swap(filepath,word,gvnword):\n",
    "    strt=time.time()\n",
    "    doc=open(filepath,'r')\n",
    "    nd=(f\"new_{filepath.split('/')[-1].split('.')[0]}.txt\")\n",
    "    if os.access(f\"/home/o2bhai/Desktop/test/{nd}\",os.R_OK):\n",
    "        newdoc=open(f\"/home/o2bhai/Desktop/test/{nd}\",'w')\n",
    "    else:\n",
    "        newdoc=open(f\"/home/o2bhai/Desktop/test/{nd}\",'a')   \n",
    "    for i in doc:\n",
    "        if word in i:\n",
    "            a=i.replace(word,gvnword)\n",
    "            print(a,file=newdoc)\n",
    "        else:\n",
    "            print(i,file=newdoc)\n",
    "    print(f\"time taken to execute :- {time.time()-strt}\")"
   ]
  },
  {
   "cell_type": "code",
   "execution_count": 25,
   "id": "f8622276",
   "metadata": {},
   "outputs": [
    {
     "name": "stdout",
     "output_type": "stream",
     "text": [
      "time taken to execute :- 0.004698276519775391\n"
     ]
    }
   ],
   "source": [
    "exchange=swap(\"/home/o2bhai/Desktop/test/chatur.txt\",'stun','dhun')"
   ]
  },
  {
   "cell_type": "code",
   "execution_count": null,
   "id": "32e8c7b3",
   "metadata": {},
   "outputs": [],
   "source": []
  },
  {
   "cell_type": "code",
   "execution_count": null,
   "id": "57e39dfb",
   "metadata": {},
   "outputs": [],
   "source": []
  },
  {
   "cell_type": "code",
   "execution_count": null,
   "id": "c80291eb",
   "metadata": {},
   "outputs": [],
   "source": []
  },
  {
   "cell_type": "code",
   "execution_count": 27,
   "id": "9f1b11cf",
   "metadata": {},
   "outputs": [],
   "source": [
    "#Inheritance example"
   ]
  },
  {
   "cell_type": "code",
   "execution_count": 16,
   "id": "90c2503f",
   "metadata": {},
   "outputs": [
    {
     "name": "stdout",
     "output_type": "stream",
     "text": [
      "3\n",
      "2\n"
     ]
    }
   ],
   "source": [
    "class inc:\n",
    "    def __init__(self,a,b):\n",
    "        self.a=a\n",
    "        self.b=b\n",
    "        \n",
    "    def add(self):\n",
    "        return self.a+self.b\n",
    "    \n",
    "    def mult(self):\n",
    "        return self.a*self.b\n",
    "    \n",
    "    \n",
    "class dec:\n",
    "    def __init__(self,a,b):\n",
    "        self.a=a\n",
    "        self.b=b\n",
    "        \n",
    "    def minus(self):\n",
    "        return self.a-self.b\n",
    "    \n",
    "    def div(self):\n",
    "        return self.a/self.b \n",
    "            \n",
    "class calc(inc,dec):\n",
    "    pass\n",
    "    \n",
    "    \n",
    "ops=calc(1,2)\n",
    "print(ops.add())\n",
    "print(ops.mult())\n"
   ]
  },
  {
   "cell_type": "code",
   "execution_count": 4,
   "id": "b78eb5a1",
   "metadata": {},
   "outputs": [
    {
     "name": "stdout",
     "output_type": "stream",
     "text": [
      "[1, 4, 9, 16, 25]\n",
      "[1, 8, 27, 64, 125]\n"
     ]
    }
   ],
   "source": [
    "#first class function\n",
    "\n",
    "def square(x):\n",
    "    return x*x\n",
    "\n",
    "def my_map(func,arg_list):\n",
    "    result=[]\n",
    "    for i in arg_list:\n",
    "        result.append(func(i))\n",
    "    return result\n",
    "\n",
    "def cube(x):\n",
    "    return x*x*x\n",
    "\n",
    "\n",
    "\n",
    "squares = my_map(square,[1,2,3,4,5])\n",
    "print(squares)\n",
    "\n",
    "cubes= my_map(cube,[1,2,3,4,5])\n",
    "print(cubes)"
   ]
  },
  {
   "cell_type": "code",
   "execution_count": 8,
   "id": "69485374",
   "metadata": {},
   "outputs": [
    {
     "name": "stdout",
     "output_type": "stream",
     "text": [
      "Log: momo\n"
     ]
    }
   ],
   "source": [
    "#Closure                 #this can be used when u don't want to show passed arguments in the function\n",
    "                            #or you don't want to use same varibles for 2 fuct (see below ex)\n",
    "def logger(msg):\n",
    "    \n",
    "    def log():\n",
    "        print('Log:',msg)\n",
    "        \n",
    "    return log\n",
    "        \n",
    "\n",
    "logm= logger('momo')\n",
    "logm()"
   ]
  },
  {
   "cell_type": "code",
   "execution_count": 11,
   "id": "3585295e",
   "metadata": {},
   "outputs": [
    {
     "name": "stdout",
     "output_type": "stream",
     "text": [
      "<h1>hoho<h1>\n"
     ]
    }
   ],
   "source": [
    "#closure\n",
    "\n",
    "def html_tag(tag):\n",
    "    \n",
    "    def wrap_txt(msg):\n",
    "        print(f\"<{tag}>{msg}<{tag}>\")\n",
    "    return wrap_txt\n",
    "\n",
    "print_h1 = html_tag('h1')\n",
    "print_h1('hoho')"
   ]
  },
  {
   "cell_type": "code",
   "execution_count": 15,
   "id": "819b25c3",
   "metadata": {},
   "outputs": [
    {
     "name": "stdout",
     "output_type": "stream",
     "text": [
      "<h1>hoho<h1>\n",
      "<h1>bobo<h1>\n"
     ]
    }
   ],
   "source": [
    "#my experiment -  can we use two inside functions in closure ?\n",
    "\n",
    "def html_tag(tag):\n",
    "    \n",
    "    def wrap_txt(msg):\n",
    "        print(f\"<{tag}>{msg}<{tag}>\")\n",
    "    return wrap_txt\n",
    "\n",
    "    def wrap_txt2(msg):\n",
    "        print(f\"<{tag}>{msg}-{msg}<{tag}>\")\n",
    "    return wrap_txt2\n",
    "\n",
    "print_h1 = html_tag('h1')\n",
    "print_h1('hoho')\n",
    "#print_h1('bobo')"
   ]
  },
  {
   "cell_type": "code",
   "execution_count": 22,
   "id": "5d82281e",
   "metadata": {},
   "outputs": [
    {
     "name": "stdout",
     "output_type": "stream",
     "text": [
      "wrapper funct executing display\n",
      "display funct ran\n",
      "wrapper funct executing dis_info\n",
      "display boba and 25\n"
     ]
    }
   ],
   "source": [
    "\n",
    "\n",
    " #decorators           #decoratore ek aisa function hai jiske throgh hum dusre funct to execute krate hai\n",
    "\n",
    "#decorator funct\n",
    "\n",
    "def decorator_fuct(orig_funt):\n",
    "    def wrapper_fuct(*args,**kwargs):\n",
    "        print(f'wrapper funct executing {orig_funt.__name__}')\n",
    "        return orig_funt(*args,**kwargs)\n",
    "    return wrapper_fuct\n",
    "\n",
    "\n",
    "@decorator_fuct                       #@decorator_fuct is same as display = decorator_fuct(display)\n",
    "def display():\n",
    "    print(\"display funct ran\")\n",
    "\n",
    "@decorator_fuct\n",
    "def dis_info(name,age):\n",
    "    print(f'display {name} and {age}')\n",
    "\n",
    "    \n",
    "display()\n",
    "\n",
    "dis_info('boba',25)\n",
    "\n",
    "\n",
    "\n"
   ]
  },
  {
   "cell_type": "code",
   "execution_count": 24,
   "id": "9d5a5df3",
   "metadata": {},
   "outputs": [
    {
     "name": "stdout",
     "output_type": "stream",
     "text": [
      "call method executing display\n",
      "display funct ran\n",
      "call method executing dis_info\n",
      "display boba and 25\n"
     ]
    }
   ],
   "source": [
    "\n",
    "def decorator_fuct(orig_funt):\n",
    "    def wrapper_fuct(*args,**kwargs):\n",
    "        print(f'wrapper funct executing {orig_funt.__name__}')\n",
    "        return orig_funt(*args,**kwargs)\n",
    "    return wrapper_fuct\n",
    "\n",
    "\n",
    "class decorator_class(object):\n",
    "    \n",
    "    def __init__(self,orig_funt):\n",
    "        self.orig_funt=orig_funt\n",
    "        \n",
    "    def __call__(self,*args,**kwargs):\n",
    "        print(f'call method executing {self.orig_funt.__name__}')\n",
    "        return self.orig_funt(*args,**kwargs)\n",
    "\n",
    "@decorator_class\n",
    "def display():\n",
    "    print(\"display funct ran\")\n",
    "\n",
    "@decorator_class\n",
    "def dis_info(name,age):\n",
    "    print(f'display {name} and {age}')    \n",
    "\n",
    "    \n",
    "display()\n",
    "\n",
    "dis_info('boba',25)\n"
   ]
  },
  {
   "cell_type": "code",
   "execution_count": 1,
   "id": "31a5a149",
   "metadata": {},
   "outputs": [
    {
     "name": "stdout",
     "output_type": "stream",
     "text": [
      "logged into wrapper2.log\n",
      "display funct ran\n",
      "time taken by display to execute 0.000186920166015625\n"
     ]
    }
   ],
   "source": [
    "\n",
    "def my_logger(orig_func):\n",
    "    import logging\n",
    "    from datetime import datetime as dt\n",
    "    logging.basicConfig(filename=f'{orig_func.__name__}.log',level=logging.INFO)\n",
    "    \n",
    "    def wrapper1(*args,**kwargs):\n",
    "        logging.info(f'{dt.now()}: Ran with args: {args}, and kwargs: {kwargs}')\n",
    "        print(f'logged into {orig_func.__name__}.log')\n",
    "        return orig_func(*args,**kwargs)\n",
    "    return wrapper1\n",
    "\n",
    "\n",
    "def my_timer(orig_func):\n",
    "    import time\n",
    "    \n",
    "    def wrapper2(*args,**kwargs):\n",
    "        t1=time.time()\n",
    "        result= orig_func(*args,**kwargs)\n",
    "        t2=time.time()\n",
    "        print(f'time taken by {orig_func.__name__} to execute {t2-t1}')\n",
    "        return result\n",
    "    return wrapper2\n",
    "\n",
    "\n",
    "# @my_logger                  \n",
    "# def display():\n",
    "#     print(\"display funct ran\")\n",
    "    \n",
    "# @my_logger\n",
    "# def dis_info(name,age):\n",
    "#     print(f'dis_info ran with {name} and {age}')  \n",
    "    \n",
    "\n",
    "# display()\n",
    "# dis_info('boba',25)\n",
    "\n",
    "\n",
    "\n",
    "\n",
    "@my_logger                         #this is equivalent to display = my_logger(my_timer(display))\n",
    "@my_timer\n",
    "def display():\n",
    "    print(\"display funct ran\")\n",
    "    \n",
    "                         \n",
    "# @my_timer                 #this is equivalent to display = my_timer(my_logger(display))\n",
    "# @my_logger\n",
    "# def display():\n",
    "#     print(\"display funct ran\")\n",
    "\n",
    "# @my_logger\n",
    "# def dis_info(name,age):\n",
    "#     print(f'dis_info ran with {name} and {age}')  \n",
    "    \n",
    "\n",
    "display()\n",
    "#dis_info('boba',25)"
   ]
  },
  {
   "cell_type": "code",
   "execution_count": null,
   "id": "7856b31e",
   "metadata": {},
   "outputs": [],
   "source": []
  },
  {
   "cell_type": "code",
   "execution_count": 6,
   "id": "df2f3054",
   "metadata": {},
   "outputs": [
    {
     "ename": "TypeError",
     "evalue": "Can't instantiate abstract class sub with abstract method scale",
     "output_type": "error",
     "traceback": [
      "\u001b[0;31m---------------------------------------------------------------------------\u001b[0m",
      "\u001b[0;31mTypeError\u001b[0m                                 Traceback (most recent call last)",
      "\u001b[0;32m/tmp/ipykernel_22257/1677150076.py\u001b[0m in \u001b[0;36m<module>\u001b[0;34m\u001b[0m\n\u001b[1;32m     26\u001b[0m \u001b[0;31m# op.scale()\u001b[0m\u001b[0;34m\u001b[0m\u001b[0;34m\u001b[0m\u001b[0m\n\u001b[1;32m     27\u001b[0m \u001b[0;34m\u001b[0m\u001b[0m\n\u001b[0;32m---> 28\u001b[0;31m \u001b[0mop2\u001b[0m\u001b[0;34m=\u001b[0m \u001b[0msub\u001b[0m\u001b[0;34m(\u001b[0m\u001b[0;34m)\u001b[0m\u001b[0;34m\u001b[0m\u001b[0;34m\u001b[0m\u001b[0m\n\u001b[0m\u001b[1;32m     29\u001b[0m \u001b[0mop2\u001b[0m\u001b[0;34m.\u001b[0m\u001b[0mscale\u001b[0m\u001b[0;34m(\u001b[0m\u001b[0;34m)\u001b[0m\u001b[0;34m\u001b[0m\u001b[0;34m\u001b[0m\u001b[0m\n",
      "\u001b[0;31mTypeError\u001b[0m: Can't instantiate abstract class sub with abstract method scale"
     ]
    }
   ],
   "source": [
    "#Abstract class\n",
    "\n",
    "from abc import ABC, abstractmethod                   #abstract class ensure krta hai ki jo bhi class abstract class ko pass kr rha hai \n",
    "                                                     #usme abstract method(jo abstract method abstract class me \n",
    "                                                      #define kis gya hai) hona hi chahie\n",
    "class Calc(ABC):\n",
    "    @abstractmethod\n",
    "    def scale(self): pass\n",
    "    \n",
    "class add(Calc):\n",
    "    def __init__(self):\n",
    "        self.a= 6\n",
    "        self.b = 7\n",
    "    def scale(self):\n",
    "        return (self.a + self.b)/10\n",
    "        \n",
    "        \n",
    "class sub(Calc):\n",
    "    def __init__(self):\n",
    "        self.a= 6\n",
    "        self.b = 7\n",
    "    def scale(self):\n",
    "        return (self.a - self.b)/10\n",
    "\n",
    "        \n",
    "op = add()\n",
    "op.scale()\n",
    "\n",
    "op2= sub()\n",
    "op2.scale()"
   ]
  },
  {
   "cell_type": "code",
   "execution_count": null,
   "id": "e084234e",
   "metadata": {},
   "outputs": [],
   "source": []
  }
 ],
 "metadata": {
  "kernelspec": {
   "display_name": "Python 3 (ipykernel)",
   "language": "python",
   "name": "python3"
  },
  "language_info": {
   "codemirror_mode": {
    "name": "ipython",
    "version": 3
   },
   "file_extension": ".py",
   "mimetype": "text/x-python",
   "name": "python",
   "nbconvert_exporter": "python",
   "pygments_lexer": "ipython3",
   "version": "3.9.7"
  }
 },
 "nbformat": 4,
 "nbformat_minor": 5
}
