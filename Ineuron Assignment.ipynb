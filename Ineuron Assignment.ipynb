{
 "cells": [
  {
   "cell_type": "markdown",
   "id": "d79312e9",
   "metadata": {},
   "source": [
    "# Ineuron Placement Assignment\n",
    " \n",
    "    Name - Osama Ghaus\n",
    "    Batch- Nov 2021 Full Stack DS\n",
    "    email id- osamaghaus300@gmail.com\n",
    "    github - https://github.com/Oghaus/"
   ]
  },
  {
   "cell_type": "code",
   "execution_count": null,
   "id": "9359abd9",
   "metadata": {},
   "outputs": [],
   "source": []
  },
  {
   "cell_type": "code",
   "execution_count": null,
   "id": "6bc26976",
   "metadata": {},
   "outputs": [],
   "source": [
    "#Assignment 1\n",
    "\n",
    "#Read text file and replace specific content"
   ]
  },
  {
   "cell_type": "code",
   "execution_count": 1,
   "id": "744094d3",
   "metadata": {},
   "outputs": [],
   "source": [
    "import os\n",
    "\n",
    "def swap(filepath,word,gvnword):\n",
    "    doc=open(filepath,'r')\n",
    "    nd=(f\"new_{filepath.split('/')[-1].split('.')[0]}.txt\")\n",
    "    print(nd)\n",
    "    if os.access(f\"{os.path.dirname(filepath)}/{nd}\",os.R_OK):   #checks if file is already present and has read access\n",
    "        #print(1)\n",
    "        newdoc=open(f\"{os.path.dirname(filepath)}/{nd}\",'w')     #if file is already present, initial changes are cleared \n",
    "        print('',file=newdoc)\n",
    "    else:\n",
    "        #print(0)\n",
    "        newdoc=open(f\"{os.path.dirname(filepath)}/{nd}\",'a')    #if file is not present , it is created and changes are performed\n",
    "    for i in doc:\n",
    "        if word in i:\n",
    "            a=i.replace(word,gvnword)\n",
    "            print(a,file=newdoc)\n",
    "        else:\n",
    "            print(i,file=newdoc)"
   ]
  },
  {
   "cell_type": "code",
   "execution_count": 2,
   "id": "7f7fe61f",
   "metadata": {},
   "outputs": [
    {
     "name": "stdout",
     "output_type": "stream",
     "text": [
      "new_example.txt\n"
     ]
    }
   ],
   "source": [
    "exc= swap('/home/o2bhai/Desktop/test/example.txt','placement','screening')"
   ]
  },
  {
   "cell_type": "code",
   "execution_count": null,
   "id": "41eeb773",
   "metadata": {},
   "outputs": [],
   "source": []
  },
  {
   "cell_type": "code",
   "execution_count": 17,
   "id": "7f6b5481",
   "metadata": {},
   "outputs": [],
   "source": [
    "# Abstract class\n",
    "\n",
    "\n",
    "from abc import ABC, abstractmethod                   \n",
    "\n",
    "class Calc(ABC):\n",
    "    @abstractmethod\n",
    "    def scale(self): pass\n",
    "    \n",
    "class add(Calc):\n",
    "    def __init__(self):\n",
    "        self.a= 6\n",
    "        self.b = 7\n",
    "    def scale(self):\n",
    "        return (self.a + self.b)/10\n",
    "        \n",
    "        \n",
    "class sub(Calc):\n",
    "    def __init__(self):\n",
    "        self.a= 6\n",
    "        self.b = 7\n",
    "    def scale(self):\n",
    "        return (self.a - self.b)/10\n",
    "\n"
   ]
  },
  {
   "cell_type": "code",
   "execution_count": 16,
   "id": "adf368a8",
   "metadata": {},
   "outputs": [
    {
     "data": {
      "text/plain": [
       "1.3"
      ]
     },
     "execution_count": 16,
     "metadata": {},
     "output_type": "execute_result"
    }
   ],
   "source": [
    "        \n",
    "op = add()\n",
    "op.scale()\n"
   ]
  },
  {
   "cell_type": "code",
   "execution_count": 18,
   "id": "78163635",
   "metadata": {},
   "outputs": [
    {
     "data": {
      "text/plain": [
       "-0.1"
      ]
     },
     "execution_count": 18,
     "metadata": {},
     "output_type": "execute_result"
    }
   ],
   "source": [
    "\n",
    "op2= sub()\n",
    "op2.scale()"
   ]
  },
  {
   "cell_type": "code",
   "execution_count": null,
   "id": "ee948ddb",
   "metadata": {},
   "outputs": [],
   "source": []
  },
  {
   "cell_type": "code",
   "execution_count": 19,
   "id": "14b9e44e",
   "metadata": {},
   "outputs": [
    {
     "name": "stdout",
     "output_type": "stream",
     "text": [
      "3\n",
      "2\n"
     ]
    }
   ],
   "source": [
    "#Multiple inheritance ex\n",
    "\n",
    "class inc:\n",
    "    def __init__(self,a,b):\n",
    "        self.a=a\n",
    "        self.b=b\n",
    "        \n",
    "    def add(self):\n",
    "        return self.a+self.b\n",
    "    \n",
    "    def mult(self):\n",
    "        return self.a*self.b\n",
    "    \n",
    "    \n",
    "class dec:\n",
    "    def __init__(self,a,b):\n",
    "        self.a=a\n",
    "        self.b=b\n",
    "        \n",
    "    def minus(self):\n",
    "        return self.a-self.b\n",
    "    \n",
    "    def div(self):\n",
    "        return self.a/self.b \n",
    "            \n",
    "class calc(inc,dec):\n",
    "    pass\n",
    "    \n",
    "    \n",
    "ops=calc(1,2)\n",
    "print(ops.add())\n",
    "print(ops.mult())\n"
   ]
  },
  {
   "cell_type": "code",
   "execution_count": null,
   "id": "a3eafba2",
   "metadata": {},
   "outputs": [],
   "source": []
  },
  {
   "cell_type": "code",
   "execution_count": 33,
   "id": "b7d41cc1",
   "metadata": {},
   "outputs": [
    {
     "name": "stdout",
     "output_type": "stream",
     "text": [
      "logged into wrapper2.log\n",
      "display funct ran\n",
      "time taken by display to execute 0.00024199485778808594\n"
     ]
    }
   ],
   "source": [
    " # Decorator\n",
    "\n",
    "def my_logger(orig_func):                           \n",
    "    import logging\n",
    "    from datetime import datetime as dt\n",
    "    logging.basicConfig(filename=f'{orig_func.__name__}.log',level=logging.INFO)\n",
    "    \n",
    "    def wrapper1(*args,**kwargs):\n",
    "        logging.info(f'{dt.now()}: Ran with args: {args}, and kwargs: {kwargs}')\n",
    "        print(f'logged into {orig_func.__name__}.log')\n",
    "        return orig_func(*args,**kwargs)\n",
    "    return wrapper1\n",
    "\n",
    "\n",
    "def my_timer(orig_func):\n",
    "    import time\n",
    "    \n",
    "    def wrapper2(*args,**kwargs):\n",
    "        t1=time.time()\n",
    "        result= orig_func(*args,**kwargs)\n",
    "        t2=time.time()\n",
    "        print(f'time taken by {orig_func.__name__} to execute {t2-t1}')\n",
    "        return result\n",
    "    return wrapper2\n",
    "\n",
    "\n",
    "\n",
    "\n",
    "@my_logger                         #this is equivalent to display = my_logger(my_timer(display))\n",
    "@my_timer\n",
    "def display():\n",
    "    print(\"display funct ran\")\n",
    "    \n",
    "                         \n",
    "# @my_timer                 #this is equivalent to display = my_timer(my_logger(display))\n",
    "# @my_logger\n",
    "# def display():\n",
    "#     print(\"display funct ran\")\n",
    "\n",
    "# @my_logger\n",
    "# def dis_info(name,age):\n",
    "#     print(f'dis_info ran with {name} and {age}')  \n",
    "    \n",
    "\n",
    "display()\n",
    "#dis_info('boba',25)"
   ]
  },
  {
   "cell_type": "code",
   "execution_count": 31,
   "id": "902c4793",
   "metadata": {},
   "outputs": [
    {
     "name": "stdout",
     "output_type": "stream",
     "text": [
      "logged into display.log\n",
      "display funct ran\n",
      "dis_info ran with golu and 25\n",
      "time taken by dis_info to execute 0.00023865699768066406\n"
     ]
    }
   ],
   "source": [
    "\n",
    "@my_logger                  \n",
    "def display():\n",
    "    print(\"display funct ran\")\n",
    "    \n",
    "@my_timer\n",
    "def dis_info(name,age):\n",
    "    print(f'dis_info ran with {name} and {age}')  \n",
    "    \n",
    "\n",
    "display()\n",
    "dis_info('golu',25)\n"
   ]
  },
  {
   "cell_type": "code",
   "execution_count": 32,
   "id": "4efbe259",
   "metadata": {},
   "outputs": [
    {
     "name": "stdout",
     "output_type": "stream",
     "text": [
      "logged into display.log\n",
      "display funct ran\n",
      "time taken by wrapper1 to execute 0.001379251480102539\n",
      "dis_info ran with golu and 25\n",
      "time taken by dis_info to execute 0.00021409988403320312\n"
     ]
    }
   ],
   "source": [
    "\n",
    "@my_logger                         #this is equivalent to display = my_logger(my_timer(display))\n",
    "@my_timer\n",
    "def display():\n",
    "    print(\"display funct ran\")\n",
    "    \n",
    "                         \n",
    "@my_timer                 #this is equivalent to display = my_timer(my_logger(display))\n",
    "@my_logger\n",
    "def display():\n",
    "    print(\"display funct ran\")\n",
    "\n",
    "display()\n",
    "dis_info('golu',25)   \n"
   ]
  },
  {
   "cell_type": "code",
   "execution_count": null,
   "id": "689dedd9",
   "metadata": {},
   "outputs": [],
   "source": []
  }
 ],
 "metadata": {
  "kernelspec": {
   "display_name": "Python 3 (ipykernel)",
   "language": "python",
   "name": "python3"
  },
  "language_info": {
   "codemirror_mode": {
    "name": "ipython",
    "version": 3
   },
   "file_extension": ".py",
   "mimetype": "text/x-python",
   "name": "python",
   "nbconvert_exporter": "python",
   "pygments_lexer": "ipython3",
   "version": "3.9.7"
  }
 },
 "nbformat": 4,
 "nbformat_minor": 5
}
