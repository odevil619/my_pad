{
 "cells": [
  {
   "cell_type": "code",
   "execution_count": 2,
   "id": "d5374845",
   "metadata": {},
   "outputs": [],
   "source": [
    "import pandas as pd"
   ]
  },
  {
   "cell_type": "code",
   "execution_count": 3,
   "id": "eae9666c",
   "metadata": {},
   "outputs": [],
   "source": [
    "df = pd.read_csv(\"/home/o2bhai/Desktop/iphone.csv\")"
   ]
  },
  {
   "cell_type": "code",
   "execution_count": 5,
   "id": "3324dc59",
   "metadata": {},
   "outputs": [
    {
     "data": {
      "text/html": [
       "<div>\n",
       "<style scoped>\n",
       "    .dataframe tbody tr th:only-of-type {\n",
       "        vertical-align: middle;\n",
       "    }\n",
       "\n",
       "    .dataframe tbody tr th {\n",
       "        vertical-align: top;\n",
       "    }\n",
       "\n",
       "    .dataframe thead th {\n",
       "        text-align: right;\n",
       "    }\n",
       "</style>\n",
       "<table border=\"1\" class=\"dataframe\">\n",
       "  <thead>\n",
       "    <tr style=\"text-align: right;\">\n",
       "      <th></th>\n",
       "      <th>name</th>\n",
       "      <th>cost</th>\n",
       "      <th>specs</th>\n",
       "      <th>review</th>\n",
       "      <th>rating</th>\n",
       "      <th>image</th>\n",
       "    </tr>\n",
       "  </thead>\n",
       "  <tbody>\n",
       "    <tr>\n",
       "      <th>count</th>\n",
       "      <td>72</td>\n",
       "      <td>72</td>\n",
       "      <td>72</td>\n",
       "      <td>72</td>\n",
       "      <td>72</td>\n",
       "      <td>72</td>\n",
       "    </tr>\n",
       "    <tr>\n",
       "      <th>unique</th>\n",
       "      <td>35</td>\n",
       "      <td>14</td>\n",
       "      <td>20</td>\n",
       "      <td>7</td>\n",
       "      <td>7</td>\n",
       "      <td>24</td>\n",
       "    </tr>\n",
       "    <tr>\n",
       "      <th>top</th>\n",
       "      <td>APPLE iPhone 8 (Space Grey, 256 GB)</td>\n",
       "      <td>₹52,900</td>\n",
       "      <td>['64 GB ROM', '13.97 cm (5.5 inch) Retina HD D...</td>\n",
       "      <td>8,450 Reviews</td>\n",
       "      <td>98,673 Ratings</td>\n",
       "      <td>https://rukminim1.flixcart.com/image/312/312/k...</td>\n",
       "    </tr>\n",
       "    <tr>\n",
       "      <th>freq</th>\n",
       "      <td>3</td>\n",
       "      <td>13</td>\n",
       "      <td>9</td>\n",
       "      <td>23</td>\n",
       "      <td>23</td>\n",
       "      <td>6</td>\n",
       "    </tr>\n",
       "  </tbody>\n",
       "</table>\n",
       "</div>"
      ],
      "text/plain": [
       "                                       name     cost  \\\n",
       "count                                    72       72   \n",
       "unique                                   35       14   \n",
       "top     APPLE iPhone 8 (Space Grey, 256 GB)  ₹52,900   \n",
       "freq                                      3       13   \n",
       "\n",
       "                                                    specs         review  \\\n",
       "count                                                  72             72   \n",
       "unique                                                 20              7   \n",
       "top     ['64 GB ROM', '13.97 cm (5.5 inch) Retina HD D...  8,450 Reviews   \n",
       "freq                                                    9             23   \n",
       "\n",
       "                rating                                              image  \n",
       "count               72                                                 72  \n",
       "unique               7                                                 24  \n",
       "top     98,673 Ratings  https://rukminim1.flixcart.com/image/312/312/k...  \n",
       "freq                23                                                  6  "
      ]
     },
     "execution_count": 5,
     "metadata": {},
     "output_type": "execute_result"
    }
   ],
   "source": [
    "df.describe()"
   ]
  },
  {
   "cell_type": "code",
   "execution_count": 8,
   "id": "d7a40498",
   "metadata": {},
   "outputs": [
    {
     "data": {
      "text/plain": [
       "pandas.core.series.Series"
      ]
     },
     "execution_count": 8,
     "metadata": {},
     "output_type": "execute_result"
    }
   ],
   "source": [
    "df['name']                  # acts as list\n",
    "type(df['name'])"
   ]
  },
  {
   "cell_type": "code",
   "execution_count": 11,
   "id": "5429fd37",
   "metadata": {},
   "outputs": [
    {
     "data": {
      "text/plain": [
       "pandas.core.frame.DataFrame"
      ]
     },
     "execution_count": 11,
     "metadata": {},
     "output_type": "execute_result"
    }
   ],
   "source": [
    "df[['name']]               # is a dataframe         acts as dictionary\n",
    "type(df[['name']])"
   ]
  },
  {
   "cell_type": "code",
   "execution_count": 12,
   "id": "6ff8657b",
   "metadata": {},
   "outputs": [
    {
     "data": {
      "text/plain": [
       "5                       APPLE iPhone XR (Blue, 128 GB)\n",
       "7    Apple iPhone XR (Black, 64 GB) (Includes EarPo...\n",
       "9                      APPLE iPhone SE (Black, 256 GB)\n",
       "Name: name, dtype: object"
      ]
     },
     "execution_count": 12,
     "metadata": {},
     "output_type": "execute_result"
    }
   ],
   "source": [
    "df['name'][5:10:2]"
   ]
  },
  {
   "cell_type": "code",
   "execution_count": 13,
   "id": "c73f0447",
   "metadata": {},
   "outputs": [],
   "source": [
    "#sort(df['id'])"
   ]
  },
  {
   "cell_type": "code",
   "execution_count": 14,
   "id": "15bba5a4",
   "metadata": {},
   "outputs": [
    {
     "data": {
      "text/plain": [
       "Index(['name', 'cost', 'specs', 'review', 'rating', 'image'], dtype='object')"
      ]
     },
     "execution_count": 14,
     "metadata": {},
     "output_type": "execute_result"
    }
   ],
   "source": [
    "df.columns"
   ]
  },
  {
   "cell_type": "code",
   "execution_count": 16,
   "id": "03bab06a",
   "metadata": {},
   "outputs": [],
   "source": [
    "# for i in df.columns:                       #will print df['name'], df['specs']...etc\n",
    "#     print(df[i])"
   ]
  },
  {
   "cell_type": "code",
   "execution_count": 17,
   "id": "e1681ef3",
   "metadata": {},
   "outputs": [],
   "source": [
    "#adding new column\n",
    "df['new_column'] = 'data'\n"
   ]
  },
  {
   "cell_type": "code",
   "execution_count": 21,
   "id": "fac0c861",
   "metadata": {},
   "outputs": [
    {
     "data": {
      "text/html": [
       "<div>\n",
       "<style scoped>\n",
       "    .dataframe tbody tr th:only-of-type {\n",
       "        vertical-align: middle;\n",
       "    }\n",
       "\n",
       "    .dataframe tbody tr th {\n",
       "        vertical-align: top;\n",
       "    }\n",
       "\n",
       "    .dataframe thead th {\n",
       "        text-align: right;\n",
       "    }\n",
       "</style>\n",
       "<table border=\"1\" class=\"dataframe\">\n",
       "  <thead>\n",
       "    <tr style=\"text-align: right;\">\n",
       "      <th></th>\n",
       "      <th>name</th>\n",
       "      <th>cost</th>\n",
       "      <th>specs</th>\n",
       "      <th>review</th>\n",
       "      <th>rating</th>\n",
       "      <th>image</th>\n",
       "      <th>new_column</th>\n",
       "    </tr>\n",
       "  </thead>\n",
       "  <tbody>\n",
       "    <tr>\n",
       "      <th>0</th>\n",
       "      <td>APPLE iPhone 8 (Space Grey, 256 GB)</td>\n",
       "      <td>₹77,000</td>\n",
       "      <td>['256 GB ROM', '11.94 cm (4.7 inch) Retina HD ...</td>\n",
       "      <td>799 Reviews</td>\n",
       "      <td>11,335 Ratings</td>\n",
       "      <td>https://rukminim1.flixcart.com/image/312/312/j...</td>\n",
       "      <td>data</td>\n",
       "    </tr>\n",
       "    <tr>\n",
       "      <th>1</th>\n",
       "      <td>APPLE iPhone 8 Plus (Gold, 64 GB)</td>\n",
       "      <td>₹49,900</td>\n",
       "      <td>['64 GB ROM', '13.97 cm (5.5 inch) Retina HD D...</td>\n",
       "      <td>355 Reviews</td>\n",
       "      <td>3,440 Ratings</td>\n",
       "      <td>https://rukminim1.flixcart.com/image/312/312/j...</td>\n",
       "      <td>data</td>\n",
       "    </tr>\n",
       "    <tr>\n",
       "      <th>2</th>\n",
       "      <td>APPLE iPhone XR (Black, 128 GB)</td>\n",
       "      <td>₹52,900</td>\n",
       "      <td>['128 GB ROM', '15.49 cm (6.1 inch) Display', ...</td>\n",
       "      <td>8,450 Reviews</td>\n",
       "      <td>98,673 Ratings</td>\n",
       "      <td>https://rukminim1.flixcart.com/image/312/312/k...</td>\n",
       "      <td>data</td>\n",
       "    </tr>\n",
       "    <tr>\n",
       "      <th>3</th>\n",
       "      <td>APPLE iPhone XS Max (Space Grey, 256 GB)</td>\n",
       "      <td>₹1,24,900</td>\n",
       "      <td>['256 GB ROM', '16.51 cm (6.5 inch) Super Reti...</td>\n",
       "      <td>149 Reviews</td>\n",
       "      <td>1,456 Ratings</td>\n",
       "      <td>https://rukminim1.flixcart.com/image/312/312/j...</td>\n",
       "      <td>data</td>\n",
       "    </tr>\n",
       "  </tbody>\n",
       "</table>\n",
       "</div>"
      ],
      "text/plain": [
       "                                       name       cost  \\\n",
       "0       APPLE iPhone 8 (Space Grey, 256 GB)    ₹77,000   \n",
       "1         APPLE iPhone 8 Plus (Gold, 64 GB)    ₹49,900   \n",
       "2           APPLE iPhone XR (Black, 128 GB)    ₹52,900   \n",
       "3  APPLE iPhone XS Max (Space Grey, 256 GB)  ₹1,24,900   \n",
       "\n",
       "                                               specs         review  \\\n",
       "0  ['256 GB ROM', '11.94 cm (4.7 inch) Retina HD ...    799 Reviews   \n",
       "1  ['64 GB ROM', '13.97 cm (5.5 inch) Retina HD D...    355 Reviews   \n",
       "2  ['128 GB ROM', '15.49 cm (6.1 inch) Display', ...  8,450 Reviews   \n",
       "3  ['256 GB ROM', '16.51 cm (6.5 inch) Super Reti...    149 Reviews   \n",
       "\n",
       "           rating                                              image  \\\n",
       "0  11,335 Ratings  https://rukminim1.flixcart.com/image/312/312/j...   \n",
       "1   3,440 Ratings  https://rukminim1.flixcart.com/image/312/312/j...   \n",
       "2  98,673 Ratings  https://rukminim1.flixcart.com/image/312/312/k...   \n",
       "3   1,456 Ratings  https://rukminim1.flixcart.com/image/312/312/j...   \n",
       "\n",
       "  new_column  \n",
       "0       data  \n",
       "1       data  \n",
       "2       data  \n",
       "3       data  "
      ]
     },
     "execution_count": 21,
     "metadata": {},
     "output_type": "execute_result"
    }
   ],
   "source": [
    "df.head(4)"
   ]
  },
  {
   "cell_type": "code",
   "execution_count": 22,
   "id": "d9091015",
   "metadata": {},
   "outputs": [],
   "source": [
    "#putting cost data in new_column\n",
    "df['new_column'] = df['cost']"
   ]
  },
  {
   "cell_type": "code",
   "execution_count": 23,
   "id": "f9661e0c",
   "metadata": {},
   "outputs": [
    {
     "data": {
      "text/html": [
       "<div>\n",
       "<style scoped>\n",
       "    .dataframe tbody tr th:only-of-type {\n",
       "        vertical-align: middle;\n",
       "    }\n",
       "\n",
       "    .dataframe tbody tr th {\n",
       "        vertical-align: top;\n",
       "    }\n",
       "\n",
       "    .dataframe thead th {\n",
       "        text-align: right;\n",
       "    }\n",
       "</style>\n",
       "<table border=\"1\" class=\"dataframe\">\n",
       "  <thead>\n",
       "    <tr style=\"text-align: right;\">\n",
       "      <th></th>\n",
       "      <th>name</th>\n",
       "      <th>cost</th>\n",
       "      <th>specs</th>\n",
       "      <th>review</th>\n",
       "      <th>rating</th>\n",
       "      <th>image</th>\n",
       "      <th>new_column</th>\n",
       "    </tr>\n",
       "  </thead>\n",
       "  <tbody>\n",
       "    <tr>\n",
       "      <th>0</th>\n",
       "      <td>APPLE iPhone 8 (Space Grey, 256 GB)</td>\n",
       "      <td>₹77,000</td>\n",
       "      <td>['256 GB ROM', '11.94 cm (4.7 inch) Retina HD ...</td>\n",
       "      <td>799 Reviews</td>\n",
       "      <td>11,335 Ratings</td>\n",
       "      <td>https://rukminim1.flixcart.com/image/312/312/j...</td>\n",
       "      <td>₹77,000</td>\n",
       "    </tr>\n",
       "    <tr>\n",
       "      <th>1</th>\n",
       "      <td>APPLE iPhone 8 Plus (Gold, 64 GB)</td>\n",
       "      <td>₹49,900</td>\n",
       "      <td>['64 GB ROM', '13.97 cm (5.5 inch) Retina HD D...</td>\n",
       "      <td>355 Reviews</td>\n",
       "      <td>3,440 Ratings</td>\n",
       "      <td>https://rukminim1.flixcart.com/image/312/312/j...</td>\n",
       "      <td>₹49,900</td>\n",
       "    </tr>\n",
       "    <tr>\n",
       "      <th>2</th>\n",
       "      <td>APPLE iPhone XR (Black, 128 GB)</td>\n",
       "      <td>₹52,900</td>\n",
       "      <td>['128 GB ROM', '15.49 cm (6.1 inch) Display', ...</td>\n",
       "      <td>8,450 Reviews</td>\n",
       "      <td>98,673 Ratings</td>\n",
       "      <td>https://rukminim1.flixcart.com/image/312/312/k...</td>\n",
       "      <td>₹52,900</td>\n",
       "    </tr>\n",
       "    <tr>\n",
       "      <th>3</th>\n",
       "      <td>APPLE iPhone XS Max (Space Grey, 256 GB)</td>\n",
       "      <td>₹1,24,900</td>\n",
       "      <td>['256 GB ROM', '16.51 cm (6.5 inch) Super Reti...</td>\n",
       "      <td>149 Reviews</td>\n",
       "      <td>1,456 Ratings</td>\n",
       "      <td>https://rukminim1.flixcart.com/image/312/312/j...</td>\n",
       "      <td>₹1,24,900</td>\n",
       "    </tr>\n",
       "  </tbody>\n",
       "</table>\n",
       "</div>"
      ],
      "text/plain": [
       "                                       name       cost  \\\n",
       "0       APPLE iPhone 8 (Space Grey, 256 GB)    ₹77,000   \n",
       "1         APPLE iPhone 8 Plus (Gold, 64 GB)    ₹49,900   \n",
       "2           APPLE iPhone XR (Black, 128 GB)    ₹52,900   \n",
       "3  APPLE iPhone XS Max (Space Grey, 256 GB)  ₹1,24,900   \n",
       "\n",
       "                                               specs         review  \\\n",
       "0  ['256 GB ROM', '11.94 cm (4.7 inch) Retina HD ...    799 Reviews   \n",
       "1  ['64 GB ROM', '13.97 cm (5.5 inch) Retina HD D...    355 Reviews   \n",
       "2  ['128 GB ROM', '15.49 cm (6.1 inch) Display', ...  8,450 Reviews   \n",
       "3  ['256 GB ROM', '16.51 cm (6.5 inch) Super Reti...    149 Reviews   \n",
       "\n",
       "           rating                                              image  \\\n",
       "0  11,335 Ratings  https://rukminim1.flixcart.com/image/312/312/j...   \n",
       "1   3,440 Ratings  https://rukminim1.flixcart.com/image/312/312/j...   \n",
       "2  98,673 Ratings  https://rukminim1.flixcart.com/image/312/312/k...   \n",
       "3   1,456 Ratings  https://rukminim1.flixcart.com/image/312/312/j...   \n",
       "\n",
       "  new_column  \n",
       "0    ₹77,000  \n",
       "1    ₹49,900  \n",
       "2    ₹52,900  \n",
       "3  ₹1,24,900  "
      ]
     },
     "execution_count": 23,
     "metadata": {},
     "output_type": "execute_result"
    }
   ],
   "source": [
    "df.head(4)  "
   ]
  },
  {
   "cell_type": "code",
   "execution_count": 25,
   "id": "1a2a5667",
   "metadata": {},
   "outputs": [
    {
     "data": {
      "text/plain": [
       "['799 Reviews', '355 Reviews', '8,450 Reviews', '149 Reviews', '355 Reviews', ..., '355 Reviews', '8,450 Reviews', '355 Reviews', '874 Reviews', '355 Reviews']\n",
       "Length: 72\n",
       "Categories (7, object): ['11,053 Reviews', '149 Reviews', '16,343 Reviews', '355 Reviews', '799 Reviews', '8,450 Reviews', '874 Reviews']"
      ]
     },
     "execution_count": 25,
     "metadata": {},
     "output_type": "execute_result"
    }
   ],
   "source": [
    "# categorizing data withpandas categoical lib\n",
    "\n",
    "pd.Categorical(df['review'])                             #we can see that there is 7 categoies of reviews in 72 products"
   ]
  },
  {
   "cell_type": "code",
   "execution_count": 26,
   "id": "938dd727",
   "metadata": {},
   "outputs": [
    {
     "data": {
      "text/plain": [
       "['₹77,000', '₹49,900', '₹52,900', '₹1,24,900', '₹49,900', ..., '₹84,900', '₹52,900', '₹49,900', '₹1,34,900', '₹84,900']\n",
       "Length: 72\n",
       "Categories (14, object): ['₹1,24,900', '₹1,34,900', '₹29,999', '₹30,499', ..., '₹52,000', '₹52,900', '₹77,000', '₹84,900']"
      ]
     },
     "execution_count": 26,
     "metadata": {},
     "output_type": "execute_result"
    }
   ],
   "source": [
    "pd.Categorical(df['cost'])"
   ]
  },
  {
   "cell_type": "code",
   "execution_count": 27,
   "id": "4ce12fd3",
   "metadata": {},
   "outputs": [
    {
     "data": {
      "text/plain": [
       "array(['₹77,000', '₹49,900', '₹52,900', '₹1,24,900', '₹38,999', '₹47,900',\n",
       "       '₹52,000', '₹44,999', '₹84,900', '₹1,34,900', '₹30,499', '₹35,499',\n",
       "       '₹29,999', '₹34,999'], dtype=object)"
      ]
     },
     "execution_count": 27,
     "metadata": {},
     "output_type": "execute_result"
    }
   ],
   "source": [
    "df['cost'].unique()"
   ]
  },
  {
   "cell_type": "code",
   "execution_count": 30,
   "id": "9f60f676",
   "metadata": {},
   "outputs": [
    {
     "data": {
      "text/plain": [
       "0     False\n",
       "1     False\n",
       "2     False\n",
       "3     False\n",
       "4     False\n",
       "      ...  \n",
       "67    False\n",
       "68    False\n",
       "69    False\n",
       "70    False\n",
       "71    False\n",
       "Name: rating, Length: 72, dtype: bool"
      ]
     },
     "execution_count": 30,
     "metadata": {},
     "output_type": "execute_result"
    }
   ],
   "source": [
    "df['rating'].isnull()"
   ]
  },
  {
   "cell_type": "code",
   "execution_count": 33,
   "id": "a4586cad",
   "metadata": {},
   "outputs": [
    {
     "data": {
      "text/plain": [
       "Series([], Name: rating, dtype: object)"
      ]
     },
     "execution_count": 33,
     "metadata": {},
     "output_type": "execute_result"
    }
   ],
   "source": [
    "#fetching records with null value\n",
    "df['rating'][df['rating'].isnull() == True]                         #no null values"
   ]
  },
  {
   "cell_type": "code",
   "execution_count": 45,
   "id": "e183a984",
   "metadata": {},
   "outputs": [
    {
     "data": {
      "text/plain": [
       "0     11,335 Ratings\n",
       "1      3,440 Ratings\n",
       "2     98,673 Ratings\n",
       "3      1,456 Ratings\n",
       "4      3,440 Ratings\n",
       "           ...      \n",
       "67     3,440 Ratings\n",
       "68    98,673 Ratings\n",
       "69     3,440 Ratings\n",
       "70    11,956 Ratings\n",
       "71     3,440 Ratings\n",
       "Name: rating, Length: 72, dtype: object"
      ]
     },
     "execution_count": 45,
     "metadata": {},
     "output_type": "execute_result"
    }
   ],
   "source": [
    "df['rating'][df['rating'].isnull() == False]                     # fetching non null values\n",
    "ser=df['rating'][df['rating'].isnull() == False]\n",
    "ser"
   ]
  },
  {
   "cell_type": "code",
   "execution_count": 46,
   "id": "552f0641",
   "metadata": {},
   "outputs": [
    {
     "data": {
      "text/plain": [
       "Int64Index([ 0,  1,  2,  3,  4,  5,  6,  7,  8,  9, 10, 11, 12, 13, 14, 15, 16,\n",
       "            17, 18, 19, 20, 21, 22, 23, 24, 25, 26, 27, 28, 29, 30, 31, 32, 33,\n",
       "            34, 35, 36, 37, 38, 39, 40, 41, 42, 43, 44, 45, 46, 47, 48, 49, 50,\n",
       "            51, 52, 53, 54, 55, 56, 57, 58, 59, 60, 61, 62, 63, 64, 65, 66, 67,\n",
       "            68, 69, 70, 71],\n",
       "           dtype='int64')"
      ]
     },
     "execution_count": 46,
     "metadata": {},
     "output_type": "execute_result"
    }
   ],
   "source": [
    "ser.index                           # "
   ]
  },
  {
   "cell_type": "code",
   "execution_count": 41,
   "id": "17832d48",
   "metadata": {},
   "outputs": [
    {
     "data": {
      "text/html": [
       "<div>\n",
       "<style scoped>\n",
       "    .dataframe tbody tr th:only-of-type {\n",
       "        vertical-align: middle;\n",
       "    }\n",
       "\n",
       "    .dataframe tbody tr th {\n",
       "        vertical-align: top;\n",
       "    }\n",
       "\n",
       "    .dataframe thead th {\n",
       "        text-align: right;\n",
       "    }\n",
       "</style>\n",
       "<table border=\"1\" class=\"dataframe\">\n",
       "  <thead>\n",
       "    <tr style=\"text-align: right;\">\n",
       "      <th></th>\n",
       "      <th>name</th>\n",
       "      <th>cost</th>\n",
       "      <th>specs</th>\n",
       "      <th>review</th>\n",
       "      <th>rating</th>\n",
       "      <th>image</th>\n",
       "      <th>new_column</th>\n",
       "    </tr>\n",
       "  </thead>\n",
       "  <tbody>\n",
       "    <tr>\n",
       "      <th>6</th>\n",
       "      <td>APPLE iPhone 8 (Gold, 64 GB)</td>\n",
       "      <td>₹38,999</td>\n",
       "      <td>['64 GB ROM', '11.94 cm (4.7 inch) Retina HD D...</td>\n",
       "      <td>799 Reviews</td>\n",
       "      <td>11,335 Ratings</td>\n",
       "      <td>https://rukminim1.flixcart.com/image/312/312/j...</td>\n",
       "      <td>₹38,999</td>\n",
       "    </tr>\n",
       "    <tr>\n",
       "      <th>7</th>\n",
       "      <td>Apple iPhone XR (Black, 64 GB) (Includes EarPo...</td>\n",
       "      <td>₹47,900</td>\n",
       "      <td>['64 GB ROM', '15.5 cm (6.102 inch) Display', ...</td>\n",
       "      <td>8,450 Reviews</td>\n",
       "      <td>98,673 Ratings</td>\n",
       "      <td>https://rukminim1.flixcart.com/image/312/312/j...</td>\n",
       "      <td>₹47,900</td>\n",
       "    </tr>\n",
       "    <tr>\n",
       "      <th>8</th>\n",
       "      <td>APPLE iPhone 6 (Space Grey, 16 GB)</td>\n",
       "      <td>₹52,000</td>\n",
       "      <td>['16 GB ROM', '11.94 cm (4.7 inch) Retina HD D...</td>\n",
       "      <td>16,343 Reviews</td>\n",
       "      <td>1,45,594 Ratings</td>\n",
       "      <td>https://rukminim1.flixcart.com/image/312/312/m...</td>\n",
       "      <td>₹52,000</td>\n",
       "    </tr>\n",
       "    <tr>\n",
       "      <th>9</th>\n",
       "      <td>APPLE iPhone SE (Black, 256 GB)</td>\n",
       "      <td>₹44,999</td>\n",
       "      <td>['256 GB ROM', '11.94 cm (4.7 inch) Retina HD ...</td>\n",
       "      <td>11,053 Reviews</td>\n",
       "      <td>1,36,900 Ratings</td>\n",
       "      <td>https://rukminim1.flixcart.com/image/312/312/k...</td>\n",
       "      <td>₹44,999</td>\n",
       "    </tr>\n",
       "    <tr>\n",
       "      <th>10</th>\n",
       "      <td>APPLE iPhone 8 (Gold, 256 GB)</td>\n",
       "      <td>₹77,000</td>\n",
       "      <td>['256 GB ROM', '11.94 cm (4.7 inch) Retina HD ...</td>\n",
       "      <td>799 Reviews</td>\n",
       "      <td>11,335 Ratings</td>\n",
       "      <td>https://rukminim1.flixcart.com/image/312/312/j...</td>\n",
       "      <td>₹77,000</td>\n",
       "    </tr>\n",
       "    <tr>\n",
       "      <th>11</th>\n",
       "      <td>APPLE iPhone 8 Plus (Silver, 256 GB)</td>\n",
       "      <td>₹84,900</td>\n",
       "      <td>['256 GB ROM', '13.97 cm (5.5 inch) Retina HD ...</td>\n",
       "      <td>355 Reviews</td>\n",
       "      <td>3,440 Ratings</td>\n",
       "      <td>https://rukminim1.flixcart.com/image/312/312/j...</td>\n",
       "      <td>₹84,900</td>\n",
       "    </tr>\n",
       "  </tbody>\n",
       "</table>\n",
       "</div>"
      ],
      "text/plain": [
       "                                                 name     cost  \\\n",
       "6                        APPLE iPhone 8 (Gold, 64 GB)  ₹38,999   \n",
       "7   Apple iPhone XR (Black, 64 GB) (Includes EarPo...  ₹47,900   \n",
       "8                  APPLE iPhone 6 (Space Grey, 16 GB)  ₹52,000   \n",
       "9                     APPLE iPhone SE (Black, 256 GB)  ₹44,999   \n",
       "10                      APPLE iPhone 8 (Gold, 256 GB)  ₹77,000   \n",
       "11               APPLE iPhone 8 Plus (Silver, 256 GB)  ₹84,900   \n",
       "\n",
       "                                                specs          review  \\\n",
       "6   ['64 GB ROM', '11.94 cm (4.7 inch) Retina HD D...     799 Reviews   \n",
       "7   ['64 GB ROM', '15.5 cm (6.102 inch) Display', ...   8,450 Reviews   \n",
       "8   ['16 GB ROM', '11.94 cm (4.7 inch) Retina HD D...  16,343 Reviews   \n",
       "9   ['256 GB ROM', '11.94 cm (4.7 inch) Retina HD ...  11,053 Reviews   \n",
       "10  ['256 GB ROM', '11.94 cm (4.7 inch) Retina HD ...     799 Reviews   \n",
       "11  ['256 GB ROM', '13.97 cm (5.5 inch) Retina HD ...     355 Reviews   \n",
       "\n",
       "              rating                                              image  \\\n",
       "6     11,335 Ratings  https://rukminim1.flixcart.com/image/312/312/j...   \n",
       "7     98,673 Ratings  https://rukminim1.flixcart.com/image/312/312/j...   \n",
       "8   1,45,594 Ratings  https://rukminim1.flixcart.com/image/312/312/m...   \n",
       "9   1,36,900 Ratings  https://rukminim1.flixcart.com/image/312/312/k...   \n",
       "10    11,335 Ratings  https://rukminim1.flixcart.com/image/312/312/j...   \n",
       "11     3,440 Ratings  https://rukminim1.flixcart.com/image/312/312/j...   \n",
       "\n",
       "   new_column  \n",
       "6     ₹38,999  \n",
       "7     ₹47,900  \n",
       "8     ₹52,000  \n",
       "9     ₹44,999  \n",
       "10    ₹77,000  \n",
       "11    ₹84,900  "
      ]
     },
     "execution_count": 41,
     "metadata": {},
     "output_type": "execute_result"
    }
   ],
   "source": [
    "df.iloc[6:12]"
   ]
  },
  {
   "cell_type": "code",
   "execution_count": 43,
   "id": "ccf9465d",
   "metadata": {},
   "outputs": [
    {
     "data": {
      "text/html": [
       "<div>\n",
       "<style scoped>\n",
       "    .dataframe tbody tr th:only-of-type {\n",
       "        vertical-align: middle;\n",
       "    }\n",
       "\n",
       "    .dataframe tbody tr th {\n",
       "        vertical-align: top;\n",
       "    }\n",
       "\n",
       "    .dataframe thead th {\n",
       "        text-align: right;\n",
       "    }\n",
       "</style>\n",
       "<table border=\"1\" class=\"dataframe\">\n",
       "  <thead>\n",
       "    <tr style=\"text-align: right;\">\n",
       "      <th></th>\n",
       "      <th>name</th>\n",
       "      <th>cost</th>\n",
       "      <th>specs</th>\n",
       "      <th>review</th>\n",
       "      <th>rating</th>\n",
       "      <th>image</th>\n",
       "      <th>new_column</th>\n",
       "    </tr>\n",
       "  </thead>\n",
       "  <tbody>\n",
       "    <tr>\n",
       "      <th>0</th>\n",
       "      <td>APPLE iPhone 8 (Space Grey, 256 GB)</td>\n",
       "      <td>₹77,000</td>\n",
       "      <td>['256 GB ROM', '11.94 cm (4.7 inch) Retina HD ...</td>\n",
       "      <td>799 Reviews</td>\n",
       "      <td>11,335 Ratings</td>\n",
       "      <td>https://rukminim1.flixcart.com/image/312/312/j...</td>\n",
       "      <td>₹77,000</td>\n",
       "    </tr>\n",
       "    <tr>\n",
       "      <th>1</th>\n",
       "      <td>APPLE iPhone 8 Plus (Gold, 64 GB)</td>\n",
       "      <td>₹49,900</td>\n",
       "      <td>['64 GB ROM', '13.97 cm (5.5 inch) Retina HD D...</td>\n",
       "      <td>355 Reviews</td>\n",
       "      <td>3,440 Ratings</td>\n",
       "      <td>https://rukminim1.flixcart.com/image/312/312/j...</td>\n",
       "      <td>₹49,900</td>\n",
       "    </tr>\n",
       "    <tr>\n",
       "      <th>2</th>\n",
       "      <td>APPLE iPhone XR (Black, 128 GB)</td>\n",
       "      <td>₹52,900</td>\n",
       "      <td>['128 GB ROM', '15.49 cm (6.1 inch) Display', ...</td>\n",
       "      <td>8,450 Reviews</td>\n",
       "      <td>98,673 Ratings</td>\n",
       "      <td>https://rukminim1.flixcart.com/image/312/312/k...</td>\n",
       "      <td>₹52,900</td>\n",
       "    </tr>\n",
       "    <tr>\n",
       "      <th>3</th>\n",
       "      <td>APPLE iPhone XS Max (Space Grey, 256 GB)</td>\n",
       "      <td>₹1,24,900</td>\n",
       "      <td>['256 GB ROM', '16.51 cm (6.5 inch) Super Reti...</td>\n",
       "      <td>149 Reviews</td>\n",
       "      <td>1,456 Ratings</td>\n",
       "      <td>https://rukminim1.flixcart.com/image/312/312/j...</td>\n",
       "      <td>₹1,24,900</td>\n",
       "    </tr>\n",
       "    <tr>\n",
       "      <th>4</th>\n",
       "      <td>APPLE iPhone 8 Plus (Silver, 64 GB)</td>\n",
       "      <td>₹49,900</td>\n",
       "      <td>['64 GB ROM', '13.97 cm (5.5 inch) Retina HD D...</td>\n",
       "      <td>355 Reviews</td>\n",
       "      <td>3,440 Ratings</td>\n",
       "      <td>https://rukminim1.flixcart.com/image/312/312/j...</td>\n",
       "      <td>₹49,900</td>\n",
       "    </tr>\n",
       "    <tr>\n",
       "      <th>...</th>\n",
       "      <td>...</td>\n",
       "      <td>...</td>\n",
       "      <td>...</td>\n",
       "      <td>...</td>\n",
       "      <td>...</td>\n",
       "      <td>...</td>\n",
       "      <td>...</td>\n",
       "    </tr>\n",
       "    <tr>\n",
       "      <th>67</th>\n",
       "      <td>APPLE iPhone 8 Plus (Silver, 256 GB)</td>\n",
       "      <td>₹84,900</td>\n",
       "      <td>['256 GB ROM', '13.97 cm (5.5 inch) Retina HD ...</td>\n",
       "      <td>355 Reviews</td>\n",
       "      <td>3,440 Ratings</td>\n",
       "      <td>https://rukminim1.flixcart.com/image/312/312/j...</td>\n",
       "      <td>₹84,900</td>\n",
       "    </tr>\n",
       "    <tr>\n",
       "      <th>68</th>\n",
       "      <td>APPLE iPhone XR (White, 128 GB)</td>\n",
       "      <td>₹52,900</td>\n",
       "      <td>['128 GB ROM', '15.49 cm (6.1 inch) Display', ...</td>\n",
       "      <td>8,450 Reviews</td>\n",
       "      <td>98,673 Ratings</td>\n",
       "      <td>https://rukminim1.flixcart.com/image/312/312/k...</td>\n",
       "      <td>₹52,900</td>\n",
       "    </tr>\n",
       "    <tr>\n",
       "      <th>69</th>\n",
       "      <td>APPLE iPhone 8 Plus (Space Grey, 64 GB)</td>\n",
       "      <td>₹49,900</td>\n",
       "      <td>['64 GB ROM', '13.97 cm (5.5 inch) Retina HD D...</td>\n",
       "      <td>355 Reviews</td>\n",
       "      <td>3,440 Ratings</td>\n",
       "      <td>https://rukminim1.flixcart.com/image/312/312/j...</td>\n",
       "      <td>₹49,900</td>\n",
       "    </tr>\n",
       "    <tr>\n",
       "      <th>70</th>\n",
       "      <td>APPLE iPhone XS (Gold, 512 GB)</td>\n",
       "      <td>₹1,34,900</td>\n",
       "      <td>['512 GB ROM', '14.73 cm (5.8 inch) Super Reti...</td>\n",
       "      <td>874 Reviews</td>\n",
       "      <td>11,956 Ratings</td>\n",
       "      <td>https://rukminim1.flixcart.com/image/312/312/j...</td>\n",
       "      <td>₹1,34,900</td>\n",
       "    </tr>\n",
       "    <tr>\n",
       "      <th>71</th>\n",
       "      <td>APPLE iPhone 8 Plus (Space Grey, 256 GB)</td>\n",
       "      <td>₹84,900</td>\n",
       "      <td>['256 GB ROM', '13.97 cm (5.5 inch) Retina HD ...</td>\n",
       "      <td>355 Reviews</td>\n",
       "      <td>3,440 Ratings</td>\n",
       "      <td>https://rukminim1.flixcart.com/image/312/312/j...</td>\n",
       "      <td>₹84,900</td>\n",
       "    </tr>\n",
       "  </tbody>\n",
       "</table>\n",
       "<p>72 rows × 7 columns</p>\n",
       "</div>"
      ],
      "text/plain": [
       "                                        name       cost  \\\n",
       "0        APPLE iPhone 8 (Space Grey, 256 GB)    ₹77,000   \n",
       "1          APPLE iPhone 8 Plus (Gold, 64 GB)    ₹49,900   \n",
       "2            APPLE iPhone XR (Black, 128 GB)    ₹52,900   \n",
       "3   APPLE iPhone XS Max (Space Grey, 256 GB)  ₹1,24,900   \n",
       "4        APPLE iPhone 8 Plus (Silver, 64 GB)    ₹49,900   \n",
       "..                                       ...        ...   \n",
       "67      APPLE iPhone 8 Plus (Silver, 256 GB)    ₹84,900   \n",
       "68           APPLE iPhone XR (White, 128 GB)    ₹52,900   \n",
       "69   APPLE iPhone 8 Plus (Space Grey, 64 GB)    ₹49,900   \n",
       "70            APPLE iPhone XS (Gold, 512 GB)  ₹1,34,900   \n",
       "71  APPLE iPhone 8 Plus (Space Grey, 256 GB)    ₹84,900   \n",
       "\n",
       "                                                specs         review  \\\n",
       "0   ['256 GB ROM', '11.94 cm (4.7 inch) Retina HD ...    799 Reviews   \n",
       "1   ['64 GB ROM', '13.97 cm (5.5 inch) Retina HD D...    355 Reviews   \n",
       "2   ['128 GB ROM', '15.49 cm (6.1 inch) Display', ...  8,450 Reviews   \n",
       "3   ['256 GB ROM', '16.51 cm (6.5 inch) Super Reti...    149 Reviews   \n",
       "4   ['64 GB ROM', '13.97 cm (5.5 inch) Retina HD D...    355 Reviews   \n",
       "..                                                ...            ...   \n",
       "67  ['256 GB ROM', '13.97 cm (5.5 inch) Retina HD ...    355 Reviews   \n",
       "68  ['128 GB ROM', '15.49 cm (6.1 inch) Display', ...  8,450 Reviews   \n",
       "69  ['64 GB ROM', '13.97 cm (5.5 inch) Retina HD D...    355 Reviews   \n",
       "70  ['512 GB ROM', '14.73 cm (5.8 inch) Super Reti...    874 Reviews   \n",
       "71  ['256 GB ROM', '13.97 cm (5.5 inch) Retina HD ...    355 Reviews   \n",
       "\n",
       "            rating                                              image  \\\n",
       "0   11,335 Ratings  https://rukminim1.flixcart.com/image/312/312/j...   \n",
       "1    3,440 Ratings  https://rukminim1.flixcart.com/image/312/312/j...   \n",
       "2   98,673 Ratings  https://rukminim1.flixcart.com/image/312/312/k...   \n",
       "3    1,456 Ratings  https://rukminim1.flixcart.com/image/312/312/j...   \n",
       "4    3,440 Ratings  https://rukminim1.flixcart.com/image/312/312/j...   \n",
       "..             ...                                                ...   \n",
       "67   3,440 Ratings  https://rukminim1.flixcart.com/image/312/312/j...   \n",
       "68  98,673 Ratings  https://rukminim1.flixcart.com/image/312/312/k...   \n",
       "69   3,440 Ratings  https://rukminim1.flixcart.com/image/312/312/j...   \n",
       "70  11,956 Ratings  https://rukminim1.flixcart.com/image/312/312/j...   \n",
       "71   3,440 Ratings  https://rukminim1.flixcart.com/image/312/312/j...   \n",
       "\n",
       "   new_column  \n",
       "0     ₹77,000  \n",
       "1     ₹49,900  \n",
       "2     ₹52,900  \n",
       "3   ₹1,24,900  \n",
       "4     ₹49,900  \n",
       "..        ...  \n",
       "67    ₹84,900  \n",
       "68    ₹52,900  \n",
       "69    ₹49,900  \n",
       "70  ₹1,34,900  \n",
       "71    ₹84,900  \n",
       "\n",
       "[72 rows x 7 columns]"
      ]
     },
     "execution_count": 43,
     "metadata": {},
     "output_type": "execute_result"
    }
   ],
   "source": [
    "df.iloc[ser.index]             #will give data in df where rating values are not null (coz of ser.index)"
   ]
  },
  {
   "cell_type": "code",
   "execution_count": 48,
   "id": "b6b3e1c7",
   "metadata": {},
   "outputs": [
    {
     "data": {
      "text/html": [
       "<div>\n",
       "<style scoped>\n",
       "    .dataframe tbody tr th:only-of-type {\n",
       "        vertical-align: middle;\n",
       "    }\n",
       "\n",
       "    .dataframe tbody tr th {\n",
       "        vertical-align: top;\n",
       "    }\n",
       "\n",
       "    .dataframe thead th {\n",
       "        text-align: right;\n",
       "    }\n",
       "</style>\n",
       "<table border=\"1\" class=\"dataframe\">\n",
       "  <thead>\n",
       "    <tr style=\"text-align: right;\">\n",
       "      <th></th>\n",
       "      <th>name</th>\n",
       "      <th>cost</th>\n",
       "      <th>specs</th>\n",
       "      <th>review</th>\n",
       "      <th>rating</th>\n",
       "      <th>image</th>\n",
       "      <th>new_column</th>\n",
       "    </tr>\n",
       "  </thead>\n",
       "  <tbody>\n",
       "    <tr>\n",
       "      <th>1</th>\n",
       "      <td>APPLE iPhone 8 Plus (Gold, 64 GB)</td>\n",
       "      <td>₹49,900</td>\n",
       "      <td>['64 GB ROM', '13.97 cm (5.5 inch) Retina HD D...</td>\n",
       "      <td>355 Reviews</td>\n",
       "      <td>3,440 Ratings</td>\n",
       "      <td>https://rukminim1.flixcart.com/image/312/312/j...</td>\n",
       "      <td>₹49,900</td>\n",
       "    </tr>\n",
       "    <tr>\n",
       "      <th>5</th>\n",
       "      <td>APPLE iPhone XR (Blue, 128 GB)</td>\n",
       "      <td>₹52,900</td>\n",
       "      <td>['128 GB ROM', '15.49 cm (6.1 inch) Display', ...</td>\n",
       "      <td>8,450 Reviews</td>\n",
       "      <td>98,673 Ratings</td>\n",
       "      <td>https://rukminim1.flixcart.com/image/312/312/k...</td>\n",
       "      <td>₹52,900</td>\n",
       "    </tr>\n",
       "    <tr>\n",
       "      <th>8</th>\n",
       "      <td>APPLE iPhone 6 (Space Grey, 16 GB)</td>\n",
       "      <td>₹52,000</td>\n",
       "      <td>['16 GB ROM', '11.94 cm (4.7 inch) Retina HD D...</td>\n",
       "      <td>16,343 Reviews</td>\n",
       "      <td>1,45,594 Ratings</td>\n",
       "      <td>https://rukminim1.flixcart.com/image/312/312/m...</td>\n",
       "      <td>₹52,000</td>\n",
       "    </tr>\n",
       "    <tr>\n",
       "      <th>10</th>\n",
       "      <td>APPLE iPhone 8 (Gold, 256 GB)</td>\n",
       "      <td>₹77,000</td>\n",
       "      <td>['256 GB ROM', '11.94 cm (4.7 inch) Retina HD ...</td>\n",
       "      <td>799 Reviews</td>\n",
       "      <td>11,335 Ratings</td>\n",
       "      <td>https://rukminim1.flixcart.com/image/312/312/j...</td>\n",
       "      <td>₹77,000</td>\n",
       "    </tr>\n",
       "    <tr>\n",
       "      <th>30</th>\n",
       "      <td>APPLE iPhone XR (Blue, 128 GB)</td>\n",
       "      <td>₹52,900</td>\n",
       "      <td>['128 GB ROM', '15.49 cm (6.1 inch) Display', ...</td>\n",
       "      <td>8,450 Reviews</td>\n",
       "      <td>98,673 Ratings</td>\n",
       "      <td>https://rukminim1.flixcart.com/image/312/312/k...</td>\n",
       "      <td>₹52,900</td>\n",
       "    </tr>\n",
       "  </tbody>\n",
       "</table>\n",
       "</div>"
      ],
      "text/plain": [
       "                                  name     cost  \\\n",
       "1    APPLE iPhone 8 Plus (Gold, 64 GB)  ₹49,900   \n",
       "5       APPLE iPhone XR (Blue, 128 GB)  ₹52,900   \n",
       "8   APPLE iPhone 6 (Space Grey, 16 GB)  ₹52,000   \n",
       "10       APPLE iPhone 8 (Gold, 256 GB)  ₹77,000   \n",
       "30      APPLE iPhone XR (Blue, 128 GB)  ₹52,900   \n",
       "\n",
       "                                                specs          review  \\\n",
       "1   ['64 GB ROM', '13.97 cm (5.5 inch) Retina HD D...     355 Reviews   \n",
       "5   ['128 GB ROM', '15.49 cm (6.1 inch) Display', ...   8,450 Reviews   \n",
       "8   ['16 GB ROM', '11.94 cm (4.7 inch) Retina HD D...  16,343 Reviews   \n",
       "10  ['256 GB ROM', '11.94 cm (4.7 inch) Retina HD ...     799 Reviews   \n",
       "30  ['128 GB ROM', '15.49 cm (6.1 inch) Display', ...   8,450 Reviews   \n",
       "\n",
       "              rating                                              image  \\\n",
       "1      3,440 Ratings  https://rukminim1.flixcart.com/image/312/312/j...   \n",
       "5     98,673 Ratings  https://rukminim1.flixcart.com/image/312/312/k...   \n",
       "8   1,45,594 Ratings  https://rukminim1.flixcart.com/image/312/312/m...   \n",
       "10    11,335 Ratings  https://rukminim1.flixcart.com/image/312/312/j...   \n",
       "30    98,673 Ratings  https://rukminim1.flixcart.com/image/312/312/k...   \n",
       "\n",
       "   new_column  \n",
       "1     ₹49,900  \n",
       "5     ₹52,900  \n",
       "8     ₹52,000  \n",
       "10    ₹77,000  \n",
       "30    ₹52,900  "
      ]
     },
     "execution_count": 48,
     "metadata": {},
     "output_type": "execute_result"
    }
   ],
   "source": [
    "df.iloc[[1,5,8,10,30]]"
   ]
  },
  {
   "cell_type": "code",
   "execution_count": 52,
   "id": "b538092b",
   "metadata": {},
   "outputs": [
    {
     "data": {
      "text/plain": [
       "11        APPLE iPhone 8 Plus (Silver, 256 GB)\n",
       "36        APPLE iPhone 8 Plus (Silver, 256 GB)\n",
       "67        APPLE iPhone 8 Plus (Silver, 256 GB)\n",
       "71    APPLE iPhone 8 Plus (Space Grey, 256 GB)\n",
       "Name: name, dtype: object"
      ]
     },
     "execution_count": 52,
     "metadata": {},
     "output_type": "execute_result"
    }
   ],
   "source": [
    "df[df['cost'] == max(df['cost'])]['name']            #not  giving right values as cost is stored as string in the file"
   ]
  },
  {
   "cell_type": "code",
   "execution_count": 53,
   "id": "80ede87d",
   "metadata": {},
   "outputs": [
    {
     "data": {
      "text/html": [
       "<div>\n",
       "<style scoped>\n",
       "    .dataframe tbody tr th:only-of-type {\n",
       "        vertical-align: middle;\n",
       "    }\n",
       "\n",
       "    .dataframe tbody tr th {\n",
       "        vertical-align: top;\n",
       "    }\n",
       "\n",
       "    .dataframe thead th {\n",
       "        text-align: right;\n",
       "    }\n",
       "</style>\n",
       "<table border=\"1\" class=\"dataframe\">\n",
       "  <thead>\n",
       "    <tr style=\"text-align: right;\">\n",
       "      <th></th>\n",
       "      <th>name</th>\n",
       "      <th>cost</th>\n",
       "      <th>specs</th>\n",
       "      <th>review</th>\n",
       "      <th>rating</th>\n",
       "      <th>image</th>\n",
       "      <th>new_column</th>\n",
       "    </tr>\n",
       "  </thead>\n",
       "  <tbody>\n",
       "    <tr>\n",
       "      <th>16</th>\n",
       "      <td>APPLE iPhone SE (Black, 64 GB)</td>\n",
       "      <td>₹30,499</td>\n",
       "      <td>['64 GB ROM', '11.94 cm (4.7 inch) Retina HD D...</td>\n",
       "      <td>11,053 Reviews</td>\n",
       "      <td>1,36,900 Ratings</td>\n",
       "      <td>https://rukminim1.flixcart.com/image/312/312/k...</td>\n",
       "      <td>₹30,499</td>\n",
       "    </tr>\n",
       "    <tr>\n",
       "      <th>36</th>\n",
       "      <td>APPLE iPhone 8 Plus (Silver, 256 GB)</td>\n",
       "      <td>₹84,900</td>\n",
       "      <td>['256 GB ROM', '13.97 cm (5.5 inch) Retina HD ...</td>\n",
       "      <td>355 Reviews</td>\n",
       "      <td>3,440 Ratings</td>\n",
       "      <td>https://rukminim1.flixcart.com/image/312/312/j...</td>\n",
       "      <td>₹84,900</td>\n",
       "    </tr>\n",
       "    <tr>\n",
       "      <th>37</th>\n",
       "      <td>APPLE iPhone XR (White, 128 GB)</td>\n",
       "      <td>₹52,900</td>\n",
       "      <td>['128 GB ROM', '15.49 cm (6.1 inch) Display', ...</td>\n",
       "      <td>8,450 Reviews</td>\n",
       "      <td>98,673 Ratings</td>\n",
       "      <td>https://rukminim1.flixcart.com/image/312/312/k...</td>\n",
       "      <td>₹52,900</td>\n",
       "    </tr>\n",
       "    <tr>\n",
       "      <th>71</th>\n",
       "      <td>APPLE iPhone 8 Plus (Space Grey, 256 GB)</td>\n",
       "      <td>₹84,900</td>\n",
       "      <td>['256 GB ROM', '13.97 cm (5.5 inch) Retina HD ...</td>\n",
       "      <td>355 Reviews</td>\n",
       "      <td>3,440 Ratings</td>\n",
       "      <td>https://rukminim1.flixcart.com/image/312/312/j...</td>\n",
       "      <td>₹84,900</td>\n",
       "    </tr>\n",
       "  </tbody>\n",
       "</table>\n",
       "</div>"
      ],
      "text/plain": [
       "                                        name     cost  \\\n",
       "16            APPLE iPhone SE (Black, 64 GB)  ₹30,499   \n",
       "36      APPLE iPhone 8 Plus (Silver, 256 GB)  ₹84,900   \n",
       "37           APPLE iPhone XR (White, 128 GB)  ₹52,900   \n",
       "71  APPLE iPhone 8 Plus (Space Grey, 256 GB)  ₹84,900   \n",
       "\n",
       "                                                specs          review  \\\n",
       "16  ['64 GB ROM', '11.94 cm (4.7 inch) Retina HD D...  11,053 Reviews   \n",
       "36  ['256 GB ROM', '13.97 cm (5.5 inch) Retina HD ...     355 Reviews   \n",
       "37  ['128 GB ROM', '15.49 cm (6.1 inch) Display', ...   8,450 Reviews   \n",
       "71  ['256 GB ROM', '13.97 cm (5.5 inch) Retina HD ...     355 Reviews   \n",
       "\n",
       "              rating                                              image  \\\n",
       "16  1,36,900 Ratings  https://rukminim1.flixcart.com/image/312/312/k...   \n",
       "36     3,440 Ratings  https://rukminim1.flixcart.com/image/312/312/j...   \n",
       "37    98,673 Ratings  https://rukminim1.flixcart.com/image/312/312/k...   \n",
       "71     3,440 Ratings  https://rukminim1.flixcart.com/image/312/312/j...   \n",
       "\n",
       "   new_column  \n",
       "16    ₹30,499  \n",
       "36    ₹84,900  \n",
       "37    ₹52,900  \n",
       "71    ₹84,900  "
      ]
     },
     "execution_count": 53,
     "metadata": {},
     "output_type": "execute_result"
    }
   ],
   "source": [
    "df.iloc[[16,36,37,71]]"
   ]
  },
  {
   "cell_type": "code",
   "execution_count": 56,
   "id": "f47351ba",
   "metadata": {},
   "outputs": [
    {
     "data": {
      "text/plain": [
       "0         ₹77,000₹77,000\n",
       "1         ₹49,900₹49,900\n",
       "2         ₹52,900₹52,900\n",
       "3     ₹1,24,900₹1,24,900\n",
       "4         ₹49,900₹49,900\n",
       "             ...        \n",
       "67        ₹84,900₹84,900\n",
       "68        ₹52,900₹52,900\n",
       "69        ₹49,900₹49,900\n",
       "70    ₹1,34,900₹1,34,900\n",
       "71        ₹84,900₹84,900\n",
       "Name: new_col, Length: 72, dtype: object"
      ]
     },
     "execution_count": 56,
     "metadata": {},
     "output_type": "execute_result"
    }
   ],
   "source": [
    "#creating a new column 2 with adding values of cost and new_column\n",
    "df['new_col'] = df['cost'] + df['new_column']\n",
    "df['new_col']"
   ]
  },
  {
   "cell_type": "code",
   "execution_count": null,
   "id": "4545e34c",
   "metadata": {},
   "outputs": [],
   "source": []
  }
 ],
 "metadata": {
  "kernelspec": {
   "display_name": "Python 3 (ipykernel)",
   "language": "python",
   "name": "python3"
  },
  "language_info": {
   "codemirror_mode": {
    "name": "ipython",
    "version": 3
   },
   "file_extension": ".py",
   "mimetype": "text/x-python",
   "name": "python",
   "nbconvert_exporter": "python",
   "pygments_lexer": "ipython3",
   "version": "3.9.7"
  }
 },
 "nbformat": 4,
 "nbformat_minor": 5
}
