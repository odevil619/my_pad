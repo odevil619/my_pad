{
 "cells": [
  {
   "cell_type": "code",
   "execution_count": 4,
   "id": "baa37b7a",
   "metadata": {},
   "outputs": [],
   "source": [
    "import numpy as np"
   ]
  },
  {
   "cell_type": "code",
   "execution_count": 5,
   "id": "77bbac30",
   "metadata": {},
   "outputs": [],
   "source": [
    "import array"
   ]
  },
  {
   "cell_type": "code",
   "execution_count": 5,
   "id": "af1b75e3",
   "metadata": {},
   "outputs": [
    {
     "data": {
      "text/plain": [
       "numpy.ndarray"
      ]
     },
     "execution_count": 5,
     "metadata": {},
     "output_type": "execute_result"
    }
   ],
   "source": [
    "np.array([1,2,3,4,5])\n",
    "type(np.array([1,2,3,4,5]))                #nd in output means n dimensinal array"
   ]
  },
  {
   "cell_type": "code",
   "execution_count": 6,
   "id": "68df138e",
   "metadata": {},
   "outputs": [
    {
     "data": {
      "text/plain": [
       "array(['1', '2', '3', '4', 'bam', '(4+8j)'], dtype='<U64')"
      ]
     },
     "execution_count": 6,
     "metadata": {},
     "output_type": "execute_result"
    }
   ],
   "source": [
    "np.array([1,2,3,4,\"bam\",4+8j])                #since we included a string in array the whole elements of array are now strings\n",
    "                                              #we see dtype U64 which describes the type of string dtype"
   ]
  },
  {
   "cell_type": "code",
   "execution_count": 8,
   "id": "35567b4e",
   "metadata": {},
   "outputs": [
    {
     "data": {
      "text/plain": [
       "array([1., 2., 4., 5., 6.])"
      ]
     },
     "execution_count": 8,
     "metadata": {},
     "output_type": "execute_result"
    }
   ],
   "source": [
    "np.array([1,2,4,5,6.0])       #similarly here all elements of array converted into float\n",
    "                             # this is called upcastingb(whic is conversion of dtypes into higher data types ex- int to string or int to float)"
   ]
  },
  {
   "cell_type": "code",
   "execution_count": 29,
   "id": "52e3d66d",
   "metadata": {},
   "outputs": [
    {
     "data": {
      "text/plain": [
       "array([[1, 2],\n",
       "       [2, 3]])"
      ]
     },
     "execution_count": 29,
     "metadata": {},
     "output_type": "execute_result"
    }
   ],
   "source": [
    "np.array([(1,2),(2,3)]) #this is 2d array         #see 2 barackets in output"
   ]
  },
  {
   "cell_type": "code",
   "execution_count": 10,
   "id": "527b730f",
   "metadata": {},
   "outputs": [
    {
     "data": {
      "text/plain": [
       "array([[1, 3],\n",
       "       [3, 4]])"
      ]
     },
     "execution_count": 10,
     "metadata": {},
     "output_type": "execute_result"
    }
   ],
   "source": [
    "np.array([[1,3],[3,4]])                       # this is 2d array"
   ]
  },
  {
   "cell_type": "code",
   "execution_count": 11,
   "id": "eca7028b",
   "metadata": {},
   "outputs": [
    {
     "data": {
      "text/plain": [
       "array([[1, 3],\n",
       "       [3, 4],\n",
       "       [5, 6]])"
      ]
     },
     "execution_count": 11,
     "metadata": {},
     "output_type": "execute_result"
    }
   ],
   "source": [
    "np.array([[1,3],[3,4],[5,6]])             # this is 2d array"
   ]
  },
  {
   "cell_type": "code",
   "execution_count": 15,
   "id": "e3d2d0c3",
   "metadata": {},
   "outputs": [
    {
     "name": "stderr",
     "output_type": "stream",
     "text": [
      "/tmp/ipykernel_3467/1245926505.py:1: VisibleDeprecationWarning: Creating an ndarray from ragged nested sequences (which is a list-or-tuple of lists-or-tuples-or ndarrays with different lengths or shapes) is deprecated. If you meant to do this, you must specify 'dtype=object' when creating the ndarray.\n",
      "  np.array([[1,3],[3,4],[5,6,7]])\n"
     ]
    },
    {
     "data": {
      "text/plain": [
       "array([list([1, 3]), list([3, 4]), list([5, 6, 7])], dtype=object)"
      ]
     },
     "execution_count": 15,
     "metadata": {},
     "output_type": "execute_result"
    }
   ],
   "source": [
    "np.array([[1,3],[3,4],[5,6,7]])                 #this will create array but it will give list of array"
   ]
  },
  {
   "cell_type": "code",
   "execution_count": 14,
   "id": "2a9b1fa6",
   "metadata": {},
   "outputs": [
    {
     "data": {
      "text/plain": [
       "array([[[1, 3],\n",
       "        [3, 4]],\n",
       "\n",
       "       [[5, 6],\n",
       "        [7, 8]]])"
      ]
     },
     "execution_count": 14,
     "metadata": {},
     "output_type": "execute_result"
    }
   ],
   "source": [
    "np.array([[[1,3],[3,4]],[[5,6],[7,8]]])             #this is a 3d array   #we can create any dimension of array, it wil be like multiple 2d planes place parallely"
   ]
  },
  {
   "cell_type": "code",
   "execution_count": 31,
   "id": "9509e369",
   "metadata": {},
   "outputs": [
    {
     "data": {
      "text/plain": [
       "array([[[[[[[[[[[[[[[[[[[[[[[[[[[[[[1, 2, 3]]]]]]]]]]]]]]]]]]]]]]]]]]]]]])"
      ]
     },
     "execution_count": 31,
     "metadata": {},
     "output_type": "execute_result"
    }
   ],
   "source": [
    "#creating a n dim array\n",
    "\n",
    "#np.array([1,2,3],ndmin=3)            # ndmin creates the specified dimension of array\n",
    "np.array([1,2,3],ndmin=30)"
   ]
  },
  {
   "cell_type": "code",
   "execution_count": 20,
   "id": "5fab17da",
   "metadata": {},
   "outputs": [
    {
     "data": {
      "text/plain": [
       "array([1.+0.j, 2.+0.j, 3.+0.j])"
      ]
     },
     "execution_count": 20,
     "metadata": {},
     "output_type": "execute_result"
    }
   ],
   "source": [
    "np.array([1,2,3], dtype=complex)             #elements as complex no      #set data types to complex"
   ]
  },
  {
   "cell_type": "code",
   "execution_count": 45,
   "id": "c2ba3a17",
   "metadata": {},
   "outputs": [
    {
     "data": {
      "text/plain": [
       "array([(1, 2), (4, 5)], dtype=[('a', '<i2'), ('b', '<i8')])"
      ]
     },
     "execution_count": 45,
     "metadata": {},
     "output_type": "execute_result"
    }
   ],
   "source": [
    "arr = np.array([(1,2),(4,5)],dtype = [(\"a\",'<i2'),(\"b\",'i8')])         #changing dtypes \n",
    "arr                                                                 # in numpy i2 means int16 and i8 is int64"
   ]
  },
  {
   "cell_type": "code",
   "execution_count": 46,
   "id": "8a16aa19",
   "metadata": {},
   "outputs": [
    {
     "data": {
      "text/plain": [
       "numpy.int16"
      ]
     },
     "execution_count": 46,
     "metadata": {},
     "output_type": "execute_result"
    }
   ],
   "source": [
    "arr[0][0]\n",
    "type(arr[0][0])         #dtypes is int  # "
   ]
  },
  {
   "cell_type": "code",
   "execution_count": 47,
   "id": "d68bc234",
   "metadata": {},
   "outputs": [
    {
     "data": {
      "text/plain": [
       "numpy.int64"
      ]
     },
     "execution_count": 47,
     "metadata": {},
     "output_type": "execute_result"
    }
   ],
   "source": [
    "arr[0][1]\n",
    "type(arr[0][1])"
   ]
  },
  {
   "cell_type": "code",
   "execution_count": 48,
   "id": "148a6285",
   "metadata": {},
   "outputs": [
    {
     "data": {
      "text/plain": [
       "array([( 1,  2,  3), ( 4,  5,  6), ( 7,  8,  9), (10, 11, 12)],\n",
       "      dtype=[('a', '<i2'), ('b', '<i8'), ('c', '<i4')])"
      ]
     },
     "execution_count": 48,
     "metadata": {},
     "output_type": "execute_result"
    }
   ],
   "source": [
    "arr2 = np.array([(1,2,3),(4,5,6),(7,8,9),(10,11,12)],dtype = [(\"a\",'<i2'),(\"b\",'<i8'),(\"c\",'<i4')])\n",
    "arr2"
   ]
  },
  {
   "cell_type": "code",
   "execution_count": 49,
   "id": "1c7af600",
   "metadata": {},
   "outputs": [
    {
     "data": {
      "text/plain": [
       "array([[ 1,  2,  3],\n",
       "       [ 4,  5,  6],\n",
       "       [ 7,  8,  9],\n",
       "       [10, 11, 12]])"
      ]
     },
     "execution_count": 49,
     "metadata": {},
     "output_type": "execute_result"
    }
   ],
   "source": [
    "np.array([(1,2,3),(4,5,6),(7,8,9),(10,11,12)])    #its 2d array"
   ]
  },
  {
   "cell_type": "code",
   "execution_count": 50,
   "id": "556b690e",
   "metadata": {},
   "outputs": [
    {
     "data": {
      "text/plain": [
       "numpy.int64"
      ]
     },
     "execution_count": 50,
     "metadata": {},
     "output_type": "execute_result"
    }
   ],
   "source": [
    "arr2[1][1]\n",
    "type(arr[1][1])"
   ]
  },
  {
   "cell_type": "code",
   "execution_count": 53,
   "id": "c9ca275c",
   "metadata": {},
   "outputs": [
    {
     "data": {
      "text/plain": [
       "matrix([[(1, 2), (4, 5)]], dtype=[('a', '<i2'), ('b', '<i8')])"
      ]
     },
     "execution_count": 53,
     "metadata": {},
     "output_type": "execute_result"
    }
   ],
   "source": [
    "##### Now just as we have array we also have matrix            #matrix ia a type of array or we can say matrix is subset of array\n",
    "\n",
    "#np.mat(arr)\n",
    "\n",
    "#or\n",
    "\n",
    "np.matrix(arr)        #both mat and matrix are same"
   ]
  },
  {
   "cell_type": "code",
   "execution_count": 54,
   "id": "f1858490",
   "metadata": {},
   "outputs": [],
   "source": [
    "\n",
    "\n",
    "#converting into array\n",
    "\n",
    "l=[1,2,3,4,5]"
   ]
  },
  {
   "cell_type": "code",
   "execution_count": 55,
   "id": "cf5f38f1",
   "metadata": {},
   "outputs": [
    {
     "data": {
      "text/plain": [
       "array([1, 2, 3, 4, 5])"
      ]
     },
     "execution_count": 55,
     "metadata": {},
     "output_type": "execute_result"
    }
   ],
   "source": [
    "np.array(l)"
   ]
  },
  {
   "cell_type": "code",
   "execution_count": 57,
   "id": "24692225",
   "metadata": {},
   "outputs": [
    {
     "data": {
      "text/plain": [
       "array([1, 2, 3, 4, 5])"
      ]
     },
     "execution_count": 57,
     "metadata": {},
     "output_type": "execute_result"
    }
   ],
   "source": [
    "np.asarray(l)"
   ]
  },
  {
   "cell_type": "code",
   "execution_count": 58,
   "id": "3801804f",
   "metadata": {},
   "outputs": [
    {
     "data": {
      "text/plain": [
       "array([1, 2, 3, 4, 5])"
      ]
     },
     "execution_count": 58,
     "metadata": {},
     "output_type": "execute_result"
    }
   ],
   "source": [
    "np.asanyarray(l)"
   ]
  },
  {
   "cell_type": "code",
   "execution_count": 60,
   "id": "d203e5f8",
   "metadata": {},
   "outputs": [
    {
     "data": {
      "text/plain": [
       "matrix([[1, 2, 3, 4]])"
      ]
     },
     "execution_count": 60,
     "metadata": {},
     "output_type": "execute_result"
    }
   ],
   "source": [
    "mat= np.matrix(np.array([1,2,3,4]))\n",
    "mat"
   ]
  },
  {
   "cell_type": "code",
   "execution_count": 61,
   "id": "9d11a0c8",
   "metadata": {},
   "outputs": [
    {
     "data": {
      "text/plain": [
       "matrix([[1, 2, 3, 4]])"
      ]
     },
     "execution_count": 61,
     "metadata": {},
     "output_type": "execute_result"
    }
   ],
   "source": [
    "np.asanyarray(mat)          #when we tries converting the matrix to array using anyarray it didn't convert, why"
   ]
  },
  {
   "cell_type": "code",
   "execution_count": 62,
   "id": "0d7f5a44",
   "metadata": {},
   "outputs": [
    {
     "data": {
      "text/plain": [
       "array([[1, 2, 3, 4]])"
      ]
     },
     "execution_count": 62,
     "metadata": {},
     "output_type": "execute_result"
    }
   ],
   "source": [
    "np.asarray(mat)                 ##when we tries converting the matrix to array  using asarray it did convert, why"
   ]
  },
  {
   "cell_type": "code",
   "execution_count": 63,
   "id": "a44b2367",
   "metadata": {},
   "outputs": [],
   "source": [
    "# this was becoz matrix is a type of array and so it is already a type of array \n",
    "#so anyarray will let it remain matrix"
   ]
  },
  {
   "cell_type": "code",
   "execution_count": 66,
   "id": "ca633012",
   "metadata": {},
   "outputs": [
    {
     "data": {
      "text/plain": [
       "True"
      ]
     },
     "execution_count": 66,
     "metadata": {},
     "output_type": "execute_result"
    }
   ],
   "source": [
    "\n",
    "#we can use issubclass to check if matrix is subclass of array in numpy\n",
    "\n",
    "issubclass(np.ndarray,np.matrix)  #-- checking if ndarray is subclass of matrix ----False --- coz array is parent class\n",
    "issubclass(np.matrix,np.ndarray)  # matrix is subclass of array - True"
   ]
  },
  {
   "cell_type": "code",
   "execution_count": 69,
   "id": "b8c64ae4",
   "metadata": {},
   "outputs": [
    {
     "data": {
      "text/plain": [
       "array([[1, 2],\n",
       "       [3, 4]])"
      ]
     },
     "execution_count": 69,
     "metadata": {},
     "output_type": "execute_result"
    }
   ],
   "source": [
    "ar= np.array([[1,2],[3,4]])\n",
    "ar"
   ]
  },
  {
   "cell_type": "code",
   "execution_count": 72,
   "id": "ce961904",
   "metadata": {},
   "outputs": [
    {
     "data": {
      "text/plain": [
       "array([[1, 2],\n",
       "       [3, 4]])"
      ]
     },
     "execution_count": 72,
     "metadata": {},
     "output_type": "execute_result"
    }
   ],
   "source": [
    "a= ar\n",
    "a"
   ]
  },
  {
   "cell_type": "code",
   "execution_count": 74,
   "id": "a6ed2728",
   "metadata": {},
   "outputs": [
    {
     "data": {
      "text/plain": [
       "array([[1, 2],\n",
       "       [3, 4]])"
      ]
     },
     "execution_count": 74,
     "metadata": {},
     "output_type": "execute_result"
    }
   ],
   "source": [
    "b= np.copy(ar)\n",
    "b"
   ]
  },
  {
   "cell_type": "code",
   "execution_count": 82,
   "id": "f27da730",
   "metadata": {},
   "outputs": [
    {
     "data": {
      "text/plain": [
       "array([[67,  2],\n",
       "       [ 3,  4]])"
      ]
     },
     "execution_count": 82,
     "metadata": {},
     "output_type": "execute_result"
    }
   ],
   "source": [
    "ar[0][0]= 67                           #arrays are mutable(values can be changes) \n",
    "ar                              "
   ]
  },
  {
   "cell_type": "code",
   "execution_count": 81,
   "id": "8d706612",
   "metadata": {},
   "outputs": [
    {
     "data": {
      "text/plain": [
       "array([[67,  2],\n",
       "       [ 3,  4]])"
      ]
     },
     "execution_count": 81,
     "metadata": {},
     "output_type": "execute_result"
    }
   ],
   "source": [
    "a                    #changing value of ar changed the value of a, a=ar, here we are referring to ar through a,\n",
    "                # this is called shallow copy"
   ]
  },
  {
   "cell_type": "code",
   "execution_count": 83,
   "id": "1ac3a279",
   "metadata": {},
   "outputs": [
    {
     "data": {
      "text/plain": [
       "array([[1, 2],\n",
       "       [3, 4]])"
      ]
     },
     "execution_count": 83,
     "metadata": {},
     "output_type": "execute_result"
    }
   ],
   "source": [
    "b                  ##changing value of ar did not changed the value of b, b=np.copy(ar), here we have made a copy of ar into b\n",
    "                 #this is called deep copy"
   ]
  },
  {
   "cell_type": "code",
   "execution_count": 86,
   "id": "28c92217",
   "metadata": {},
   "outputs": [
    {
     "data": {
      "text/plain": [
       "array([3, 4])"
      ]
     },
     "execution_count": 86,
     "metadata": {},
     "output_type": "execute_result"
    }
   ],
   "source": [
    "#ar[0:10]\n",
    "ar[-1]"
   ]
  },
  {
   "cell_type": "code",
   "execution_count": 88,
   "id": "ea212784",
   "metadata": {},
   "outputs": [
    {
     "name": "stdout",
     "output_type": "stream",
     "text": [
      "[67  2]\n",
      "[3 4]\n"
     ]
    }
   ],
   "source": [
    "for i in ar:\n",
    "    print(i)"
   ]
  },
  {
   "cell_type": "code",
   "execution_count": 89,
   "id": "85162f25",
   "metadata": {},
   "outputs": [
    {
     "data": {
      "text/plain": [
       "array([[ True, False, False, False],\n",
       "       [False,  True, False, False],\n",
       "       [False, False,  True, False],\n",
       "       [False, False, False,  True]])"
      ]
     },
     "execution_count": 89,
     "metadata": {},
     "output_type": "execute_result"
    }
   ],
   "source": [
    "np.fromfunction(lambda i , j :i==j,(4,4))      # fromfunction is used to creat an ndarray according to the logic defined in it\n",
    "                                                 # (4,4) describes 4x4 array"
   ]
  },
  {
   "cell_type": "code",
   "execution_count": 90,
   "id": "b312e185",
   "metadata": {},
   "outputs": [
    {
     "data": {
      "text/plain": [
       "array([[0., 0., 0.],\n",
       "       [0., 1., 2.],\n",
       "       [0., 2., 4.]])"
      ]
     },
     "execution_count": 90,
     "metadata": {},
     "output_type": "execute_result"
    }
   ],
   "source": [
    "np.fromfunction(lambda i , j :i*j,(3,3))"
   ]
  },
  {
   "cell_type": "code",
   "execution_count": 92,
   "id": "f695a0a7",
   "metadata": {},
   "outputs": [
    {
     "data": {
      "text/plain": [
       "<generator object <genexpr> at 0x7f4377dc4f90>"
      ]
     },
     "execution_count": 92,
     "metadata": {},
     "output_type": "execute_result"
    }
   ],
   "source": [
    "#creating a generator                #range is also a kind of generator\n",
    "gen = (i*i for i in range(5))\n",
    "gen"
   ]
  },
  {
   "cell_type": "code",
   "execution_count": 93,
   "id": "39a7068c",
   "metadata": {},
   "outputs": [],
   "source": [
    "#ex of generator\n",
    "def test(x):\n",
    "    yield x"
   ]
  },
  {
   "cell_type": "code",
   "execution_count": 94,
   "id": "4312627d",
   "metadata": {},
   "outputs": [
    {
     "data": {
      "text/plain": [
       "<generator object test at 0x7f4377dc4510>"
      ]
     },
     "execution_count": 94,
     "metadata": {},
     "output_type": "execute_result"
    }
   ],
   "source": [
    "test(5)"
   ]
  },
  {
   "cell_type": "code",
   "execution_count": 95,
   "id": "d3f934ab",
   "metadata": {},
   "outputs": [
    {
     "data": {
      "text/plain": [
       "<generator object <genexpr> at 0x7f4377dc4f90>"
      ]
     },
     "execution_count": 95,
     "metadata": {},
     "output_type": "execute_result"
    }
   ],
   "source": [
    "gen"
   ]
  },
  {
   "cell_type": "code",
   "execution_count": 96,
   "id": "e61d6f1d",
   "metadata": {},
   "outputs": [
    {
     "data": {
      "text/plain": [
       "array([ 0,  1,  4,  9, 16])"
      ]
     },
     "execution_count": 96,
     "metadata": {},
     "output_type": "execute_result"
    }
   ],
   "source": [
    "np.fromiter(gen,dtype= int)"
   ]
  },
  {
   "cell_type": "code",
   "execution_count": 123,
   "id": "5c749c50",
   "metadata": {},
   "outputs": [],
   "source": [
    "# just for example to understand generator , the first line for loop \"for i in range(10)\" is a type of generator\n",
    "z= (i for i in range(10))"
   ]
  },
  {
   "cell_type": "code",
   "execution_count": 124,
   "id": "9dfcb0cf",
   "metadata": {},
   "outputs": [
    {
     "data": {
      "text/plain": [
       "array([0, 1, 2, 3, 4, 5, 6, 7, 8, 9])"
      ]
     },
     "execution_count": 124,
     "metadata": {},
     "output_type": "execute_result"
    }
   ],
   "source": [
    "np.fromiter(z,dtype=int)            #iterating through the generator"
   ]
  },
  {
   "cell_type": "code",
   "execution_count": 125,
   "id": "94ee0378",
   "metadata": {},
   "outputs": [
    {
     "data": {
      "text/plain": [
       "array([0, 1, 2, 3, 4])"
      ]
     },
     "execution_count": 125,
     "metadata": {},
     "output_type": "execute_result"
    }
   ],
   "source": [
    "np.fromiter(range(5),dtype=int)"
   ]
  },
  {
   "cell_type": "code",
   "execution_count": 126,
   "id": "3272de01",
   "metadata": {},
   "outputs": [
    {
     "data": {
      "text/plain": [
       "array([1., 2., 3., 4., 5.])"
      ]
     },
     "execution_count": 126,
     "metadata": {},
     "output_type": "execute_result"
    }
   ],
   "source": [
    "np.fromstring('1,2,3,4,5',sep=',')       #iterating through a string"
   ]
  },
  {
   "cell_type": "code",
   "execution_count": 127,
   "id": "8888ac71",
   "metadata": {},
   "outputs": [
    {
     "data": {
      "text/plain": [
       "array([45.+0.j, 32.+0.j, 56.+0.j, 77.+0.j, 61.+0.j])"
      ]
     },
     "execution_count": 127,
     "metadata": {},
     "output_type": "execute_result"
    }
   ],
   "source": [
    "np.fromstring(\"45 32 56 77 61\", sep = ' ', dtype= complex)"
   ]
  },
  {
   "cell_type": "code",
   "execution_count": 4,
   "id": "29bfa9f7",
   "metadata": {},
   "outputs": [],
   "source": [
    "arr3= np.array([[1,2,3,4],[5,6,7,8],[1,3,4,6]])"
   ]
  },
  {
   "cell_type": "code",
   "execution_count": 5,
   "id": "5b0f1e7b",
   "metadata": {},
   "outputs": [
    {
     "data": {
      "text/plain": [
       "array([[1, 2, 3, 4],\n",
       "       [5, 6, 7, 8],\n",
       "       [1, 3, 4, 6]])"
      ]
     },
     "execution_count": 5,
     "metadata": {},
     "output_type": "execute_result"
    }
   ],
   "source": [
    "arr3"
   ]
  },
  {
   "cell_type": "code",
   "execution_count": 7,
   "id": "b97e0511",
   "metadata": {},
   "outputs": [
    {
     "data": {
      "text/plain": [
       "numpy.ndarray"
      ]
     },
     "execution_count": 7,
     "metadata": {},
     "output_type": "execute_result"
    }
   ],
   "source": [
    "type(arr3)"
   ]
  },
  {
   "cell_type": "code",
   "execution_count": 8,
   "id": "220ca579",
   "metadata": {},
   "outputs": [
    {
     "data": {
      "text/plain": [
       "2"
      ]
     },
     "execution_count": 8,
     "metadata": {},
     "output_type": "execute_result"
    }
   ],
   "source": [
    "arr3.ndim       #dim of array 2d"
   ]
  },
  {
   "cell_type": "code",
   "execution_count": 10,
   "id": "cbde6dfe",
   "metadata": {},
   "outputs": [
    {
     "data": {
      "text/plain": [
       "12"
      ]
     },
     "execution_count": 10,
     "metadata": {},
     "output_type": "execute_result"
    }
   ],
   "source": [
    "arr3.size     # elements in array"
   ]
  },
  {
   "cell_type": "code",
   "execution_count": 11,
   "id": "759dcb77",
   "metadata": {},
   "outputs": [
    {
     "data": {
      "text/plain": [
       "(3, 4)"
      ]
     },
     "execution_count": 11,
     "metadata": {},
     "output_type": "execute_result"
    }
   ],
   "source": [
    "arr3.shape     # RxC of array , here 3x4"
   ]
  },
  {
   "cell_type": "code",
   "execution_count": 12,
   "id": "82445a0a",
   "metadata": {},
   "outputs": [
    {
     "data": {
      "text/plain": [
       "dtype('int64')"
      ]
     },
     "execution_count": 12,
     "metadata": {},
     "output_type": "execute_result"
    }
   ],
   "source": [
    "arr3.dtype"
   ]
  },
  {
   "cell_type": "code",
   "execution_count": 18,
   "id": "30d0d5e6",
   "metadata": {},
   "outputs": [
    {
     "data": {
      "text/plain": [
       "array([[[1, 2, 3, 4],\n",
       "        [5, 6, 7, 8]]])"
      ]
     },
     "execution_count": 18,
     "metadata": {},
     "output_type": "execute_result"
    }
   ],
   "source": [
    "arr2 = np.array([[[1,2,3,4],[5,6,7,8]]])\n",
    "arr2"
   ]
  },
  {
   "cell_type": "code",
   "execution_count": 15,
   "id": "44192169",
   "metadata": {},
   "outputs": [
    {
     "data": {
      "text/plain": [
       "numpy.ndarray"
      ]
     },
     "execution_count": 15,
     "metadata": {},
     "output_type": "execute_result"
    }
   ],
   "source": [
    "arr2\n",
    "type(arr2)"
   ]
  },
  {
   "cell_type": "code",
   "execution_count": 17,
   "id": "72280664",
   "metadata": {},
   "outputs": [
    {
     "data": {
      "text/plain": [
       "3"
      ]
     },
     "execution_count": 17,
     "metadata": {},
     "output_type": "execute_result"
    }
   ],
   "source": [
    "arr2.ndim"
   ]
  },
  {
   "cell_type": "code",
   "execution_count": 31,
   "id": "921482d1",
   "metadata": {},
   "outputs": [
    {
     "data": {
      "text/plain": [
       "array([[[1, 2, 3, 4],\n",
       "        [5, 6, 7, 8]],\n",
       "\n",
       "       [[3, 5, 4, 1],\n",
       "        [1, 6, 3, 9]]])"
      ]
     },
     "execution_count": 31,
     "metadata": {},
     "output_type": "execute_result"
    }
   ],
   "source": [
    "arr4 = np.array([[[1,2,3,4],[5,6,7,8]],[[3,5,4,1],[1,6,3,9]]])\n",
    "arr4"
   ]
  },
  {
   "cell_type": "code",
   "execution_count": 32,
   "id": "5e395da1",
   "metadata": {},
   "outputs": [
    {
     "data": {
      "text/plain": [
       "3"
      ]
     },
     "execution_count": 32,
     "metadata": {},
     "output_type": "execute_result"
    }
   ],
   "source": [
    "arr4.ndim"
   ]
  },
  {
   "cell_type": "code",
   "execution_count": 33,
   "id": "84a3c597",
   "metadata": {},
   "outputs": [
    {
     "data": {
      "text/plain": [
       "(2, 2, 4)"
      ]
     },
     "execution_count": 33,
     "metadata": {},
     "output_type": "execute_result"
    }
   ],
   "source": [
    "arr4.shape           #(2,2,4) means we have 2 - 2x4 matrices"
   ]
  },
  {
   "cell_type": "code",
   "execution_count": 35,
   "id": "9eebcdf2",
   "metadata": {},
   "outputs": [
    {
     "data": {
      "text/plain": [
       "array([[[[1, 2, 3, 4],\n",
       "         [5, 6, 7, 8]],\n",
       "\n",
       "        [[2, 3, 4, 5],\n",
       "         [5, 4, 3, 2]],\n",
       "\n",
       "        [[1, 6, 2, 8],\n",
       "         [7, 4, 2, 9]],\n",
       "\n",
       "        [[3, 5, 4, 1],\n",
       "         [1, 6, 3, 9]]]])"
      ]
     },
     "execution_count": 35,
     "metadata": {},
     "output_type": "execute_result"
    }
   ],
   "source": [
    "arr5 = np.array([[[[1,2,3,4],[5,6,7,8]],[[2,3,4,5],[5,4,3,2]],[[1,6,2,8],[7,4,2,9]],[[3,5,4,1],[1,6,3,9]]]])\n",
    "arr5"
   ]
  },
  {
   "cell_type": "code",
   "execution_count": 37,
   "id": "e3094bf9",
   "metadata": {},
   "outputs": [
    {
     "data": {
      "text/plain": [
       "4"
      ]
     },
     "execution_count": 37,
     "metadata": {},
     "output_type": "execute_result"
    }
   ],
   "source": [
    "arr5.ndim         #4d array"
   ]
  },
  {
   "cell_type": "code",
   "execution_count": 38,
   "id": "bb53cef8",
   "metadata": {},
   "outputs": [
    {
     "data": {
      "text/plain": [
       "(1, 4, 2, 4)"
      ]
     },
     "execution_count": 38,
     "metadata": {},
     "output_type": "execute_result"
    }
   ],
   "source": [
    "arr5.shape       #(1,4,2,4) means (start from last) - we have 2x4 matix , 4 times(or 4, 2x4 matrix) in 1 array"
   ]
  },
  {
   "cell_type": "code",
   "execution_count": 43,
   "id": "debea244",
   "metadata": {},
   "outputs": [
    {
     "data": {
      "text/plain": [
       "array([[[[1, 2, 3, 4],\n",
       "         [5, 6, 7, 8]],\n",
       "\n",
       "        [[2, 3, 4, 5],\n",
       "         [5, 4, 3, 2]]],\n",
       "\n",
       "\n",
       "       [[[1, 6, 2, 8],\n",
       "         [7, 4, 2, 9]],\n",
       "\n",
       "        [[3, 5, 4, 1],\n",
       "         [1, 6, 3, 9]]]])"
      ]
     },
     "execution_count": 43,
     "metadata": {},
     "output_type": "execute_result"
    }
   ],
   "source": [
    "arr5.shape       "
   ]
  },
  {
   "cell_type": "code",
   "execution_count": 15,
   "id": "cce2b7a8",
   "metadata": {},
   "outputs": [
    {
     "data": {
      "text/plain": [
       "array([[[[1, 2, 3, 4],\n",
       "         [5, 6, 7, 8]],\n",
       "\n",
       "        [[2, 3, 4, 5],\n",
       "         [5, 4, 3, 2]]],\n",
       "\n",
       "\n",
       "       [[[1, 6, 2, 8],\n",
       "         [7, 4, 2, 9]],\n",
       "\n",
       "        [[3, 5, 4, 1],\n",
       "         [1, 6, 3, 9]]]])"
      ]
     },
     "execution_count": 15,
     "metadata": {},
     "output_type": "execute_result"
    }
   ],
   "source": [
    "arr5 = np.array([[[[1,2,3,4],[5,6,7,8]],[[2,3,4,5],[5,4,3,2]]],[[[1,6,2,8],[7,4,2,9]],[[3,5,4,1],[1,6,3,9]]]])\n",
    "arr5"
   ]
  },
  {
   "cell_type": "code",
   "execution_count": 16,
   "id": "9692aa3a",
   "metadata": {},
   "outputs": [
    {
     "data": {
      "text/plain": [
       "(2, 2, 2, 4)"
      ]
     },
     "execution_count": 16,
     "metadata": {},
     "output_type": "execute_result"
    }
   ],
   "source": [
    "arr5.shape "
   ]
  },
  {
   "cell_type": "code",
   "execution_count": 1,
   "id": "1b1ca919",
   "metadata": {},
   "outputs": [
    {
     "ename": "TypeError",
     "evalue": "'float' object cannot be interpreted as an integer",
     "output_type": "error",
     "traceback": [
      "\u001b[0;31m---------------------------------------------------------------------------\u001b[0m",
      "\u001b[0;31mTypeError\u001b[0m                                 Traceback (most recent call last)",
      "\u001b[0;32m/tmp/ipykernel_2568/232123991.py\u001b[0m in \u001b[0;36m<module>\u001b[0;34m\u001b[0m\n\u001b[0;32m----> 1\u001b[0;31m \u001b[0mlist\u001b[0m\u001b[0;34m(\u001b[0m\u001b[0mrange\u001b[0m\u001b[0;34m(\u001b[0m\u001b[0;36m6.6\u001b[0m\u001b[0;34m)\u001b[0m\u001b[0;34m)\u001b[0m\u001b[0;34m\u001b[0m\u001b[0;34m\u001b[0m\u001b[0m\n\u001b[0m",
      "\u001b[0;31mTypeError\u001b[0m: 'float' object cannot be interpreted as an integer"
     ]
    }
   ],
   "source": [
    "list(range(6.6))"
   ]
  },
  {
   "cell_type": "code",
   "execution_count": 9,
   "id": "242eb137",
   "metadata": {},
   "outputs": [
    {
     "data": {
      "text/plain": [
       "array([6.6, 6.9, 7.2, 7.5, 7.8, 8.1, 8.4, 8.7, 9. ])"
      ]
     },
     "execution_count": 9,
     "metadata": {},
     "output_type": "execute_result"
    }
   ],
   "source": [
    "np.arange(6.6)\n",
    "np.arange(6.6,9,0.3)"
   ]
  },
  {
   "cell_type": "code",
   "execution_count": 11,
   "id": "02ad3f5b",
   "metadata": {},
   "outputs": [
    {
     "data": {
      "text/plain": [
       "array([ 0. ,  2.5,  5. ,  7.5, 10. ])"
      ]
     },
     "execution_count": 11,
     "metadata": {},
     "output_type": "execute_result"
    }
   ],
   "source": [
    "np.linspace(1,10,5)     #devide 1-10 in 5 equal parts\n",
    "np.linspace(0,10,5)"
   ]
  },
  {
   "cell_type": "code",
   "execution_count": 12,
   "id": "41f43df9",
   "metadata": {},
   "outputs": [
    {
     "data": {
      "text/plain": [
       "array([0., 0., 0., 0., 0.])"
      ]
     },
     "execution_count": 12,
     "metadata": {},
     "output_type": "execute_result"
    }
   ],
   "source": [
    "np.zeros(5)"
   ]
  },
  {
   "cell_type": "code",
   "execution_count": 13,
   "id": "15dbb3c0",
   "metadata": {},
   "outputs": [
    {
     "data": {
      "text/plain": [
       "array([[[0., 0., 0., 0.],\n",
       "        [0., 0., 0., 0.],\n",
       "        [0., 0., 0., 0.],\n",
       "        [0., 0., 0., 0.],\n",
       "        [0., 0., 0., 0.]],\n",
       "\n",
       "       [[0., 0., 0., 0.],\n",
       "        [0., 0., 0., 0.],\n",
       "        [0., 0., 0., 0.],\n",
       "        [0., 0., 0., 0.],\n",
       "        [0., 0., 0., 0.]]])"
      ]
     },
     "execution_count": 13,
     "metadata": {},
     "output_type": "execute_result"
    }
   ],
   "source": [
    "np.zeros((2,5,4))            # 2 , 5x4 matrixes"
   ]
  },
  {
   "cell_type": "code",
   "execution_count": 14,
   "id": "359b5f41",
   "metadata": {},
   "outputs": [
    {
     "data": {
      "text/plain": [
       "array([[[[0.],\n",
       "         [0.],\n",
       "         [0.],\n",
       "         [0.]],\n",
       "\n",
       "        [[0.],\n",
       "         [0.],\n",
       "         [0.],\n",
       "         [0.]],\n",
       "\n",
       "        [[0.],\n",
       "         [0.],\n",
       "         [0.],\n",
       "         [0.]],\n",
       "\n",
       "        [[0.],\n",
       "         [0.],\n",
       "         [0.],\n",
       "         [0.]],\n",
       "\n",
       "        [[0.],\n",
       "         [0.],\n",
       "         [0.],\n",
       "         [0.]]],\n",
       "\n",
       "\n",
       "       [[[0.],\n",
       "         [0.],\n",
       "         [0.],\n",
       "         [0.]],\n",
       "\n",
       "        [[0.],\n",
       "         [0.],\n",
       "         [0.],\n",
       "         [0.]],\n",
       "\n",
       "        [[0.],\n",
       "         [0.],\n",
       "         [0.],\n",
       "         [0.]],\n",
       "\n",
       "        [[0.],\n",
       "         [0.],\n",
       "         [0.],\n",
       "         [0.]],\n",
       "\n",
       "        [[0.],\n",
       "         [0.],\n",
       "         [0.],\n",
       "         [0.]]]])"
      ]
     },
     "execution_count": 14,
     "metadata": {},
     "output_type": "execute_result"
    }
   ],
   "source": [
    "np.zeros((2,5,4,1))"
   ]
  },
  {
   "cell_type": "code",
   "execution_count": 18,
   "id": "d7287a13",
   "metadata": {},
   "outputs": [
    {
     "data": {
      "text/plain": [
       "array([[[6., 6.],\n",
       "        [6., 6.],\n",
       "        [6., 6.]],\n",
       "\n",
       "       [[6., 6.],\n",
       "        [6., 6.],\n",
       "        [6., 6.]]])"
      ]
     },
     "execution_count": 18,
     "metadata": {},
     "output_type": "execute_result"
    }
   ],
   "source": [
    "np.ones((2,3,2))+5"
   ]
  },
  {
   "cell_type": "code",
   "execution_count": 19,
   "id": "3628e1b8",
   "metadata": {},
   "outputs": [
    {
     "data": {
      "text/plain": [
       "array([0., 0., 0., 0., 0.])"
      ]
     },
     "execution_count": 19,
     "metadata": {},
     "output_type": "execute_result"
    }
   ],
   "source": [
    "np.empty(5)"
   ]
  },
  {
   "cell_type": "code",
   "execution_count": 20,
   "id": "4bd7130c",
   "metadata": {},
   "outputs": [
    {
     "data": {
      "text/plain": [
       "array([[6., 6., 6., 6.],\n",
       "       [6., 6., 6., 6.],\n",
       "       [6., 6., 6., 6.]])"
      ]
     },
     "execution_count": 20,
     "metadata": {},
     "output_type": "execute_result"
    }
   ],
   "source": [
    "np.empty((3,4))"
   ]
  },
  {
   "cell_type": "code",
   "execution_count": 24,
   "id": "8256ba95",
   "metadata": {},
   "outputs": [
    {
     "data": {
      "text/plain": [
       "array([[1., 0.],\n",
       "       [0., 1.]])"
      ]
     },
     "execution_count": 24,
     "metadata": {},
     "output_type": "execute_result"
    }
   ],
   "source": [
    "np.eye(2)"
   ]
  },
  {
   "cell_type": "code",
   "execution_count": 29,
   "id": "f5e3849d",
   "metadata": {},
   "outputs": [
    {
     "data": {
      "text/plain": [
       "array([2. , 2.5, 3. , 3.5])"
      ]
     },
     "execution_count": 29,
     "metadata": {},
     "output_type": "execute_result"
    }
   ],
   "source": [
    "np.linspace(2,4,4)      # includes 2 to 4 into 4 parts, also includes 4\n",
    "np.linspace(2,4,4,endpoint=False)  # doesn't include 4"
   ]
  },
  {
   "cell_type": "code",
   "execution_count": 33,
   "id": "8bc55ba2",
   "metadata": {},
   "outputs": [
    {
     "data": {
      "text/plain": [
       "array([2.        , 2.66666667, 3.33333333, 4.        ])"
      ]
     },
     "execution_count": 33,
     "metadata": {},
     "output_type": "execute_result"
    }
   ],
   "source": [
    "np.linspace(2,4,4,axis=0)  # 1d array so no axis\n",
    "#np.linspace(2,4,4,axis=1) # error as array is 1d so axis should be zero"
   ]
  },
  {
   "cell_type": "code",
   "execution_count": 48,
   "id": "eff4de9b",
   "metadata": {},
   "outputs": [
    {
     "data": {
      "text/plain": [
       "array([[ 1.        ,  1.14285714,  1.28571429,  1.42857143,  1.57142857,\n",
       "         1.71428571,  1.85714286,  2.        ,  2.14285714,  2.28571429,\n",
       "         2.42857143,  2.57142857,  2.71428571,  2.85714286,  3.        ,\n",
       "         3.14285714,  3.28571429,  3.42857143,  3.57142857,  3.71428571,\n",
       "         3.85714286,  4.        ,  4.14285714,  4.28571429,  4.42857143,\n",
       "         4.57142857,  4.71428571,  4.85714286,  5.        ,  5.14285714,\n",
       "         5.28571429,  5.42857143,  5.57142857,  5.71428571,  5.85714286,\n",
       "         6.        ,  6.14285714,  6.28571429,  6.42857143,  6.57142857,\n",
       "         6.71428571,  6.85714286,  7.        ,  7.14285714,  7.28571429,\n",
       "         7.42857143,  7.57142857,  7.71428571,  7.85714286,  8.        ],\n",
       "       [ 6.        ,  6.08163265,  6.16326531,  6.24489796,  6.32653061,\n",
       "         6.40816327,  6.48979592,  6.57142857,  6.65306122,  6.73469388,\n",
       "         6.81632653,  6.89795918,  6.97959184,  7.06122449,  7.14285714,\n",
       "         7.2244898 ,  7.30612245,  7.3877551 ,  7.46938776,  7.55102041,\n",
       "         7.63265306,  7.71428571,  7.79591837,  7.87755102,  7.95918367,\n",
       "         8.04081633,  8.12244898,  8.20408163,  8.28571429,  8.36734694,\n",
       "         8.44897959,  8.53061224,  8.6122449 ,  8.69387755,  8.7755102 ,\n",
       "         8.85714286,  8.93877551,  9.02040816,  9.10204082,  9.18367347,\n",
       "         9.26530612,  9.34693878,  9.42857143,  9.51020408,  9.59183673,\n",
       "         9.67346939,  9.75510204,  9.83673469,  9.91836735, 10.        ]])"
      ]
     },
     "execution_count": 48,
     "metadata": {},
     "output_type": "execute_result"
    }
   ],
   "source": [
    "np.linspace([1,6],4,axis=0)      #both 1 and 6 will end at 4, by getting devided in equidistance parts randomly, forming a 1d array\n",
    "np.linspace([1,6],[8,10],axis=1)    # 1 will end at 8 and 6 will end at 10, by getting devided in equidistance parts randomly, forming a 2d array "
   ]
  },
  {
   "cell_type": "code",
   "execution_count": 54,
   "id": "f98f1965",
   "metadata": {},
   "outputs": [
    {
     "data": {
      "text/plain": [
       "array([[ 1.        ,  1.77777778,  2.55555556,  3.33333333,  4.11111111,\n",
       "         4.88888889,  5.66666667,  6.44444444,  7.22222222,  8.        ],\n",
       "       [ 6.        ,  6.77777778,  7.55555556,  8.33333333,  9.11111111,\n",
       "         9.88888889, 10.66666667, 11.44444444, 12.22222222, 13.        ]])"
      ]
     },
     "execution_count": 54,
     "metadata": {},
     "output_type": "execute_result"
    }
   ],
   "source": [
    "np.linspace([1,6],[8,13],10,axis=1)            #will create a 2d array with 1 to 8 devided into 10parts and 6 to 13 devided into 10 parts"
   ]
  },
  {
   "cell_type": "code",
   "execution_count": 55,
   "id": "fc2b32c7",
   "metadata": {},
   "outputs": [
    {
     "data": {
      "text/plain": [
       "array([ 100.        ,  177.827941  ,  316.22776602,  562.34132519,\n",
       "       1000.        ])"
      ]
     },
     "execution_count": 55,
     "metadata": {},
     "output_type": "execute_result"
    }
   ],
   "source": [
    "np.logspace(2,3,5)          #  5 equall part in between log base 2 and log base 3, similar to linepace but just on log table"
   ]
  },
  {
   "cell_type": "code",
   "execution_count": 56,
   "id": "968c008a",
   "metadata": {},
   "outputs": [],
   "source": [
    "##  imp ###   from below"
   ]
  },
  {
   "cell_type": "code",
   "execution_count": 59,
   "id": "37cdd14b",
   "metadata": {},
   "outputs": [
    {
     "data": {
      "text/plain": [
       "array([4.        , 4.07692308, 4.15384615, 4.23076923, 4.30769231,\n",
       "       4.38461538, 4.46153846, 4.53846154, 4.61538462, 4.69230769,\n",
       "       4.76923077, 4.84615385, 4.92307692, 5.        , 5.07692308,\n",
       "       5.15384615, 5.23076923, 5.30769231, 5.38461538, 5.46153846,\n",
       "       5.53846154, 5.61538462, 5.69230769, 5.76923077, 5.84615385,\n",
       "       5.92307692, 6.        , 6.07692308, 6.15384615, 6.23076923,\n",
       "       6.30769231, 6.38461538, 6.46153846, 6.53846154, 6.61538462,\n",
       "       6.69230769, 6.76923077, 6.84615385, 6.92307692, 7.        ])"
      ]
     },
     "execution_count": 59,
     "metadata": {},
     "output_type": "execute_result"
    }
   ],
   "source": [
    "d= np.linspace(4,7,40)\n",
    "d"
   ]
  },
  {
   "cell_type": "code",
   "execution_count": 60,
   "id": "af4c408a",
   "metadata": {},
   "outputs": [
    {
     "data": {
      "text/plain": [
       "1"
      ]
     },
     "execution_count": 60,
     "metadata": {},
     "output_type": "execute_result"
    }
   ],
   "source": [
    "d.ndim"
   ]
  },
  {
   "cell_type": "code",
   "execution_count": 61,
   "id": "db5fccdd",
   "metadata": {},
   "outputs": [
    {
     "data": {
      "text/plain": [
       "(40,)"
      ]
     },
     "execution_count": 61,
     "metadata": {},
     "output_type": "execute_result"
    }
   ],
   "source": [
    "d.shape"
   ]
  },
  {
   "cell_type": "code",
   "execution_count": 74,
   "id": "daf9d4f0",
   "metadata": {},
   "outputs": [
    {
     "data": {
      "text/plain": [
       "array([[4.        , 4.07692308, 4.15384615, 4.23076923, 4.30769231,\n",
       "        4.38461538, 4.46153846, 4.53846154],\n",
       "       [4.61538462, 4.69230769, 4.76923077, 4.84615385, 4.92307692,\n",
       "        5.        , 5.07692308, 5.15384615],\n",
       "       [5.23076923, 5.30769231, 5.38461538, 5.46153846, 5.53846154,\n",
       "        5.61538462, 5.69230769, 5.76923077],\n",
       "       [5.84615385, 5.92307692, 6.        , 6.07692308, 6.15384615,\n",
       "        6.23076923, 6.30769231, 6.38461538],\n",
       "       [6.46153846, 6.53846154, 6.61538462, 6.69230769, 6.76923077,\n",
       "        6.84615385, 6.92307692, 7.        ]])"
      ]
     },
     "execution_count": 74,
     "metadata": {},
     "output_type": "execute_result"
    }
   ],
   "source": [
    "d.reshape(40,1)             #reshaped the data into 1 column (40 data - in 1 column)\n",
    "d.reshape(5,8)             #here we have a 5x8 matrix                #total mutliple should be 40"
   ]
  },
  {
   "cell_type": "code",
   "execution_count": 75,
   "id": "fba9b7a9",
   "metadata": {},
   "outputs": [
    {
     "data": {
      "text/plain": [
       "array([[[4.        , 4.07692308, 4.15384615, 4.23076923, 4.30769231,\n",
       "         4.38461538, 4.46153846, 4.53846154, 4.61538462, 4.69230769,\n",
       "         4.76923077, 4.84615385, 4.92307692, 5.        , 5.07692308,\n",
       "         5.15384615, 5.23076923, 5.30769231, 5.38461538, 5.46153846],\n",
       "        [5.53846154, 5.61538462, 5.69230769, 5.76923077, 5.84615385,\n",
       "         5.92307692, 6.        , 6.07692308, 6.15384615, 6.23076923,\n",
       "         6.30769231, 6.38461538, 6.46153846, 6.53846154, 6.61538462,\n",
       "         6.69230769, 6.76923077, 6.84615385, 6.92307692, 7.        ]]])"
      ]
     },
     "execution_count": 75,
     "metadata": {},
     "output_type": "execute_result"
    }
   ],
   "source": [
    "d.reshape(1,2,20)       # 1 matrix with 2x20 matrix"
   ]
  },
  {
   "cell_type": "code",
   "execution_count": 76,
   "id": "789a920e",
   "metadata": {},
   "outputs": [
    {
     "data": {
      "text/plain": [
       "array([[[4.        , 4.07692308, 4.15384615, 4.23076923, 4.30769231,\n",
       "         4.38461538, 4.46153846, 4.53846154, 4.61538462, 4.69230769,\n",
       "         4.76923077, 4.84615385, 4.92307692, 5.        , 5.07692308,\n",
       "         5.15384615, 5.23076923, 5.30769231, 5.38461538, 5.46153846]],\n",
       "\n",
       "       [[5.53846154, 5.61538462, 5.69230769, 5.76923077, 5.84615385,\n",
       "         5.92307692, 6.        , 6.07692308, 6.15384615, 6.23076923,\n",
       "         6.30769231, 6.38461538, 6.46153846, 6.53846154, 6.61538462,\n",
       "         6.69230769, 6.76923077, 6.84615385, 6.92307692, 7.        ]]])"
      ]
     },
     "execution_count": 76,
     "metadata": {},
     "output_type": "execute_result"
    }
   ],
   "source": [
    "d.reshape(2,1,20)          #2 matrix of 1x20"
   ]
  },
  {
   "cell_type": "code",
   "execution_count": 77,
   "id": "a635f409",
   "metadata": {},
   "outputs": [
    {
     "data": {
      "text/plain": [
       "array([0.37991497, 0.87106024, 0.96858701])"
      ]
     },
     "execution_count": 77,
     "metadata": {},
     "output_type": "execute_result"
    }
   ],
   "source": [
    "np.random.rand(3)        #it creates 3 random data on the guassian distribution\n",
    "                        # returns from a normal distribution"
   ]
  },
  {
   "cell_type": "code",
   "execution_count": 78,
   "id": "6c8ec52b",
   "metadata": {},
   "outputs": [
    {
     "data": {
      "text/plain": [
       "array([ 1.16922816, -1.36751032, -1.37598568,  0.66974142, -0.10660922])"
      ]
     },
     "execution_count": 78,
     "metadata": {},
     "output_type": "execute_result"
    }
   ],
   "source": [
    "np.random.randn(5)            # returns from a std normal distribution"
   ]
  },
  {
   "cell_type": "code",
   "execution_count": 79,
   "id": "f2f195e8",
   "metadata": {},
   "outputs": [
    {
     "data": {
      "text/plain": [
       "array([[[-0.38206996,  0.9915812 ,  0.56254562],\n",
       "        [-0.1878826 ,  0.19676604, -0.32738988]],\n",
       "\n",
       "       [[ 0.36302948, -0.28979751,  0.14022843],\n",
       "        [-0.43916813, -0.57354273, -0.10767897]]])"
      ]
     },
     "execution_count": 79,
     "metadata": {},
     "output_type": "execute_result"
    }
   ],
   "source": [
    "np.random.randn(2,2,3)"
   ]
  },
  {
   "cell_type": "code",
   "execution_count": 80,
   "id": "41f3cddd",
   "metadata": {},
   "outputs": [
    {
     "data": {
      "text/plain": [
       "49"
      ]
     },
     "execution_count": 80,
     "metadata": {},
     "output_type": "execute_result"
    }
   ],
   "source": [
    "np.random.randint(5,60)   #will generate a random integer bw 5 & 60"
   ]
  },
  {
   "cell_type": "code",
   "execution_count": 81,
   "id": "23c4b591",
   "metadata": {},
   "outputs": [
    {
     "data": {
      "text/plain": [
       "array([[29, 11, 12, 42],\n",
       "       [28, 47,  8, 21],\n",
       "       [20, 16, 39, 15],\n",
       "       [51, 44, 52, 21]])"
      ]
     },
     "execution_count": 81,
     "metadata": {},
     "output_type": "execute_result"
    }
   ],
   "source": [
    "np.random.randint(5,60, (4,4)) "
   ]
  },
  {
   "cell_type": "code",
   "execution_count": 82,
   "id": "6d21577c",
   "metadata": {},
   "outputs": [
    {
     "data": {
      "text/plain": [
       "array([[[ 0.67941012, -0.16898586,  1.26063143],\n",
       "        [-0.24093037, -0.44109044,  1.04650698]],\n",
       "\n",
       "       [[ 0.07455138, -1.88196455,  0.92832437],\n",
       "        [ 0.89714227, -0.09676966,  0.96374855]]])"
      ]
     },
     "execution_count": 82,
     "metadata": {},
     "output_type": "execute_result"
    }
   ],
   "source": [
    "np.random.randn(2,2,3)"
   ]
  },
  {
   "cell_type": "code",
   "execution_count": 84,
   "id": "5648b081",
   "metadata": {},
   "outputs": [
    {
     "data": {
      "text/plain": [
       "array([[5, 5, 6],\n",
       "       [6, 8, 5],\n",
       "       [6, 5, 6]])"
      ]
     },
     "execution_count": 84,
     "metadata": {},
     "output_type": "execute_result"
    }
   ],
   "source": [
    "arr = np.random.randint(3,9,(3,3))        # in bw 3 to 9 create a 3x3 matrix\n",
    "arr"
   ]
  },
  {
   "cell_type": "code",
   "execution_count": 85,
   "id": "ddb0a554",
   "metadata": {},
   "outputs": [
    {
     "data": {
      "text/plain": [
       "array([[5, 5, 6, 6, 8, 5, 6, 5, 6]])"
      ]
     },
     "execution_count": 85,
     "metadata": {},
     "output_type": "execute_result"
    }
   ],
   "source": [
    "arr.reshape(1,9)"
   ]
  },
  {
   "cell_type": "code",
   "execution_count": 86,
   "id": "63d99a0c",
   "metadata": {},
   "outputs": [
    {
     "data": {
      "text/plain": [
       "array([[5],\n",
       "       [5],\n",
       "       [6],\n",
       "       [6],\n",
       "       [8],\n",
       "       [5],\n",
       "       [6],\n",
       "       [5],\n",
       "       [6]])"
      ]
     },
     "execution_count": 86,
     "metadata": {},
     "output_type": "execute_result"
    }
   ],
   "source": [
    "arr.reshape(9,1)"
   ]
  },
  {
   "cell_type": "code",
   "execution_count": 87,
   "id": "9e116b73",
   "metadata": {},
   "outputs": [
    {
     "data": {
      "text/plain": [
       "array([[[5, 5, 6, 6, 8, 5, 6, 5, 6]]])"
      ]
     },
     "execution_count": 87,
     "metadata": {},
     "output_type": "execute_result"
    }
   ],
   "source": [
    "arr.reshape(1,1,9)     # 1 , 1x9 matrix"
   ]
  },
  {
   "cell_type": "code",
   "execution_count": 88,
   "id": "4d40d5db",
   "metadata": {},
   "outputs": [
    {
     "data": {
      "text/plain": [
       "array([[[5, 5, 6]],\n",
       "\n",
       "       [[6, 8, 5]],\n",
       "\n",
       "       [[6, 5, 6]]])"
      ]
     },
     "execution_count": 88,
     "metadata": {},
     "output_type": "execute_result"
    }
   ],
   "source": [
    "arr.reshape(3,1,3)    # 3 , 1x3 matrix"
   ]
  },
  {
   "cell_type": "code",
   "execution_count": 89,
   "id": "89371082",
   "metadata": {},
   "outputs": [
    {
     "data": {
      "text/plain": [
       "8"
      ]
     },
     "execution_count": 89,
     "metadata": {},
     "output_type": "execute_result"
    }
   ],
   "source": [
    "arr.max()"
   ]
  },
  {
   "cell_type": "code",
   "execution_count": 90,
   "id": "8a1a101d",
   "metadata": {},
   "outputs": [
    {
     "data": {
      "text/plain": [
       "5"
      ]
     },
     "execution_count": 90,
     "metadata": {},
     "output_type": "execute_result"
    }
   ],
   "source": [
    "arr.min()"
   ]
  },
  {
   "cell_type": "code",
   "execution_count": 93,
   "id": "f1ac559a",
   "metadata": {},
   "outputs": [
    {
     "data": {
      "text/plain": [
       "array([[18, 22, 42, 41, 75],\n",
       "       [79, 84, 13, 75, 90],\n",
       "       [86,  6, 52, 55, 10],\n",
       "       [91, 51, 62,  7, 36],\n",
       "       [93, 28, 89, 92, 81]])"
      ]
     },
     "execution_count": 93,
     "metadata": {},
     "output_type": "execute_result"
    }
   ],
   "source": [
    "arr= np.random.randint(4,100,(5,5))\n",
    "arr"
   ]
  },
  {
   "cell_type": "code",
   "execution_count": 96,
   "id": "54bf599d",
   "metadata": {},
   "outputs": [
    {
     "data": {
      "text/plain": [
       "array([[62,  7, 36],\n",
       "       [89, 92, 81]])"
      ]
     },
     "execution_count": 96,
     "metadata": {},
     "output_type": "execute_result"
    }
   ],
   "source": [
    "arr[3:,2:]        #1st is row, 2nd is column"
   ]
  },
  {
   "cell_type": "code",
   "execution_count": 97,
   "id": "7888c8a7",
   "metadata": {},
   "outputs": [
    {
     "data": {
      "text/plain": [
       "array([[84, 13],\n",
       "       [ 6, 52]])"
      ]
     },
     "execution_count": 97,
     "metadata": {},
     "output_type": "execute_result"
    }
   ],
   "source": [
    "arr[1:3,1:3]"
   ]
  },
  {
   "cell_type": "code",
   "execution_count": 99,
   "id": "08557b92",
   "metadata": {},
   "outputs": [
    {
     "data": {
      "text/plain": [
       "array([[18, 22, 42],\n",
       "       [79, 84, 13],\n",
       "       [86,  6, 52],\n",
       "       [91, 51, 62],\n",
       "       [93, 28, 89]])"
      ]
     },
     "execution_count": 99,
     "metadata": {},
     "output_type": "execute_result"
    }
   ],
   "source": [
    "arr[:,0:3]        #this will give from 0 till 3 column"
   ]
  },
  {
   "cell_type": "code",
   "execution_count": 100,
   "id": "55fc1483",
   "metadata": {},
   "outputs": [
    {
     "data": {
      "text/plain": [
       "array([[18, 41],\n",
       "       [79, 75],\n",
       "       [86, 55],\n",
       "       [91,  7],\n",
       "       [93, 92]])"
      ]
     },
     "execution_count": 100,
     "metadata": {},
     "output_type": "execute_result"
    }
   ],
   "source": [
    "arr[:,[0,3]]    # this will give 0 and 3 column"
   ]
  },
  {
   "cell_type": "code",
   "execution_count": 101,
   "id": "4c39194d",
   "metadata": {},
   "outputs": [
    {
     "data": {
      "text/plain": [
       "array([[18, 22, 42, 41, 75],\n",
       "       [79, 84, 13, 75, 90],\n",
       "       [86,  6, 52, 55, 10],\n",
       "       [91, 51, 62,  7, 36],\n",
       "       [93, 28, 89, 92, 81]])"
      ]
     },
     "execution_count": 101,
     "metadata": {},
     "output_type": "execute_result"
    }
   ],
   "source": [
    "arr"
   ]
  },
  {
   "cell_type": "code",
   "execution_count": 102,
   "id": "f9043e32",
   "metadata": {},
   "outputs": [
    {
     "data": {
      "text/plain": [
       "array([[ True,  True,  True,  True,  True],\n",
       "       [ True,  True,  True,  True,  True],\n",
       "       [ True, False,  True,  True, False],\n",
       "       [ True,  True,  True, False,  True],\n",
       "       [ True,  True,  True,  True,  True]])"
      ]
     },
     "execution_count": 102,
     "metadata": {},
     "output_type": "execute_result"
    }
   ],
   "source": [
    "arr > 10"
   ]
  },
  {
   "cell_type": "code",
   "execution_count": 103,
   "id": "2ebe2b90",
   "metadata": {},
   "outputs": [
    {
     "data": {
      "text/plain": [
       "array([18, 22, 42, 41, 75, 79, 84, 13, 75, 90, 86, 52, 55, 91, 51, 62, 36,\n",
       "       93, 28, 89, 92, 81])"
      ]
     },
     "execution_count": 103,
     "metadata": {},
     "output_type": "execute_result"
    }
   ],
   "source": [
    "arr[arr>10]          #just filter data of the array acc to condition"
   ]
  },
  {
   "cell_type": "code",
   "execution_count": 104,
   "id": "65edaeea",
   "metadata": {},
   "outputs": [
    {
     "data": {
      "text/plain": [
       "array([[ 324,  484, 1764, 1681, 5625],\n",
       "       [6241, 7056,  169, 5625, 8100],\n",
       "       [7396,   36, 2704, 3025,  100],\n",
       "       [8281, 2601, 3844,   49, 1296],\n",
       "       [8649,  784, 7921, 8464, 6561]])"
      ]
     },
     "execution_count": 104,
     "metadata": {},
     "output_type": "execute_result"
    }
   ],
   "source": [
    "arr*arr"
   ]
  },
  {
   "cell_type": "code",
   "execution_count": 106,
   "id": "61f8ee1b",
   "metadata": {},
   "outputs": [
    {
     "data": {
      "text/plain": [
       "array([[2, 2, 3],\n",
       "       [2, 3, 3],\n",
       "       [3, 3, 2]])"
      ]
     },
     "execution_count": 106,
     "metadata": {},
     "output_type": "execute_result"
    }
   ],
   "source": [
    "arr1= np.random.randint(2,4,(3,3))\n",
    "arr1"
   ]
  },
  {
   "cell_type": "code",
   "execution_count": 110,
   "id": "79f05775",
   "metadata": {},
   "outputs": [
    {
     "data": {
      "text/plain": [
       "array([[4, 2],\n",
       "       [5, 3],\n",
       "       [3, 3]])"
      ]
     },
     "execution_count": 110,
     "metadata": {},
     "output_type": "execute_result"
    }
   ],
   "source": [
    "arr2= np.random.randint(2,6,(3,2))\n",
    "arr2"
   ]
  },
  {
   "cell_type": "code",
   "execution_count": 111,
   "id": "06432bbd",
   "metadata": {},
   "outputs": [
    {
     "ename": "ValueError",
     "evalue": "operands could not be broadcast together with shapes (3,3) (3,2) ",
     "output_type": "error",
     "traceback": [
      "\u001b[0;31m---------------------------------------------------------------------------\u001b[0m",
      "\u001b[0;31mValueError\u001b[0m                                Traceback (most recent call last)",
      "\u001b[0;32m/tmp/ipykernel_2568/3190821766.py\u001b[0m in \u001b[0;36m<module>\u001b[0;34m\u001b[0m\n\u001b[0;32m----> 1\u001b[0;31m \u001b[0marr1\u001b[0m\u001b[0;34m*\u001b[0m\u001b[0marr2\u001b[0m\u001b[0;34m\u001b[0m\u001b[0;34m\u001b[0m\u001b[0m\n\u001b[0m",
      "\u001b[0;31mValueError\u001b[0m: operands could not be broadcast together with shapes (3,3) (3,2) "
     ]
    }
   ],
   "source": [
    "arr1*arr2      #will not multiply"
   ]
  },
  {
   "cell_type": "code",
   "execution_count": 112,
   "id": "3a7f2d24",
   "metadata": {},
   "outputs": [
    {
     "data": {
      "text/plain": [
       "array([[4, 4, 9],\n",
       "       [4, 9, 9],\n",
       "       [9, 9, 4]])"
      ]
     },
     "execution_count": 112,
     "metadata": {},
     "output_type": "execute_result"
    }
   ],
   "source": [
    "arr1*arr1     #this is multiplying     # This is happening becoz this is not real matrix mult but just mult indexes in similar position"
   ]
  },
  {
   "cell_type": "code",
   "execution_count": 113,
   "id": "7693d76d",
   "metadata": {},
   "outputs": [],
   "source": [
    "# starting matrix mult"
   ]
  },
  {
   "cell_type": "code",
   "execution_count": 114,
   "id": "8d78edf2",
   "metadata": {},
   "outputs": [
    {
     "data": {
      "text/plain": [
       "array([[27, 19],\n",
       "       [32, 22],\n",
       "       [33, 21]])"
      ]
     },
     "execution_count": 114,
     "metadata": {},
     "output_type": "execute_result"
    }
   ],
   "source": [
    "arr1@arr2"
   ]
  },
  {
   "cell_type": "code",
   "execution_count": 115,
   "id": "c5adf1a1",
   "metadata": {},
   "outputs": [
    {
     "name": "stderr",
     "output_type": "stream",
     "text": [
      "/tmp/ipykernel_2568/4291252909.py:1: RuntimeWarning: divide by zero encountered in true_divide\n",
      "  arr/0\n"
     ]
    },
    {
     "data": {
      "text/plain": [
       "array([[inf, inf, inf, inf, inf],\n",
       "       [inf, inf, inf, inf, inf],\n",
       "       [inf, inf, inf, inf, inf],\n",
       "       [inf, inf, inf, inf, inf],\n",
       "       [inf, inf, inf, inf, inf]])"
      ]
     },
     "execution_count": 115,
     "metadata": {},
     "output_type": "execute_result"
    }
   ],
   "source": [
    "arr/0"
   ]
  },
  {
   "cell_type": "code",
   "execution_count": 120,
   "id": "c38a5134",
   "metadata": {},
   "outputs": [
    {
     "data": {
      "text/plain": [
       "array([[ 36,  44,  84,  82, 150],\n",
       "       [158, 168,  26, 150, 180],\n",
       "       [172,  12, 104, 110,  20],\n",
       "       [182, 102, 124,  14,  72],\n",
       "       [186,  56, 178, 184, 162]])"
      ]
     },
     "execution_count": 120,
     "metadata": {},
     "output_type": "execute_result"
    }
   ],
   "source": [
    "arr*2 #mult arr with 2\n",
    "arr**2  # mult arr wit 2, 2 times"
   ]
  },
  {
   "cell_type": "code",
   "execution_count": 123,
   "id": "73dca255",
   "metadata": {},
   "outputs": [
    {
     "data": {
      "text/plain": [
       "array([[0., 0., 0., 0.],\n",
       "       [0., 0., 0., 0.],\n",
       "       [0., 0., 0., 0.]])"
      ]
     },
     "execution_count": 123,
     "metadata": {},
     "output_type": "execute_result"
    }
   ],
   "source": [
    "arr = np.zeros((3,4))\n",
    "arr"
   ]
  },
  {
   "cell_type": "code",
   "execution_count": 127,
   "id": "7ef00de0",
   "metadata": {},
   "outputs": [
    {
     "data": {
      "text/plain": [
       "array([1, 2, 3, 4])"
      ]
     },
     "execution_count": 127,
     "metadata": {},
     "output_type": "execute_result"
    }
   ],
   "source": [
    "a= np.array([1,2,3,4])\n",
    "b= np.array([1,2,3])\n",
    "a"
   ]
  },
  {
   "cell_type": "code",
   "execution_count": 128,
   "id": "b562ab91",
   "metadata": {},
   "outputs": [
    {
     "data": {
      "text/plain": [
       "array([[1., 2., 3., 4.],\n",
       "       [1., 2., 3., 4.],\n",
       "       [1., 2., 3., 4.]])"
      ]
     },
     "execution_count": 128,
     "metadata": {},
     "output_type": "execute_result"
    }
   ],
   "source": [
    "a+arr                    #this is originally not matrix addition, it is just adding the array a to every row\n",
    "      # this is called broadcasting"
   ]
  },
  {
   "cell_type": "code",
   "execution_count": 129,
   "id": "0de5ddc8",
   "metadata": {},
   "outputs": [
    {
     "ename": "ValueError",
     "evalue": "operands could not be broadcast together with shapes (3,) (3,4) ",
     "output_type": "error",
     "traceback": [
      "\u001b[0;31m---------------------------------------------------------------------------\u001b[0m",
      "\u001b[0;31mValueError\u001b[0m                                Traceback (most recent call last)",
      "\u001b[0;32m/tmp/ipykernel_2568/1485198754.py\u001b[0m in \u001b[0;36m<module>\u001b[0;34m\u001b[0m\n\u001b[0;32m----> 1\u001b[0;31m \u001b[0mb\u001b[0m\u001b[0;34m+\u001b[0m\u001b[0marr\u001b[0m\u001b[0;34m\u001b[0m\u001b[0;34m\u001b[0m\u001b[0m\n\u001b[0m",
      "\u001b[0;31mValueError\u001b[0m: operands could not be broadcast together with shapes (3,) (3,4) "
     ]
    }
   ],
   "source": [
    "b+arr            # b has only 3 elements in row and arr has 4 elements, this will not add"
   ]
  },
  {
   "cell_type": "code",
   "execution_count": 134,
   "id": "41ad708c",
   "metadata": {},
   "outputs": [
    {
     "data": {
      "text/plain": [
       "array([[1., 1., 1., 1.],\n",
       "       [2., 2., 2., 2.],\n",
       "       [3., 3., 3., 3.]])"
      ]
     },
     "execution_count": 134,
     "metadata": {},
     "output_type": "execute_result"
    }
   ],
   "source": [
    "#broadcasting in column\n",
    "b.reshape(3,1) + arr"
   ]
  },
  {
   "cell_type": "code",
   "execution_count": 137,
   "id": "4b9901b4",
   "metadata": {},
   "outputs": [
    {
     "data": {
      "text/plain": [
       "array([1, 2, 3])"
      ]
     },
     "execution_count": 137,
     "metadata": {},
     "output_type": "execute_result"
    }
   ],
   "source": [
    "b\n",
    "b.T  # didn't work as b is 1d (1x1)  # should be 2d to transpose"
   ]
  },
  {
   "cell_type": "code",
   "execution_count": 141,
   "id": "f5e3ce78",
   "metadata": {},
   "outputs": [
    {
     "data": {
      "text/plain": [
       "array([[5, 6, 7]])"
      ]
     },
     "execution_count": 141,
     "metadata": {},
     "output_type": "execute_result"
    }
   ],
   "source": [
    "c= np.array([[5,6,7]])\n",
    "c\n",
    "#c.T"
   ]
  },
  {
   "cell_type": "code",
   "execution_count": 143,
   "id": "92cfd1f3",
   "metadata": {},
   "outputs": [
    {
     "data": {
      "text/plain": [
       "array([[0.57428656, 0.9434564 , 0.30483957, 0.61945178],\n",
       "       [0.03394593, 0.49702984, 0.58196346, 0.4298387 ],\n",
       "       [0.86391129, 0.44770725, 0.99416056, 0.6175861 ],\n",
       "       [0.33552377, 0.30683895, 0.11703839, 0.38562488],\n",
       "       [0.4202066 , 0.41269283, 0.04407478, 0.23028404]])"
      ]
     },
     "execution_count": 143,
     "metadata": {},
     "output_type": "execute_result"
    }
   ],
   "source": [
    "arr= np.random.rand(5,4)\n",
    "arr"
   ]
  },
  {
   "cell_type": "code",
   "execution_count": 144,
   "id": "6fe7598f",
   "metadata": {},
   "outputs": [
    {
     "data": {
      "text/plain": [
       "array([[0.75781697, 0.97131684, 0.55212278, 0.78705259],\n",
       "       [0.18424421, 0.70500343, 0.76286529, 0.65562085],\n",
       "       [0.92946828, 0.6691093 , 0.99707601, 0.78586647],\n",
       "       [0.57924414, 0.55393045, 0.34210875, 0.62098702],\n",
       "       [0.64823344, 0.64241173, 0.20993994, 0.47987919]])"
      ]
     },
     "execution_count": 144,
     "metadata": {},
     "output_type": "execute_result"
    }
   ],
   "source": [
    "np.sqrt(arr)"
   ]
  },
  {
   "cell_type": "code",
   "execution_count": 145,
   "id": "90cae1d3",
   "metadata": {},
   "outputs": [
    {
     "data": {
      "text/plain": [
       "array([[1.77586311, 2.56884506, 1.35640738, 1.85790921],\n",
       "       [1.03452867, 1.64383158, 1.78954869, 1.53700959],\n",
       "       [2.3724218 , 1.56472056, 2.70245484, 1.85444619],\n",
       "       [1.39867278, 1.35912206, 1.12416259, 1.47053295],\n",
       "       [1.52227602, 1.51088085, 1.0450605 , 1.25895755]])"
      ]
     },
     "execution_count": 145,
     "metadata": {},
     "output_type": "execute_result"
    }
   ],
   "source": [
    "np.exp(arr)"
   ]
  },
  {
   "cell_type": "code",
   "execution_count": 146,
   "id": "665cb0f0",
   "metadata": {},
   "outputs": [
    {
     "data": {
      "text/plain": [
       "array([[-0.24087134, -0.02527816, -0.51592866, -0.2079925 ],\n",
       "       [-1.46921232, -0.30361753, -0.23510428, -0.36669448],\n",
       "       [-0.06353085, -0.34900587, -0.00254347, -0.20930248],\n",
       "       [-0.47427671, -0.51308951, -0.93167165, -0.41383495],\n",
       "       [-0.37653713, -0.38437308, -1.35580987, -0.63773617]])"
      ]
     },
     "execution_count": 146,
     "metadata": {},
     "output_type": "execute_result"
    }
   ],
   "source": [
    "np.log10(arr)"
   ]
  },
  {
   "cell_type": "code",
   "execution_count": 152,
   "id": "eb6dd5cd",
   "metadata": {},
   "outputs": [
    {
     "data": {
      "text/plain": [
       "array([[4, 3, 2, 4, 4],\n",
       "       [2, 3, 2, 4, 3],\n",
       "       [4, 2, 3, 2, 2],\n",
       "       [4, 4, 4, 4, 2],\n",
       "       [3, 4, 2, 2, 2]])"
      ]
     },
     "execution_count": 152,
     "metadata": {},
     "output_type": "execute_result"
    }
   ],
   "source": [
    "arr = np.random.randint(2,5, (5,5))\n",
    "arr"
   ]
  },
  {
   "cell_type": "code",
   "execution_count": 153,
   "id": "3c98ba90",
   "metadata": {},
   "outputs": [
    {
     "data": {
      "text/plain": [
       "array([[0.60205999, 0.47712125, 0.30103   , 0.60205999, 0.60205999],\n",
       "       [0.30103   , 0.47712125, 0.30103   , 0.60205999, 0.47712125],\n",
       "       [0.60205999, 0.30103   , 0.47712125, 0.30103   , 0.30103   ],\n",
       "       [0.60205999, 0.60205999, 0.60205999, 0.60205999, 0.30103   ],\n",
       "       [0.47712125, 0.60205999, 0.30103   , 0.30103   , 0.30103   ]])"
      ]
     },
     "execution_count": 153,
     "metadata": {},
     "output_type": "execute_result"
    }
   ],
   "source": [
    "np.log10(arr)"
   ]
  },
  {
   "cell_type": "code",
   "execution_count": 151,
   "id": "cae037fe",
   "metadata": {},
   "outputs": [
    {
     "data": {
      "text/plain": [
       "array([[2, 2, 3],\n",
       "       [2, 3, 3],\n",
       "       [3, 3, 2]])"
      ]
     },
     "execution_count": 151,
     "metadata": {},
     "output_type": "execute_result"
    }
   ],
   "source": [
    "arr1"
   ]
  },
  {
   "cell_type": "code",
   "execution_count": 155,
   "id": "370f32d2",
   "metadata": {},
   "outputs": [
    {
     "data": {
      "text/plain": [
       "array([[0.77770241, 0.23754122, 0.82427853, 0.9657492 ],\n",
       "       [0.97260111, 0.45344925, 0.60904246, 0.77552651]])"
      ]
     },
     "execution_count": 155,
     "metadata": {},
     "output_type": "execute_result"
    }
   ],
   "source": [
    "np.random.seed(13)             # seed is used to fix random generated data\n",
    "np.random.rand(2,4)           # other wise if you execute random evry time data time change"
   ]
  },
  {
   "cell_type": "code",
   "execution_count": null,
   "id": "36125c7f",
   "metadata": {},
   "outputs": [],
   "source": []
  }
 ],
 "metadata": {
  "kernelspec": {
   "display_name": "Python 3 (ipykernel)",
   "language": "python",
   "name": "python3"
  },
  "language_info": {
   "codemirror_mode": {
    "name": "ipython",
    "version": 3
   },
   "file_extension": ".py",
   "mimetype": "text/x-python",
   "name": "python",
   "nbconvert_exporter": "python",
   "pygments_lexer": "ipython3",
   "version": "3.9.7"
  }
 },
 "nbformat": 4,
 "nbformat_minor": 5
}
