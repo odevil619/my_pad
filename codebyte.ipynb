{
 "cells": [
  {
   "cell_type": "code",
   "execution_count": 7,
   "id": "4ce71d22",
   "metadata": {},
   "outputs": [
    {
     "name": "stdout",
     "output_type": "stream",
     "text": [
      "true\n"
     ]
    }
   ],
   "source": [
    "def TreeConstructor(strArr): \n",
    "    \n",
    "    children = []\n",
    "    parents = []\n",
    "\n",
    "    \n",
    "    for pair in strArr:\n",
    "        # convert strings into numbers\n",
    "        i1, i2 = eval(pair)\n",
    "        \n",
    "        # a child can't have more than 1 parent\n",
    "        if i1 in children:\n",
    "            return(\"false\")\n",
    "        else:\n",
    "            children.append(i1)\n",
    "            parents.append(i2)\n",
    "            # a parent can't have more than 2 children\n",
    "            if parents.count(i2) > 2:\n",
    "                return(\"false\")\n",
    "    \n",
    "    # check if there is more than one tree\n",
    "    no_parents = 0 \n",
    "        \n",
    "    for i in parents:\n",
    "        if children.count(i) == 0:\n",
    "            no_parents = no_parents +1\n",
    "    \n",
    "    if no_parents > 1:\n",
    "        return(\"false\")\n",
    "            \n",
    "        \n",
    "    return(\"true\")\n",
    "    \n",
    "# keep this function call here  \n",
    "print(TreeConstructor([\"(1,2)\",\"(2,4)\",\"(7,2)\"]))\n"
   ]
  },
  {
   "cell_type": "code",
   "execution_count": 3,
   "id": "63494935",
   "metadata": {},
   "outputs": [
    {
     "ename": "NameError",
     "evalue": "name 'A' is not defined",
     "output_type": "error",
     "traceback": [
      "\u001b[0;31m---------------------------------------------------------------------------\u001b[0m",
      "\u001b[0;31mNameError\u001b[0m                                 Traceback (most recent call last)",
      "\u001b[0;32m/tmp/ipykernel_4675/2472889946.py\u001b[0m in \u001b[0;36m<module>\u001b[0;34m\u001b[0m\n\u001b[0;32m----> 1\u001b[0;31m \u001b[0meval\u001b[0m\u001b[0;34m(\u001b[0m\u001b[0;34m'A'\u001b[0m\u001b[0;34m)\u001b[0m\u001b[0;34m\u001b[0m\u001b[0;34m\u001b[0m\u001b[0m\n\u001b[0m",
      "\u001b[0;32m<string>\u001b[0m in \u001b[0;36m<module>\u001b[0;34m\u001b[0m\n",
      "\u001b[0;31mNameError\u001b[0m: name 'A' is not defined"
     ]
    }
   ],
   "source": [
    "eval('A')"
   ]
  },
  {
   "cell_type": "code",
   "execution_count": 12,
   "id": "9e7e905e",
   "metadata": {},
   "outputs": [
    {
     "name": "stdout",
     "output_type": "stream",
     "text": [
      "6\n",
      "7\n",
      "8\n",
      "9\n",
      "10\n"
     ]
    }
   ],
   "source": [
    "a=5\n",
    "for i in range(5):\n",
    "    a=a+1\n",
    "    print(a)"
   ]
  },
  {
   "cell_type": "code",
   "execution_count": null,
   "id": "ecdd5a29",
   "metadata": {},
   "outputs": [],
   "source": []
  },
  {
   "cell_type": "code",
   "execution_count": 60,
   "id": "aefd9a29",
   "metadata": {},
   "outputs": [
    {
     "name": "stdout",
     "output_type": "stream",
     "text": [
      "-1\n",
      "-1\n",
      "Final- abcd\n"
     ]
    }
   ],
   "source": [
    "s='abcdabcdabcd'\n",
    "a=0\n",
    "#s='abcxabc'\n",
    "for i in range((len(s)//2),0,-1):\n",
    "    #print(i)\n",
    "    #print(s[0:i],\"-\",s[i:i+i])\n",
    "    if s[0:i]==s[i:i+i]:\n",
    "        #print(i)\n",
    "        if (i+i+i)<=len(s) and s[i:i+i]==s[i+i:i+i+i]:\n",
    "            a=a+i\n",
    "            print('Final-',s[0:i])\n",
    "            break\n",
    "        else:\n",
    "            print(-1)\n",
    "    else:\n",
    "        print(-1)\n",
    "            \n",
    "    "
   ]
  },
  {
   "cell_type": "code",
   "execution_count": 55,
   "id": "41e69d3b",
   "metadata": {},
   "outputs": [
    {
     "data": {
      "text/plain": [
       "12"
      ]
     },
     "execution_count": 55,
     "metadata": {},
     "output_type": "execute_result"
    }
   ],
   "source": [
    "len(s)"
   ]
  },
  {
   "cell_type": "code",
   "execution_count": 44,
   "id": "6d1b727e",
   "metadata": {},
   "outputs": [
    {
     "name": "stdout",
     "output_type": "stream",
     "text": [
      "y\n"
     ]
    }
   ],
   "source": [
    "if s[0:4]==s[4:8]:\n",
    "    print('y')"
   ]
  },
  {
   "cell_type": "code",
   "execution_count": null,
   "id": "462c14fd",
   "metadata": {},
   "outputs": [],
   "source": []
  },
  {
   "cell_type": "code",
   "execution_count": 25,
   "id": "5b85f7c7",
   "metadata": {},
   "outputs": [
    {
     "name": "stdout",
     "output_type": "stream",
     "text": [
      "5\n",
      "4\n",
      "3\n",
      "2\n",
      "1\n"
     ]
    }
   ],
   "source": [
    "#s='abcdabcdabcd'\n",
    "\n",
    "for i in range(5,0,-1):\n",
    "    print(i)"
   ]
  },
  {
   "cell_type": "code",
   "execution_count": 41,
   "id": "5fdb4e47",
   "metadata": {},
   "outputs": [
    {
     "data": {
      "text/plain": [
       "'abcd'"
      ]
     },
     "execution_count": 41,
     "metadata": {},
     "output_type": "execute_result"
    }
   ],
   "source": [
    "s[0:4]"
   ]
  },
  {
   "cell_type": "code",
   "execution_count": 42,
   "id": "e859ac4a",
   "metadata": {},
   "outputs": [
    {
     "data": {
      "text/plain": [
       "'abcd'"
      ]
     },
     "execution_count": 42,
     "metadata": {},
     "output_type": "execute_result"
    }
   ],
   "source": [
    "s[4:8]"
   ]
  },
  {
   "cell_type": "code",
   "execution_count": null,
   "id": "100a2fd5",
   "metadata": {},
   "outputs": [],
   "source": []
  },
  {
   "cell_type": "code",
   "execution_count": 76,
   "id": "5126a64c",
   "metadata": {},
   "outputs": [
    {
     "name": "stdout",
     "output_type": "stream",
     "text": [
      "-1\n"
     ]
    }
   ],
   "source": [
    "s='abcdxabcdabcd'\n",
    "a=0\n",
    "#s='abcdbcdabcx'\n",
    "for i in range((len(s)//2),0,-1):\n",
    "    #print(i)\n",
    "    #print(s[0:i],\"-\",s[i:i+i])\n",
    "    if s[0:i]==s[i:i+i]:\n",
    "        #print(i)\n",
    "        for j in range(1,len(s)//i):\n",
    "            if j<=len(s) and s[i*(j-1):j*i]==s[j*i:(j+1)*i]:\n",
    "                #print(s[0:i])\n",
    "                a=s[0:i]\n",
    "                break\n",
    "            else:\n",
    "                a=-1\n",
    "        break\n",
    "    else:\n",
    "        a=-1\n",
    "print(a)"
   ]
  },
  {
   "cell_type": "code",
   "execution_count": null,
   "id": "df492b43",
   "metadata": {},
   "outputs": [],
   "source": []
  },
  {
   "cell_type": "code",
   "execution_count": null,
   "id": "74882955",
   "metadata": {},
   "outputs": [],
   "source": [
    "s='abcdabcdabcd'\n",
    "a=0\n",
    "#s='abcxabc'\n",
    "for i in range((len(s)//2),0,-1):\n",
    "    #print(i)\n",
    "    #print(s[0:i],\"-\",s[i:i+i])\n",
    "    if s[0:i]==s[i:i+i]:\n",
    "        #print(i)\n",
    "        if (i+i+i)<=len(s) and s[i:i+i]==s[i+i:i+i+i]:\n",
    "            a=a+i\n",
    "            print('Final-',s[0:i])\n",
    "            break\n",
    "        else:\n",
    "            print(-1)\n",
    "    else:\n",
    "        print(-1)"
   ]
  },
  {
   "cell_type": "code",
   "execution_count": 81,
   "id": "d6dab391",
   "metadata": {},
   "outputs": [],
   "source": [
    "#Final Solution\n",
    "\n",
    "\n",
    "def StringPeriods(strParam):\n",
    "    a=0\n",
    "    #s='abcdbcdabcx'\n",
    "    for i in range((len(strParam)//2),0,-1):\n",
    "        #print(i)\n",
    "        #print(s[0:i],\"-\",s[i:i+i])\n",
    "        if strParam[0:i]==strParam[i:i+i]:\n",
    "            #print(i)\n",
    "            for j in range(1,len(strParam)//i):\n",
    "                if j<=len(strParam) and strParam[i*(j-1):j*i]==strParam[j*i:(j+1)*i]:\n",
    "                    #print(s[0:i])\n",
    "                    a=strParam[0:i]\n",
    "                    break\n",
    "                else:\n",
    "                    a=-1\n",
    "            break\n",
    "        else:\n",
    "            a=-1\n",
    "    return (a)"
   ]
  },
  {
   "cell_type": "code",
   "execution_count": null,
   "id": "4ad7e9a7",
   "metadata": {},
   "outputs": [],
   "source": []
  },
  {
   "cell_type": "code",
   "execution_count": 82,
   "id": "e0b26010",
   "metadata": {},
   "outputs": [
    {
     "data": {
      "text/plain": [
       "'ababab'"
      ]
     },
     "execution_count": 82,
     "metadata": {},
     "output_type": "execute_result"
    }
   ],
   "source": [
    "op1=StringPeriods('abababababab')\n",
    "op1"
   ]
  },
  {
   "cell_type": "code",
   "execution_count": 83,
   "id": "36eef948",
   "metadata": {},
   "outputs": [
    {
     "data": {
      "text/plain": [
       "'abac'"
      ]
     },
     "execution_count": 83,
     "metadata": {},
     "output_type": "execute_result"
    }
   ],
   "source": [
    "op1=StringPeriods('abacabacabab')\n",
    "op1"
   ]
  },
  {
   "cell_type": "code",
   "execution_count": null,
   "id": "bb218b79",
   "metadata": {},
   "outputs": [],
   "source": []
  },
  {
   "cell_type": "code",
   "execution_count": 84,
   "id": "10b75252",
   "metadata": {},
   "outputs": [
    {
     "data": {
      "text/plain": [
       "int"
      ]
     },
     "execution_count": 84,
     "metadata": {},
     "output_type": "execute_result"
    }
   ],
   "source": [
    "a='123456'\n",
    "type(int(a))"
   ]
  },
  {
   "cell_type": "code",
   "execution_count": 172,
   "id": "cdfebb66",
   "metadata": {},
   "outputs": [
    {
     "name": "stdout",
     "output_type": "stream",
     "text": [
      "['1', '4', '5', '3', '2']\n",
      "2\n",
      "['1', '5', '4', '3', '2']\n",
      "['1', '5']\n",
      "['2', '3', '4']\n",
      "['1', '5', '2', '3', '4']\n"
     ]
    }
   ],
   "source": [
    "no='14532'\n",
    "#b=0\n",
    "a=[i for i in no]\n",
    "print(a)\n",
    "for i in range(len(a)-1,1,-1):\n",
    "    if int(a[i])>int(a[i-1]):\n",
    "        print(i)\n",
    "        a[i],a[i-1]=a[i-1],a[i]\n",
    "        print(a)\n",
    "        print(a[:2])\n",
    "        print(sorted(a[2:len(a)]))\n",
    "        print((a[:i])+(sorted(a[i:len(a)])))\n",
    "        break\n",
    "    "
   ]
  },
  {
   "cell_type": "code",
   "execution_count": null,
   "id": "346d138f",
   "metadata": {},
   "outputs": [],
   "source": []
  },
  {
   "cell_type": "code",
   "execution_count": 171,
   "id": "405ed60d",
   "metadata": {},
   "outputs": [
    {
     "name": "stdout",
     "output_type": "stream",
     "text": [
      "['4', '1', '3', '5', '2']\n",
      "['4', '1', '5', '3', '2']\n",
      "3\n",
      "41523\n"
     ]
    }
   ],
   "source": [
    "no='41352'\n",
    "nxtno=0\n",
    "a=[i for i in no]\n",
    "print(a)\n",
    "for i in range(len(a)-1,1,-1):\n",
    "    if int(a[i])>int(a[i-1]):\n",
    "        a[i],a[i-1]=a[i-1],a[i]\n",
    "        print(a)\n",
    "        print(i)\n",
    "        s=((a[:i])+(sorted(a[i:len(a)])))\n",
    "        break\n",
    "        \n",
    "nxtno=nxtno+int(\"\".join(s))\n",
    "print(nxtno)"
   ]
  },
  {
   "cell_type": "code",
   "execution_count": 174,
   "id": "bb1ebbbd",
   "metadata": {},
   "outputs": [
    {
     "name": "stdout",
     "output_type": "stream",
     "text": [
      "['4', '1', '3', '5', '2']\n",
      "['4', '1', '5', '3', '2']\n",
      "3\n",
      "41523\n"
     ]
    }
   ],
   "source": [
    "no='41352'\n",
    "nxtno=0\n",
    "a=[i for i in no]\n",
    "print(a)\n",
    "for i in range(len(a)-1,1,-1):\n",
    "    if int(a[i])>int(a[i-1]):\n",
    "        a[i],a[i-1]=a[i-1],a[i]\n",
    "        print(a)\n",
    "        print(i)\n",
    "        s=((a[:i])+(sorted(a[i:len(a)])))\n",
    "        break\n",
    "        \n",
    "nxtno=nxtno+int(\"\".join(s))\n",
    "print(nxtno)"
   ]
  },
  {
   "cell_type": "code",
   "execution_count": 176,
   "id": "6202844a",
   "metadata": {},
   "outputs": [],
   "source": [
    "def PermutationStep(num):\n",
    "    num=str(num)\n",
    "    a=[i for i in num]\n",
    "    #print(a)\n",
    "    for i in range(len(a)-1,1,-1):\n",
    "        if int(a[i])>int(a[i-1]):\n",
    "            a[i],a[i-1]=a[i-1],a[i]\n",
    "            #print(a)\n",
    "            #print(i)\n",
    "            s=((a[:i])+(sorted(a[i:len(a)])))\n",
    "            break\n",
    "\n",
    "    num=int(\"\".join(s))\n",
    "    return numO8"
   ]
  },
  {
   "cell_type": "code",
   "execution_count": 179,
   "id": "1b3078b7",
   "metadata": {},
   "outputs": [
    {
     "name": "stdout",
     "output_type": "stream",
     "text": [
      "41523\n",
      "11211\n",
      "12534\n"
     ]
    }
   ],
   "source": [
    "print(PermutationStep(41352))\n",
    "print(PermutationStep(11121))\n",
    "print(PermutationStep(12453))"
   ]
  },
  {
   "cell_type": "code",
   "execution_count": null,
   "id": "a70d78de",
   "metadata": {},
   "outputs": [],
   "source": []
  },
  {
   "cell_type": "code",
   "execution_count": 154,
   "id": "000e8066",
   "metadata": {},
   "outputs": [],
   "source": [
    "s=['1','2','3']                       #join list\n",
    "res = int(\"\".join(s))"
   ]
  },
  {
   "cell_type": "code",
   "execution_count": 155,
   "id": "34ccfa12",
   "metadata": {},
   "outputs": [
    {
     "data": {
      "text/plain": [
       "123"
      ]
     },
     "execution_count": 155,
     "metadata": {},
     "output_type": "execute_result"
    }
   ],
   "source": [
    "res"
   ]
  },
  {
   "cell_type": "code",
   "execution_count": 185,
   "id": "5a6fd8f5",
   "metadata": {},
   "outputs": [
    {
     "name": "stdout",
     "output_type": "stream",
     "text": [
      "0\n",
      "1\n",
      "2\n",
      "3\n",
      "4\n",
      "5\n",
      "6\n",
      "7\n",
      "8\n",
      "9\n",
      "10\n",
      "11\n",
      "12\n",
      "13\n",
      "14\n"
     ]
    }
   ],
   "source": [
    "s='hellosannasmith'\n",
    "len(s)\n",
    "for i in range(len(s)):\n",
    "    print(i)"
   ]
  },
  {
   "cell_type": "code",
   "execution_count": 199,
   "id": "21b03569",
   "metadata": {},
   "outputs": [
    {
     "name": "stdout",
     "output_type": "stream",
     "text": [
      "h h\n",
      "0 14\n",
      "l l\n",
      "2 3\n",
      "s s\n",
      "5 10\n",
      "a a\n",
      "6 9\n",
      "n n\n",
      "7 8\n"
     ]
    }
   ],
   "source": [
    "s='hellosannasmith'\n",
    "for i in range(len(s)-1):\n",
    "    for j in range(len(s)-1,i,-1):\n",
    "        if s[i]==s[j]:\n",
    "            \n",
    "#             even\n",
    "#             for i in range():\n",
    "                \n",
    "            print(s[i],s[j])\n",
    "            print(i,j)\n",
    "    #print('i',i)"
   ]
  },
  {
   "cell_type": "code",
   "execution_count": 1,
   "id": "a0b1df1c",
   "metadata": {},
   "outputs": [
    {
     "name": "stdout",
     "output_type": "stream",
     "text": [
      "x hellosannasmith\n",
      "0 14\n",
      "y\n",
      "1 13\n",
      "2 12\n",
      "3 11\n",
      "4 10\n",
      "5 9\n",
      "6 8\n",
      "x ll\n",
      "0 1\n",
      "x sannas\n",
      "0 5\n",
      "1 4\n",
      "2 3\n",
      "y\n",
      "2\n",
      "x anna\n",
      "0 3\n",
      "1 2\n",
      "x nn\n",
      "0 1\n"
     ]
    }
   ],
   "source": [
    "s='hellosannasmith'\n",
    "for i in range(len(s)-1):\n",
    "    for j in range(len(s)-1,i,-1):\n",
    "        if s[i]==s[j]:\n",
    "            x=s[i:j+1]\n",
    "            print('x',x)\n",
    "            for a in range(len(x)//2):\n",
    "                print(a,(len(x)-(a+1)))\n",
    "                if s[a]==s[(len(x)-(a+1))]:\n",
    "                    print('y')\n",
    "                    #continue\n",
    "                    if a==(len(x)//2-1):\n",
    "                        print(a)\n",
    "                        exit()\n",
    "                \n",
    "        \n",
    "            #even\n",
    "            #for i in range():\n",
    "                \n",
    "            #print(s[i],s[j])\n",
    "            #print(i,j)\n",
    "    #print('i',i)\n",
    "                "
   ]
  },
  {
   "cell_type": "code",
   "execution_count": 1,
   "id": "4d8b8f5e",
   "metadata": {},
   "outputs": [
    {
     "name": "stdout",
     "output_type": "stream",
     "text": [
      "sannas\n"
     ]
    }
   ],
   "source": [
    "s='hellosannasmith'\n",
    "pald=[]\n",
    "for i in range(len(s)-1):\n",
    "    for j in range(len(s)-1,i,-1):\n",
    "        if s[i]==s[j]:\n",
    "            x=s[i:j+1]\n",
    "            #print('x in j',x)\n",
    "            break\n",
    "    for a in range(len(x)//2):\n",
    "            #print(a,(len(x)-(a+1)))\n",
    "        if x[a]==x[(len(x)-(a+1))]:\n",
    "            #print('a',a)\n",
    "                        #continue\n",
    "            if a==((len(x)//2)-1) and a!=0:\n",
    "                #print('result',x)\n",
    "                pald.append(x)\n",
    "                break\n",
    "        else:\n",
    "            break\n",
    "\n",
    "#print(pald)\n",
    "max_pald=max(pald,key=len)\n",
    "print(max_pald)\n"
   ]
  },
  {
   "cell_type": "code",
   "execution_count": 1,
   "id": "c57f063f",
   "metadata": {},
   "outputs": [
    {
     "ename": "NameError",
     "evalue": "name 'x' is not defined",
     "output_type": "error",
     "traceback": [
      "\u001b[0;31m---------------------------------------------------------------------------\u001b[0m",
      "\u001b[0;31mNameError\u001b[0m                                 Traceback (most recent call last)",
      "\u001b[0;32m/tmp/ipykernel_13503/707206377.py\u001b[0m in \u001b[0;36m<module>\u001b[0;34m\u001b[0m\n\u001b[1;32m      7\u001b[0m             \u001b[0;31m#print('x in j',x)\u001b[0m\u001b[0;34m\u001b[0m\u001b[0;34m\u001b[0m\u001b[0m\n\u001b[1;32m      8\u001b[0m             \u001b[0;32mbreak\u001b[0m\u001b[0;34m\u001b[0m\u001b[0;34m\u001b[0m\u001b[0m\n\u001b[0;32m----> 9\u001b[0;31m     \u001b[0;32mfor\u001b[0m \u001b[0ma\u001b[0m \u001b[0;32min\u001b[0m \u001b[0mrange\u001b[0m\u001b[0;34m(\u001b[0m\u001b[0mlen\u001b[0m\u001b[0;34m(\u001b[0m\u001b[0mx\u001b[0m\u001b[0;34m)\u001b[0m\u001b[0;34m//\u001b[0m\u001b[0;36m2\u001b[0m\u001b[0;34m)\u001b[0m\u001b[0;34m:\u001b[0m\u001b[0;34m\u001b[0m\u001b[0;34m\u001b[0m\u001b[0m\n\u001b[0m\u001b[1;32m     10\u001b[0m             \u001b[0;31m#print(a,(len(x)-(a+1)))\u001b[0m\u001b[0;34m\u001b[0m\u001b[0;34m\u001b[0m\u001b[0m\n\u001b[1;32m     11\u001b[0m         \u001b[0;32mif\u001b[0m \u001b[0mx\u001b[0m\u001b[0;34m[\u001b[0m\u001b[0ma\u001b[0m\u001b[0;34m]\u001b[0m\u001b[0;34m==\u001b[0m\u001b[0mx\u001b[0m\u001b[0;34m[\u001b[0m\u001b[0;34m(\u001b[0m\u001b[0mlen\u001b[0m\u001b[0;34m(\u001b[0m\u001b[0mx\u001b[0m\u001b[0;34m)\u001b[0m\u001b[0;34m-\u001b[0m\u001b[0;34m(\u001b[0m\u001b[0ma\u001b[0m\u001b[0;34m+\u001b[0m\u001b[0;36m1\u001b[0m\u001b[0;34m)\u001b[0m\u001b[0;34m)\u001b[0m\u001b[0;34m]\u001b[0m\u001b[0;34m:\u001b[0m\u001b[0;34m\u001b[0m\u001b[0;34m\u001b[0m\u001b[0m\n",
      "\u001b[0;31mNameError\u001b[0m: name 'x' is not defined"
     ]
    }
   ],
   "source": [
    "s='abcdefgg'\n",
    "pald=[]\n",
    "for i in range(len(s)-1):\n",
    "    for j in range(len(s)-1,i,-1):\n",
    "        if s[i]==s[j]:\n",
    "            x=s[i:j+1]\n",
    "            #print('x in j',x)\n",
    "            break\n",
    "    for a in range(len(x)//2):\n",
    "            #print(a,(len(x)-(a+1)))\n",
    "        if x[a]==x[(len(x)-(a+1))]:\n",
    "            #print('a',a)\n",
    "                        #continue\n",
    "            if a==((len(x)//2)-1) and a!=0:\n",
    "                #print('result',x)\n",
    "                pald.append(x)\n",
    "                break\n",
    "        else:\n",
    "            break\n",
    "\n",
    "#print(pald)\n",
    "if len(pald)==0:\n",
    "    print('None')\n",
    "else:\n",
    "    max_pald=max(pald,key=len)\n",
    "    print(max_pald)\n"
   ]
  },
  {
   "cell_type": "code",
   "execution_count": 3,
   "id": "d76ac6fd",
   "metadata": {},
   "outputs": [],
   "source": [
    "def PalindromicSubstring(StrParam):\n",
    "    pald=[]\n",
    "    x=''\n",
    "    for i in range(len(StrParam)-1):\n",
    "        for j in range(len(StrParam)-1,i,-1):\n",
    "            if StrParam[i]==StrParam[j]:\n",
    "                x=StrParam[i:j+1]\n",
    "        for a in range(len(x)//2):\n",
    "                #print(a,(len(x)-(a+1)))\n",
    "            if x[a]==x[(len(x)-(a+1))]:\n",
    "                #print('a',a)\n",
    "                            #continue\n",
    "                if a==((len(x)//2)-1) and a!=0:\n",
    "                    #print('result',x)\n",
    "                    pald.append(x)\n",
    "                    break\n",
    "            else:\n",
    "                break\n",
    "\n",
    "    #print(pald)\n",
    "    if len(pald)==0:\n",
    "        StrParam='None'\n",
    "        return StrParam\n",
    "    else:\n",
    "        max_pald=max(pald,key=len)\n",
    "        StrParam=max_pald\n",
    "        return StrParam\n"
   ]
  },
  {
   "cell_type": "code",
   "execution_count": 4,
   "id": "a704c507",
   "metadata": {},
   "outputs": [
    {
     "name": "stdout",
     "output_type": "stream",
     "text": [
      "sannas\n"
     ]
    }
   ],
   "source": [
    "print(PalindromicSubstring('hellosannasmith'))"
   ]
  },
  {
   "cell_type": "code",
   "execution_count": null,
   "id": "6f9bf7a0",
   "metadata": {},
   "outputs": [],
   "source": []
  },
  {
   "cell_type": "code",
   "execution_count": 10,
   "id": "3434a7de",
   "metadata": {},
   "outputs": [
    {
     "data": {
      "text/plain": [
       "2"
      ]
     },
     "execution_count": 10,
     "metadata": {},
     "output_type": "execute_result"
    }
   ],
   "source": [
    "lst=[6,3,1,4,12,4,2]\n",
    "max(lst)\n",
    "lst.index(max(lst))\n",
    "min(lst)\n",
    "lst.index(min(lst))"
   ]
  },
  {
   "cell_type": "code",
   "execution_count": 17,
   "id": "46618265",
   "metadata": {},
   "outputs": [
    {
     "data": {
      "text/plain": [
       "([6, 3, 1, 4], [12, 4, 1])"
      ]
     },
     "execution_count": 17,
     "metadata": {},
     "output_type": "execute_result"
    }
   ],
   "source": [
    "lst=[6,3,1,4,12,4,1]\n",
    "a=lst[:lst.index(max(lst))]\n",
    "b=lst[lst.index(max(lst)):]\n",
    "a,b"
   ]
  },
  {
   "cell_type": "code",
   "execution_count": 22,
   "id": "aa9f4cce",
   "metadata": {},
   "outputs": [
    {
     "data": {
      "text/plain": [
       "[12, 4, 1]"
      ]
     },
     "execution_count": 22,
     "metadata": {},
     "output_type": "execute_result"
    }
   ],
   "source": [
    "b.index(min(b))\n",
    "c=b[0:b.index(min(b))+1]\n",
    "c"
   ]
  },
  {
   "cell_type": "code",
   "execution_count": 24,
   "id": "4b938101",
   "metadata": {},
   "outputs": [
    {
     "data": {
      "text/plain": [
       "[1, 4]"
      ]
     },
     "execution_count": 24,
     "metadata": {},
     "output_type": "execute_result"
    }
   ],
   "source": [
    "a.index(min(a))\n",
    "d=a[a.index(min(b)):]\n",
    "d"
   ]
  },
  {
   "cell_type": "code",
   "execution_count": 29,
   "id": "f15c29a3",
   "metadata": {},
   "outputs": [
    {
     "name": "stdout",
     "output_type": "stream",
     "text": [
      "[1, 4, 12, 4, 1]\n"
     ]
    },
    {
     "data": {
      "text/plain": [
       "5"
      ]
     },
     "execution_count": 29,
     "metadata": {},
     "output_type": "execute_result"
    }
   ],
   "source": [
    "x=d+c\n",
    "print(x)\n",
    "len(x)"
   ]
  },
  {
   "cell_type": "code",
   "execution_count": 40,
   "id": "d831fd5c",
   "metadata": {},
   "outputs": [
    {
     "name": "stdout",
     "output_type": "stream",
     "text": [
      "0 1\n",
      "1 4\n",
      "0 2\n",
      "1 12\n",
      "1 2\n",
      "4 12\n",
      "0 3\n",
      "1 4\n"
     ]
    },
    {
     "data": {
      "text/plain": [
       "[1, 4, 12, 4, 1]"
      ]
     },
     "execution_count": 40,
     "metadata": {},
     "output_type": "execute_result"
    }
   ],
   "source": [
    "area=[]\n",
    "f=[]\n",
    "for i in range(len(x)):\n",
    "    for j in range(i):\n",
    "        a=0\n",
    "        if x[j]//x[i]==0:\n",
    "            print(j,i)\n",
    "            print(x[j],x[i])\n",
    "            a=a+1\n",
    "    f.append(x[i])\n",
    "f"
   ]
  },
  {
   "cell_type": "code",
   "execution_count": 37,
   "id": "5d35edad",
   "metadata": {},
   "outputs": [
    {
     "data": {
      "text/plain": [
       "4"
      ]
     },
     "execution_count": 37,
     "metadata": {},
     "output_type": "execute_result"
    }
   ],
   "source": []
  },
  {
   "cell_type": "code",
   "execution_count": null,
   "id": "822c27aa",
   "metadata": {},
   "outputs": [],
   "source": []
  }
 ],
 "metadata": {
  "kernelspec": {
   "display_name": "Python 3 (ipykernel)",
   "language": "python",
   "name": "python3"
  },
  "language_info": {
   "codemirror_mode": {
    "name": "ipython",
    "version": 3
   },
   "file_extension": ".py",
   "mimetype": "text/x-python",
   "name": "python",
   "nbconvert_exporter": "python",
   "pygments_lexer": "ipython3",
   "version": "3.9.7"
  }
 },
 "nbformat": 4,
 "nbformat_minor": 5
}
