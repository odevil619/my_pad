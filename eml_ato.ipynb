{
 "cells": [
  {
   "cell_type": "code",
   "execution_count": 1,
   "id": "75729df0",
   "metadata": {},
   "outputs": [],
   "source": [
    "from datetime import datetime\n",
    "import pytz"
   ]
  },
  {
   "cell_type": "code",
   "execution_count": 2,
   "id": "55b010c6",
   "metadata": {},
   "outputs": [
    {
     "data": {
      "text/plain": [
       "'15:25'"
      ]
     },
     "execution_count": 2,
     "metadata": {},
     "output_type": "execute_result"
    }
   ],
   "source": [
    "datetime.now(pytz.utc).strftime(\"%H:%M\")     #UTC"
   ]
  },
  {
   "cell_type": "code",
   "execution_count": 3,
   "id": "25618f98",
   "metadata": {},
   "outputs": [],
   "source": [
    "f = open(\"/home/jupyter/Desktop/jupyter/Realtimetest/lmnm\", \"r\")         #for password protection\n",
    "a=((f.read()).split('_')[6]) "
   ]
  },
  {
   "cell_type": "code",
   "execution_count": 5,
   "id": "49800313",
   "metadata": {},
   "outputs": [],
   "source": [
    "import pandas as pd\n",
    "import time\n",
    "import smtplib\n",
    "df=pd.read_csv('/home/jupyter/Desktop/jupyter/Realtimetest/file.csv')\n",
    "smtp= smtplib.SMTP('smtp.gmail.com',587)\n",
    "smtp.ehlo()\n",
    "smtp.starttls()\n",
    "smtp.ehlo()\n",
    "smtp.login('odevil619@gmail.com',a)\n",
    "while True:\n",
    "    tm=datetime.now(pytz.utc).strftime(\"%H:%M\") \n",
    "    print(tm)\n",
    "    dt=datetime.now(pytz.utc).strftime(\"%d/%m/%Y\") \n",
    "    print(dt)\n",
    "    if tm in list(df['time']) and dt in list(df['Date']):\n",
    "        it=df[df['time']==tm].index[0]\n",
    "        #id=df[df['Date']==dt].index\n",
    "        print('ok')\n",
    "        sub=df.iloc[it,1]\n",
    "        #print('sub',sub)\n",
    "        #print('body',body)\n",
    "        body=df.iloc[it,2]\n",
    "        email=df.iloc[it,0]\n",
    "        msg=f\"Subject: {sub}\\n\\n{body}\"\n",
    "        smtp.sendmail('odevil619@gmail.com',email,msg)\n",
    "        time.sleep(50)\n",
    "    time.sleep(10)"
   ]
  },
  {
   "cell_type": "code",
   "execution_count": null,
   "id": "1f834ed1",
   "metadata": {},
   "outputs": [],
   "source": []
  }
 ],
 "metadata": {
  "kernelspec": {
   "display_name": "Python 3 (ipykernel)",
   "language": "python",
   "name": "python3"
  },
  "language_info": {
   "codemirror_mode": {
    "name": "ipython",
    "version": 3
   },
   "file_extension": ".py",
   "mimetype": "text/x-python",
   "name": "python",
   "nbconvert_exporter": "python",
   "pygments_lexer": "ipython3",
   "version": "3.8.10"
  }
 },
 "nbformat": 4,
 "nbformat_minor": 5
}
